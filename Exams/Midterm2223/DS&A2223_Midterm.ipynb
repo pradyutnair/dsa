{
 "cells": [
  {
   "cell_type": "markdown",
   "metadata": {},
   "source": [
    "# Data Structures & Algorithms\n",
    "## Midterm, October 17, 2022"
   ]
  },
  {
   "cell_type": "markdown",
   "metadata": {},
   "source": [
    "-------------------------------"
   ]
  },
  {
   "cell_type": "markdown",
   "metadata": {},
   "source": [
    "You may use this notebook to develop answers for the exam questions, but afterwards you <u>must</u> copy your code to the `.py` template files and submit those. We cannot grade notebooks."
   ]
  },
  {
   "cell_type": "markdown",
   "metadata": {},
   "source": [
    "---"
   ]
  },
  {
   "cell_type": "markdown",
   "metadata": {},
   "source": [
    "## Exercise 1: Sum and product of three integers"
   ]
  },
  {
   "cell_type": "markdown",
   "metadata": {},
   "source": [
    "__One-line summary__\n",
    "\n",
    "You are given two integers, and you have to find three integers of which the sum makes the first of the two given integers, and the product makes the second of the two given integers.\n",
    "\n",
    "__Exercise description__\n",
    "\n",
    "The function `sum_and_product()` gets two parameters, which are both integers valued 0 or higher. You should find three integers (also 0 or higher), which, when added up, produce the first of the two parameters, and when multiplied with each other produce the second of the two parameters.\n",
    "\n",
    "For instance, if the first parameter is 15 and the second is 105, then three integers which produce these are 3, 5, and 7, because 3+5+7=15 and 3*5*7=105. \n",
    "\n",
    "You return the three integers as a tuple, where the three integers are ordered from low to high. In the example above, you return (3, 5, 7). \n",
    "\n",
    "If no solution can be found, you return (-1, -1, -1).\n",
    "\n",
    "__Examples__\n",
    "\n",
    "`sum_and_product( 100, 7038 )` returns `(3, 46, 51)`<br>\n",
    "`sum_and_product( 100, 98 )` returns `(1, 1, 98)`<br>\n",
    "`sum_and_product( 2, 0 )` returns `(-1, -1, -1)`\n"
   ]
  },
  {
   "cell_type": "code",
   "execution_count": null,
   "metadata": {
    "collapsed": true
   },
   "outputs": [],
   "source": [
    "# Name:\n",
    "# Student number:\n",
    "\n",
    "def sum_and_product( isum, iproduct ):\n",
    "    return -1, -1, -1\n",
    "    \n",
    "def main():\n",
    "    print( sum_and_product( 3+5+7, 3*5*7 ) )     # (3,5,7)\n",
    "    print( sum_and_product( 99, 33*33*33 ) )     # (33,33,33)\n",
    "    print( sum_and_product( 100, 33*33*34 ) )    # (33,33,34)\n",
    "    print( sum_and_product( 100, 7038 ) )        # (3,46,51)\n",
    "    print( sum_and_product( 100, 98 ) )          # (1,1,98)\n",
    "    print( sum_and_product( 100, 194 ) )         # (1,2,97)\n",
    "    print( sum_and_product( 3, 1 ) )             # (1,1,1)\n",
    "    print( sum_and_product( 4, 2 ) )             # (1,1,2)\n",
    "    print( sum_and_product( 0, 0 ) )             # (0,0,0)\n",
    "    print( sum_and_product( 2, 0 ) )             # (0,0,2) or (0, 1, 1)\n",
    "    print( sum_and_product( 2, 1 ) )             # (-1,-1,-1)\n",
    "    print( sum_and_product( 3, 2 ) )             # (-1,-1,-1)\n",
    "    print( sum_and_product( 100, 2000 ) )        # (-1,-1,-1)\n",
    "    \n",
    "if __name__ == \"__main__\":\n",
    "    main()"
   ]
  },
  {
   "cell_type": "markdown",
   "metadata": {},
   "source": [
    "---"
   ]
  },
  {
   "cell_type": "markdown",
   "metadata": {},
   "source": [
    "## Exercise 2: Comparing integers in files"
   ]
  },
  {
   "cell_type": "markdown",
   "metadata": {},
   "source": [
    "__One-line summary__\n",
    "\n",
    "In this exercise, you determine the fraction of numbers in one file which are higher than all the numbers in another file. \n",
    "\n",
    "__Exercise description__\n",
    "\n",
    "The function `compare_files()` gets two parameters, both of which are names of files. These files contain integers, one integer per line. They contain nothing else. You may assume that each file contains at least one number. The numbers in the files can appear in any order.\n",
    "\n",
    "The function determines the fraction of the integers in the second file which are higher than all the integers in the first file. I.e., suppose that the highest integer in the first file is 50, and there are 100 integers in the second file, of which 75 are 51 or higher, then the requested fraction is 0.75. The function returns this fraction.\n",
    "\n",
    "In case one or both of the file names are of files which do not exist, then the function returns -1. You do not need to check for any other file errors.\n",
    "\n",
    "__Example__\n",
    "\n",
    "`numbers1.txt` contains the numbers `0, 1, 1, 0, 2`<br>\n",
    "`numbers3.txt` contains the numbers `0, 1, 2, 3, 4, 5, 6, 7, 8, 9`<br>\n",
    "The highest number in `numbers1.txt` is 2, and there are 7 out of 10 numbers in `numbers3.txt` which are higher than 2. Thus the function returns 0.7.\n"
   ]
  },
  {
   "cell_type": "code",
   "execution_count": null,
   "metadata": {
    "collapsed": true
   },
   "outputs": [],
   "source": [
    "# Name:\n",
    "# Student number:\n",
    "\n",
    "from os.path import isfile\n",
    "\n",
    "def compare_files( file1, file2 ):\n",
    "    return -1\n",
    "    \n",
    "def main():\n",
    "    print( compare_files( \"numbers1.txt\", \"numbers2.txt\" ) ) # 0.4\n",
    "    print( compare_files( \"numbers1.txt\", \"numbers3.txt\" ) ) # 0.7\n",
    "    print( compare_files( \"numbers1.txt\", \"numbers4.txt\" ) ) # 0.8\n",
    "    print( compare_files( \"numbers1.txt\", \"numbers5.txt\" ) ) # 0.75\n",
    "    print( compare_files( \"numbers1.txt\", \"numbers6.txt\" ) ) # 0.8\n",
    "    print( compare_files( \"numbers2.txt\", \"numbers1.txt\" ) ) # 0.0\n",
    "    print( compare_files( \"numbers3.txt\", \"numbers4.txt\" ) ) # 0.1\n",
    "    print( compare_files( \"numbers4.txt\", \"numbers3.txt\" ) ) # 0.0\n",
    "    print( compare_files( \"numbers5.txt\", \"numbers6.txt\" ) ) # 0.8\n",
    "    print( compare_files( \"numbers6.txt\", \"numbers5.txt\" ) ) # 0.0\n",
    "    print( compare_files( \"numbers1.txt\", \"numbers5.txt\" ) ) # 0.75\n",
    "    print( compare_files( \"numbers5.txt\", \"numbers1.txt\" ) ) # 0.0\n",
    "\n",
    "if __name__ == \"__main__\":\n",
    "    main()"
   ]
  },
  {
   "cell_type": "markdown",
   "metadata": {},
   "source": [
    "---"
   ]
  },
  {
   "cell_type": "markdown",
   "metadata": {},
   "source": [
    "## Exercise 3: Most frequent N-gram"
   ]
  },
  {
   "cell_type": "markdown",
   "metadata": {},
   "source": [
    "__One-line summary__\n",
    "\n",
    "In this exercise you find the N-gram of a particular length which occurs the most in a string.\n",
    "\n",
    "__Context__\n",
    "\n",
    "An N-gram is a sequence of N letters. For instance, \"ABA\" is a 3-gram, while \"ABABC\" is a 5-gram. You can investigate N-grams which occur in a string. For instance, in the string \"ABABC\" there are three different 2-grams, namely: \"AB\", \"BA\", and \"BC\". The 2-gram \"AB\" occurs twice, as you can see. The string \"AAAAA\" contains only one 2-gram, namely \"AA\", which occurs four times.\n",
    "\n",
    "__Exercise description__\n",
    "\n",
    "Write a function `most_frequent_ngram()` which gets two parameters: a string which is a sequence of letters, and a positive integer which indicates a length. The function should return the N-gram of the specified length which occurs the most in the string. If there are multiple candidates which occur the most, you may return any of them (though in the test examples provided there is always only one answer). You may assume that the length specified is at least 1 and at most the length of the string.\n",
    "\n",
    "__Hint__\n",
    "\n",
    "A possible approach (though not the only approach) for this exercise is to build a dictionary where the N-grams are the keys and the values are the corresponding counts.\n",
    "\n",
    "__Examples__\n",
    "\n",
    "`most_frequent_ngram( \"AABBB\", 1 )` returns `\"B\"`, as the string contains 3 Bs and only 2 As.<br> \n",
    "`most_frequent_ngram( \"AABBB\", 2 )` returns `\"BB\"`, as the 2-gram BB occurs twice, and the other 2-grams (AA and AB) each only occur once.<br> \n",
    "`most_frequent_ngram( \"AABBB\", 5 )` returns `\"AABBB\"`, as there is only one 5-gram in this string, namely the whole string. \n"
   ]
  },
  {
   "cell_type": "code",
   "execution_count": null,
   "metadata": {
    "collapsed": true
   },
   "outputs": [],
   "source": [
    "# Name:\n",
    "# Student number:\n",
    "\n",
    "def most_frequent_ngram( letters, length ):\n",
    "    return \"\"\n",
    "    \n",
    "def main():\n",
    "    print( most_frequent_ngram( \"AABBB\", 1 ) ) # B\n",
    "    print( most_frequent_ngram( \"AABBB\", 2 ) ) # BB\n",
    "    print( most_frequent_ngram( \"AABBB\", 5 ) ) # AABBB\n",
    "    print( most_frequent_ngram( \"BABCAAABCBCACBCCABCCBAABCABABCABCA\", 1 ) ) # A\n",
    "    print( most_frequent_ngram( \"BABCAAABCBCACBCCABCCBAABCABABCABCA\", 2 ) ) # BC\n",
    "    print( most_frequent_ngram( \"BABCAAABCBCACBCCABCCBAABCABABCABCA\", 3 ) ) # ABC\n",
    "    print( most_frequent_ngram( \"AXYXXYYYXXXAXXXYYXYZYYXAZXYYXYXY\", 1 ) )   # X\n",
    "    print( most_frequent_ngram( \"AXYXXYYYXXXAXXXYYXYZYYXAZXYYXYXY\", 2 ) )   # XY\n",
    "    print( most_frequent_ngram( \"AXYXXYYYXXXAXXXYYXYZYYXAZXYYXYXY\", 3 ) )   # YYX\n",
    "    print( most_frequent_ngram( \"AXYXXYYYXXXAXXXYYXYZYYXAZXYYXYXY\", 5 ) )   # XYYXY\n",
    "\n",
    "if __name__ == \"__main__\":\n",
    "    main()"
   ]
  },
  {
   "cell_type": "markdown",
   "metadata": {
    "collapsed": true
   },
   "source": [
    "---"
   ]
  },
  {
   "cell_type": "markdown",
   "metadata": {},
   "source": [
    "## Exercise 4: Citizens"
   ]
  },
  {
   "cell_type": "markdown",
   "metadata": {},
   "source": [
    "__One-line summary__\n",
    "\n",
    "In this exercise, you create citizens which live in a city, where cities are part of a country; you calculate the average age of the citizens in a city, and of all the citizens in a country.\n",
    "\n",
    "__Exercise description__\n",
    "\n",
    "The exercise file contains a class `Citizen`, which has a `name` and an `age`.  This class is already complete.\n",
    "\n",
    "There is also a class `City`, which has a `name`. A city may house multiple citizens, which are added to the city using the method `add_citizen()`. The method `average_age()` calculates the average age over all citizens in the city. It returns -1 if there are no citizens in a city. You should create reasonable implementations for the methods `__init__()`, `add_citizen()`, `average_age()`, and `__repr__()`.      \n",
    "\n",
    "Finally, there is a class `Country`, which has a `name`.  A country may have multiple cities, which are added to the country using the method `add_city()`. The method `average_age()` calculates the average age over all citizens in the country. It returns -1 if there are no citizens in a country. You should create reasonable implementations for the methods `__init__()`, `add_city()`, `average_age()`, and `__repr__()`.      \n",
    "\n",
    "Below you find the UML diagram which describes the class structure to be created.\n",
    "\n",
    "<img src=\"Citizens.png\" alt=\"If you see no image here, make sure that the file Citizens.png is in the same folder as this notebook file.\" width=500></img>\n",
    "\n",
    "__Example__\n",
    "\n",
    "In the template code given, two cities are created, one with four citizens and one with six. These are added to a country. Average ages are printed for the cities and the country, and the correct answers are specified next to the print-statements."
   ]
  },
  {
   "cell_type": "code",
   "execution_count": null,
   "metadata": {
    "collapsed": true
   },
   "outputs": [],
   "source": [
    "# Name:\n",
    "# Student number:\n",
    "\n",
    "class Citizen():\n",
    "    def __init__( self, name, age ):\n",
    "        self.name = name\n",
    "        self.age = age\n",
    "    def __repr__( self ):\n",
    "        return f\"Citizen({self.name},{self.age})\"\n",
    "        \n",
    "class City():\n",
    "    def __init__( self, name ):\n",
    "        pass\n",
    "    def add_citizen( self, citizen ):\n",
    "        pass\n",
    "    def average_age( self ):\n",
    "        return -1\n",
    "    def __repr__( self ):\n",
    "        return \"\"\n",
    "        \n",
    "class Country():\n",
    "    def __init__( self, name ):\n",
    "        pass\n",
    "    def add_city( self, city ):\n",
    "        pass\n",
    "    def average_age( self ):\n",
    "        return -1\n",
    "    def __repr__( self ):\n",
    "        return \"\"\n",
    "        \n",
    "def main():\n",
    "    tilburg = City( \"Tilburg\" )\n",
    "    print( tilburg.average_age() ) # -1\n",
    "\n",
    "    tilburg.add_citizen( Citizen( \"Bob\", 25 ) )\n",
    "    tilburg.add_citizen( Citizen( \"Mary\", 31 ) )\n",
    "    tilburg.add_citizen( Citizen( \"Joseph\", 16 ) )\n",
    "    tilburg.add_citizen( Citizen( \"Julie\", 29 ) )\n",
    "    print( tilburg.average_age() ) # 25.25\n",
    "\n",
    "    denbosch = City( \"Den Bosch\" )\n",
    "    denbosch.add_citizen( Citizen( \"Albert\", 45 ) )\n",
    "    denbosch.add_citizen( Citizen( \"Bruce\", 51 ) )\n",
    "    denbosch.add_citizen( Citizen( \"Samantha\", 32 ) )\n",
    "    denbosch.add_citizen( Citizen( \"Henry\", 48 ) )\n",
    "    denbosch.add_citizen( Citizen( \"Erica\", 42 ) )\n",
    "    denbosch.add_citizen( Citizen( \"Sandy\", 46 ) )\n",
    "    print( denbosch.average_age() ) # 44.0\n",
    "\n",
    "    netherlands = Country( \"The Netherlands\" )\n",
    "    netherlands.add_city( tilburg )\n",
    "    netherlands.add_city( denbosch )\n",
    "    print( netherlands.average_age() ) # 36.5\n",
    "\n",
    "if __name__ == \"__main__\":\n",
    "    main()"
   ]
  },
  {
   "cell_type": "markdown",
   "metadata": {},
   "source": [
    "---"
   ]
  },
  {
   "cell_type": "markdown",
   "metadata": {},
   "source": [
    "## Exercise 5: Housing market"
   ]
  },
  {
   "cell_type": "markdown",
   "metadata": {},
   "source": [
    "__One-line summary__\n",
    "\n",
    "In this exercise you calculate the sales prices for different kinds of properties on the housing market, based on location and type of property.\n",
    "\n",
    "__Exercise description__\n",
    "\n",
    "The template file for the exercise contains a class `Location` and a class `Property`. A location has a `name` and a square-meter `price`. A property has a `name`, a `size`, and a `location`. The price of a property is calculated by multiplying the size by the square-meter price of the location. E.g., a property of size 100 with a square-meter price of 1000, costs 100,000. These two classes have already been implemented according to the given specifications. This calculation is done by a method `price()`.\n",
    "\n",
    "Three classes inherit from `Property`: `Apartment`, `House`, and `Castle`. You must implement these three classes. In particular, you have to ensure that the `price()` method for each of these classes calculates the correct price. Make sure that you implement the correct inheritance relationships! \n",
    "\n",
    "An `Apartment` is a `Property` and behaves just like the general property.\n",
    "\n",
    "A `House` is a `Property`. However, a house also has a garden, of which the size is specified when the house is created (i.e., the size of the garden is an extra, fourth parameter given to the `__init__()` method). To calculate the price of a house, to the size is added one-fourth of the size of the garden. E.g., if the size of a house is 100 and there is a garden of size 50, with a square-meter price of 1000, the price is 112,500. For the class `House`, you have to implement the methods `__init__()`, `price()`, and `__repr__()`.    \n",
    "\n",
    "A `Castle` is a `House`. As it may be difficult to find a buyer for a castle, the price of a castle is lowered for every day that it is for sale. Therefore, to the `price()` method of a castle an extra parameter is given, namely the number of days-for-sale. Lower the price of the castle by 0.02% for every day that it is for sale, with a maximum of 1000 days for sale (after 1000 days, the price is not lowered further). This entails that you multiply the calculated price by `(1-days_for_sale*0.0002)`. For the class `Castle`, you have to implement the method `price()`.\n",
    "\n",
    "Below you find the UML diagram which describes the class structure to be created.\n",
    "\n",
    "<img src=\"Housing_market.png\" alt=\"If you see no image here, make sure that the file Housing_market.png is in the same folder as this notebook file.\" width=400></img>\n",
    "\n",
    "__Example__\n",
    "\n",
    "In the template code given, two apartments, two houses (at two different locations), and a castle are created, and their prices are calculated. For the castle, the calculation is done for different numbers of days-for-sale. The correct answers are given next to the calculations. Most test code is commented out as it would crash without a correct implementation. Uncomment the code for the tests you wish to run."
   ]
  },
  {
   "cell_type": "code",
   "execution_count": null,
   "metadata": {
    "collapsed": true
   },
   "outputs": [],
   "source": [
    "# Name:\n",
    "# Student number:\n",
    "\n",
    "class Location:\n",
    "    def __init__( self, name, price ):\n",
    "        self.name = name\n",
    "        self.price = price\n",
    "    def __repr__( self ):\n",
    "        return f\"Location({self.name},{self.price})\"\n",
    "\n",
    "class Property:\n",
    "    def __init__( self, name, size, location ):\n",
    "        self.name = name\n",
    "        self.size = size\n",
    "        self.location = location\n",
    "    def price( self ):\n",
    "        return self.size * self.location.price\n",
    "    def __repr__( self ):\n",
    "        return f\"{self.__class__.__name__}({self.name},{self.size},{self.location})\"\n",
    "\n",
    "class Apartment( Property ):\n",
    "    pass\n",
    "\n",
    "class House( Property ):\n",
    "    pass\n",
    "\n",
    "class Castle( House ):\n",
    "    pass\n",
    "\n",
    "if __name__ == '__main__':\n",
    "    loc_upper = Location( \"Upper class\", 4000 )\n",
    "    loc_average = Location( \"Average\", 3200 )\n",
    "    loc_lower = Location( \"Lower class\", 2500 )\n",
    "    '''\n",
    "    high_rise_245 = Apartment( \"High Rise 245\", 80, loc_lower )\n",
    "    print( f\"{high_rise_245.name}: ${high_rise_245.price()}\" )\n",
    "    high_rise_188 = Apartment( \"High Rise 188\", 85, loc_lower )\n",
    "    print( f\"{high_rise_188.name}: ${high_rise_188.price()}\" )\n",
    "    \n",
    "    fifth_street_15 = House( \"5th Street 15\", 95, loc_average, 70 )\n",
    "    print( f\"{fifth_street_15.name}: ${fifth_street_15.price()}\" )\n",
    "    snooty_lane_1 = House( \"Snooty Lane 1\", 134, loc_upper, 220 )\n",
    "    print( f\"{snooty_lane_1.name}: ${snooty_lane_1.price()}\" )\n",
    "    \n",
    "    chivalric_towers = Castle( \"Chivalric Towers\", 742, loc_upper, 1270 )\n",
    "    print( f\"{chivalric_towers.name}: ${chivalric_towers.price(0)}\" )\n",
    "    print( f\"{chivalric_towers.name}: ${chivalric_towers.price(500)}\" )\n",
    "    print( f\"{chivalric_towers.name}: ${chivalric_towers.price(1000)}\" )\n",
    "    print( f\"{chivalric_towers.name}: ${chivalric_towers.price(2000)}\" )\n",
    "    '''\n",
    "    print( \"Done.\" )\n",
    "    \n",
    "# Output for tests:\n",
    "# High Rise 245: $200000\n",
    "# High Rise 188: $212500\n",
    "# 5th Street 15: $360000\n",
    "# Snooty Lane 1: $756000\n",
    "# Chivalric Towers: $4238000\n",
    "# Chivalric Towers: $3814200\n",
    "# Chivalric Towers: $3390400\n",
    "# Chivalric Towers: $3390400"
   ]
  },
  {
   "cell_type": "markdown",
   "metadata": {},
   "source": [
    "---"
   ]
  },
  {
   "cell_type": "markdown",
   "metadata": {},
   "source": [
    "End of Exam. Version 1.0."
   ]
  }
 ],
 "metadata": {
  "kernelspec": {
   "display_name": "Python 3",
   "language": "python",
   "name": "python3"
  },
  "language_info": {
   "codemirror_mode": {
    "name": "ipython",
    "version": 3
   },
   "file_extension": ".py",
   "mimetype": "text/x-python",
   "name": "python",
   "nbconvert_exporter": "python",
   "pygments_lexer": "ipython3",
   "version": "3.6.1"
  }
 },
 "nbformat": 4,
 "nbformat_minor": 1
}
