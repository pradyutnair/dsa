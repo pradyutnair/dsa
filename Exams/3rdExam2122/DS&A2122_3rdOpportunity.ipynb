{
 "cells": [
  {
   "cell_type": "markdown",
   "metadata": {},
   "source": [
    "# Data Structures & Algorithms\n",
    "## 3rd Opportunity, April 30, 2022"
   ]
  },
  {
   "cell_type": "markdown",
   "metadata": {},
   "source": [
    "-------------------------------"
   ]
  },
  {
   "cell_type": "markdown",
   "metadata": {},
   "source": [
    "You may use this notebook to develop answers for the exam questions, but afterwards you <u>must</u> copy your code to the `.py` template files and submit those. We cannot grade notebooks."
   ]
  },
  {
   "cell_type": "markdown",
   "metadata": {},
   "source": [
    "---"
   ]
  },
  {
   "cell_type": "markdown",
   "metadata": {},
   "source": [
    "## Exercise 1: Same letters"
   ]
  },
  {
   "cell_type": "markdown",
   "metadata": {},
   "source": [
    "__One-line summary__\n",
    "\n",
    "In this exercise you extract from a list of words all the words that have the same letters as a given word.\n",
    "\n",
    "__Exercise description__\n",
    "\n",
    "The function `same_letters()` gets two parameters: a string `word`, and a list of strings `wordlist`. The function creates an output list of those words in `wordlist` which contain the same letters as `word`, and returns that output list. Words in the output list should remain in the same order as they were in `wordlist`.\n",
    "\n",
    "\"Containing the same letters\" means that the output list contains those words which contain each letter in `word` at least once, and no letters that are not in `word`.\n",
    "\n",
    "The letters do not have to occur the same number of times. For instance, if `word` is \"barber\" and the word \"bear\" is in `wordlist`, then \"bear\" goes in the output list, even though it only contains one \"b\" and one \"r\" while \"barber\" contains two of each. The same also holds in the reverse order: if `word` is \"bear\" and \"barber\" is in `wordlist`, then \"barber\" goes in the output list, even though it contains the \"b\" and \"r\" twice, while \"bear\" only contains them once. \n",
    "\n",
    "You may assume that all the words consist of lower-case letters of the alphabet only.\n",
    "\n",
    "__Examples__\n",
    "\n",
    "`same_letters( \"bear\",   [ \"bare\", \"beer\", \"barber\", \"bar\", \"bears\" ] )`\n",
    "returns `['bare', 'barber']`<br>\n",
    "`same_letters( \"barber\", [ \"bare\", \"beer\", \"bear\", \"bar\", \"bears\" ] )`\n",
    "returns `['bare', 'bear']`<br>\n",
    "`same_letters( \"grape\",  [ \"pear\", \"banana\", \"raspberry\" ] )`\n",
    "returns `[]`"
   ]
  },
  {
   "cell_type": "code",
   "execution_count": null,
   "metadata": {
    "collapsed": true
   },
   "outputs": [],
   "source": [
    "# Name:\n",
    "# Student number:\n",
    "\n",
    "def same_letters( word, wordlist ):\n",
    "    return []\n",
    "    \n",
    "def main():\n",
    "    print( same_letters( \"bear\",   [ \"bare\", \"beer\", \"barber\", \"bar\", \"bears\" ] ) )\n",
    "    # ['bare', 'barber']\n",
    "    print( same_letters( \"barber\", [ \"bare\", \"beer\", \"bear\", \"bar\", \"bears\" ] ) )\n",
    "    # ['bare', 'bear']\n",
    "    print( same_letters( \"hearth\", [ \"earth\", \"heart\", \"there\", \"theater\", \"theaters\" ] ) ) \n",
    "    # ['earth', 'heart', 'theater']\n",
    "    print( same_letters( \"berry\",  [ \"strawberry\", \"grape\", \"banana\", \"raspberry\" ] ) )\n",
    "    # []\n",
    "    print( same_letters( \"grape\",  [ \"pear\", \"banana\", \"raspberry\" ] ) )\n",
    "    # []\n",
    "    print( same_letters( \"least\",  [ \"latest\", \"last\", \"stale\", \"stalest\", \"slate\", \"stalls\", \"pastel\" ] ) )\n",
    "    # ['latest', 'stale', 'stalest', 'slate']\n",
    "    \n",
    "if __name__ == \"__main__\":\n",
    "    main()"
   ]
  },
  {
   "cell_type": "markdown",
   "metadata": {},
   "source": [
    "---"
   ]
  },
  {
   "cell_type": "markdown",
   "metadata": {},
   "source": [
    "## Exercise 2: Happy numbers"
   ]
  },
  {
   "cell_type": "markdown",
   "metadata": {},
   "source": [
    "__One-line summary__\n",
    "\n",
    "In this exercise, you determine whether a number is a happy number. \n",
    "\n",
    "__Context__\n",
    "\n",
    "Take an integer, and add up the squares of its digits. This gives a new integer. Repeat the procedure with the new integer, and continue repeating the procedure until one of two things happens: (1) you end up at 1, or (2) you end up at an integer that you already had before. If you end up at 1, the integer you started with is \"happy.\" Otherwise, it is \"sad.\" Integers 0 and lower are \"sad\" by definition.\n",
    "\n",
    "Here are two examples:\n",
    "\n",
    "13 is happy, because 1<sup>2</sup>+3<sup>2</sup>=10, and 1<sup>2</sup>+0<sup>2</sup>=1, so you end up at 1.\n",
    "\n",
    "4 is sad, because 4<sup>2</sup>=16, 1<sup>2</sup>+6<sup>2</sup>=37, 3<sup>2</sup>+7<sup>2</sup>=58, 5<sup>2</sup>+8<sup>2</sup>=89, 8<sup>2</sup>+9<sup>2</sup>=145, 1<sup>2</sup>+4<sup>2</sup>+5<sup>2</sup>=42, 4<sup>2</sup>+2<sup>2</sup>=20, 2<sup>2</sup>+0<sup>2</sup>=4, and so we end up at 4 again.\n",
    "\n",
    "Note: the procedure is guaranteed to end (this is easy to prove mathematically, but we won't bother you with that), so if you implement it correctly you do not have to be afraid of endless loops. \n",
    "\n",
    "__Exercise description__\n",
    "\n",
    "Write a function `happy()` which takes one argument, namely an integer. The function determines whether the argument is \"happy.\" If it is, the function returns `True`, otherwise `False`.\n",
    "\n",
    "__Examples__\n",
    "\n",
    "`happy( 0 )` returns `False`<br>\n",
    "`happy( 4 )` returns `False`<br>\n",
    "`happy( 13 )` returns `True`"
   ]
  },
  {
   "cell_type": "code",
   "execution_count": null,
   "metadata": {
    "collapsed": true
   },
   "outputs": [],
   "source": [
    "# Name:\n",
    "# Student number:\n",
    "\n",
    "def happy( num ):\n",
    "    return False\n",
    "    \n",
    "def main():\n",
    "    print( happy( 0 ) )     # False\n",
    "    print( happy( 1 ) )     # True\n",
    "    print( happy( 2 ) )     # False\n",
    "    print( happy( 7 ) )     # True\n",
    "    print( happy( 18 ) )    # False\n",
    "    print( happy( 19 ) )    # True\n",
    "    print( happy( 108 ) )   # False\n",
    "    print( happy( 109 ) )   # True\n",
    "    print( happy( 1111 ) )  # False\n",
    "    print( happy( 1112 ) )  # True\n",
    "    print( happy( 123455 ) )# False\n",
    "    print( happy( 123456 ) )# True\n",
    "    \n",
    "if __name__ == \"__main__\":\n",
    "    main()"
   ]
  },
  {
   "cell_type": "markdown",
   "metadata": {},
   "source": [
    "---"
   ]
  },
  {
   "cell_type": "markdown",
   "metadata": {},
   "source": [
    "## Exercise 3: Removing comments from a file"
   ]
  },
  {
   "cell_type": "markdown",
   "metadata": {},
   "source": [
    "__One-line summary__\n",
    "\n",
    "In this exercise you remove comments from a file which are marked by `\"/*\"` and `\"*/\"`.\n",
    "\n",
    "__Exercise description__\n",
    "\n",
    "Write a function `remove_comments()` which gets two string parameters: the name of an input file and the name of an output file. The function reads the contents of the input file, removes all the comments from the contents, and writes the adapted contents to the output file. It returns the number of characters written to the output file. If the input file does not exist, the function returns `-1`. You do not need to check for any other file errors.\n",
    "\n",
    "The start of a comment is marked with the two-character combination `\"/*\"` (forward slash followed by asterisk). The end of the comment is marked by the first occurrence of the two-character combination `\"*/\"` after the start of the comment. The start and end of the comment are considered to be part of the comment, so when you remove a comment, they have to be removed as well.\n",
    "\n",
    "A few remarks:\n",
    "<ul>\n",
    "<li>Comments may stretch over multiple lines of a file.</li> \n",
    "<li>There may be more than one comment in a file.</li> \n",
    "<li>There is no overlap between the start and end of a comment, so the combination `\"/*/\"` is not the start and end of a comment, but the combination `\"/**/\"` is the start and end of a comment.</li>\n",
    "<li>If you find the start of a comment which is never followed by the end of a comment, or the end of a comment which is not preceded by the start of a comment, then those are not comments.</li>\n",
    "<li>Comments are never \"nested,\" so you only need to search for the first occurrence of the end of a comment after the start of a comment and not take into account what is actually in the comment.</li>\n",
    "</ul>\n",
    "\n",
    "__Example__\n",
    "\n",
    "If the input file contains the following three lines (without a newline at the end of the last line):\n",
    "\n",
    "`XX/* comment */XX/* Another\n",
    "comment */XX\n",
    "XXX/**/XXX`\n",
    "\n",
    "then the output file will contain the following two lines:\n",
    "\n",
    "`XXXXXX\n",
    "XXXXXX`\n",
    "\n",
    "and the function returns `13` (12 Xs and one newline). "
   ]
  },
  {
   "cell_type": "code",
   "execution_count": null,
   "metadata": {
    "collapsed": true
   },
   "outputs": [],
   "source": [
    "# Name:\n",
    "# Student number:\n",
    "\n",
    "from os.path import isfile\n",
    "\n",
    "def remove_comments( infile, outfile ):\n",
    "    return -1\n",
    "    \n",
    "def main():\n",
    "    print( remove_comments( \"infile1.txt\", \"outfile1.txt\" ) ) # 13\n",
    "    print( remove_comments( \"infile2.txt\", \"outfile2.txt\" ) ) # 883\n",
    "    print( remove_comments( \"infile3.txt\", \"outfile3.txt\" ) ) # 110\n",
    "    print( remove_comments( \"infile4.txt\", \"outfile4.txt\" ) ) # 0\n",
    "    print( remove_comments( \"infile5.txt\", \"outfile5.txt\" ) ) # 121\n",
    "    print( remove_comments( \"doesnotexist.txt\", \"willnotbecreated.txt\" ) ) # -1\n",
    "    \n",
    "if __name__ == \"__main__\":\n",
    "    main()"
   ]
  },
  {
   "cell_type": "markdown",
   "metadata": {
    "collapsed": true
   },
   "source": [
    "---"
   ]
  },
  {
   "cell_type": "markdown",
   "metadata": {},
   "source": [
    "## Exercise 4: Tree"
   ]
  },
  {
   "cell_type": "markdown",
   "metadata": {},
   "source": [
    "__One-line summary__\n",
    "\n",
    "In this exercise, you examine a tree in which each node can have an arbitrary number of branches; you count the number of nodes in the tree and search for a value in the tree.\n",
    "\n",
    "__Context__\n",
    "\n",
    "When trees are used in software, they are often binary trees, but not necessarily so. A node in a tree can have any number of branches, if it stores references to the branches in, for instance, a list. \n",
    "\n",
    "__Exercise description__\n",
    "\n",
    "The exercise file contains a class `Node`, which has a value and a list of nodes. The nodes in the list are the roots of the subtrees which form the branches under the node. If the list is empty, then the node is a leaf node. \n",
    "\n",
    "Two methods in the class `Node` must be implemented.\n",
    "\n",
    "The method `numnodes()` gets no arguments, and returns the number of nodes in the (sub)tree of which the node is the root (this includes the node itself).\n",
    "\n",
    "The method `find()` gets one argument, namely a value, and returns `True` if the value is found somewhere in the tree, and `False` otherwise. As there is no ordering in the implementation of the tree, you will have to search the entire tree to find the value. You can do this using a depth-first search or a breadth-first search (your choice).\n",
    "\n",
    "__Example__\n",
    "\n",
    "The following code creates a tree with three levels, with value 1 at the top level, values 2 to 4 at the second level, and values 5 and 6 at the third level below 2. This tree has 6 nodes, and the method `find()` returns `True` for values 1 to 6, and `False` for any other value.\n",
    "\n",
    "`tree = Node(1,[Node(2,[Node(5,[]),Node(6,[])]),Node(3,[]),Node(4,[])])`<br>\n",
    "`print( tree.numnodes() )`<br>\n",
    "`for i in range( 10 ):`<br>\n",
    "&nbsp;&nbsp;&nbsp;&nbsp;&nbsp;&nbsp;&nbsp;&nbsp;`print( i, tree.find( i ) )`\n",
    "\n",
    "__Note__\n",
    "\n",
    "Your code must actually traverse the tree. Trying to use a string representation of the tree created with the `__repr__()` method is considered wrong (we state this explicitly as some students tried to do this on a previous exam).  "
   ]
  },
  {
   "cell_type": "code",
   "execution_count": null,
   "metadata": {
    "collapsed": true
   },
   "outputs": [],
   "source": [
    "# Name:\n",
    "# Student number:\n",
    "\n",
    "class Node:\n",
    "    def __init__( self, value, nodes ):\n",
    "        self.value = value\n",
    "        self.nodes = nodes\n",
    "    def find( self, num ):\n",
    "        return False\n",
    "    def numnodes( self ):\n",
    "        return -1\n",
    "    def __repr__( self ):\n",
    "        return f\"Node({self.value},{self.nodes})\"\n",
    "\n",
    "def main():\n",
    "    tree = Node(1,[Node(2,[Node(5,[]),Node(6,[])]),Node(3,[]),Node(4,[])])\n",
    "    print( tree.numnodes() )            # 6\n",
    "    for i in range( 10 ):\n",
    "        print( i, tree.find( i ) )      # False for 0 and 7 and higher,\n",
    "                                        # True for 1 to 6.\n",
    "    tree = Node(1,[Node(2,[Node(5,[Node(10,[]),Node(11,[])]),Node(6,[])]),\\\n",
    "        Node(3,[Node(7,[Node(12,[]),Node(13,[]),Node(14,[Node(15,[])])])]),\\\n",
    "        Node(4,[Node(8,[Node(16,[]),Node(17,[Node(20,[])]),Node(18,[]),Node(19,[])]),\\\n",
    "        Node(9,[Node(21,[Node(22,[])])])])])\n",
    "    print( tree.numnodes() )            # 22\n",
    "    for i in range( 30 ):\n",
    "        print( i, tree.find( i ) )      # False for 0 and 23 and higher,\n",
    "                                        # True for 1 to 22.\n",
    "    \n",
    "if __name__ == \"__main__\":\n",
    "    main()"
   ]
  },
  {
   "cell_type": "markdown",
   "metadata": {},
   "source": [
    "---"
   ]
  },
  {
   "cell_type": "markdown",
   "metadata": {},
   "source": [
    "## Exercise 5: Reverse"
   ]
  },
  {
   "cell_type": "markdown",
   "metadata": {},
   "source": [
    "__One-line summary__\n",
    "\n",
    "In this exercise you have to determine the time complexity of five functions which reverse a string.\n",
    "\n",
    "__Exercise description__\n",
    "\n",
    "Each of the functions, which are all named `reverse_`<i>x</i>`()` (<i>x</i> being a number), gets one parameter: `sentence` which is a string. The function returns the reverse of this string.\n",
    "\n",
    "For each of the functions, write as a comment in the file what the time complexity is (immediately below the function), and give a brief explanation on how you determined this. If you do not add an explanation, the answer is automatically considered to be wrong. In your big-O notation of the time complexity, you may use `n` to refer to the length of the string.\n",
    "\n",
    "__Background information__\n",
    "\n",
    "You may assume the following:\n",
    "<ul>\n",
    "<li>Concatenating two strings, one of length `m` and one of length `n`, is `O(m+n)`</li>\n",
    "<li>Taking a substring of length `n` from a string is `O(n)`</li>\n",
    "<li>The iterator `range()` is `O(1)`</li>\n",
    "<li>The function `len()` is `O(1)`</li>\n",
    "<li>Using the `list()` function on a string of length `n` is `O(n)`</li>\n",
    "<li>The string method `join()` is `O(n)`, where `n` is the length of the list argument</li>\n",
    "<li>The list method `reverse()` is `O(n)`, where `n` is the length of the list</li>\n",
    "</ul>\n",
    "Here are descriptions of the algorithms:\n",
    "<ul>\n",
    "<li>`reverse_1()` takes each letter of the string one by one and adds it at the start of a new string.</li>\n",
    "<li>`reverse_2()` processes the letters of the string by index from last to first, and adds them to a new string.</li>\n",
    "<li>`reverse_3()` removes the last letter from the string and adds it to a new string, continuing to do this until the original string is empty.</li>\n",
    "<li>`reverse_4()` turns the string into a list, reverses the list, and then joins the list to become a new string.</li>\n",
    "<li>`reverse_5()` recursively splits the string into the first letter and the rest of the string, and then adds the first letter to the end of what the recursive call returns.</li>\n",
    "</ul>"
   ]
  },
  {
   "cell_type": "code",
   "execution_count": null,
   "metadata": {
    "collapsed": true
   },
   "outputs": [],
   "source": [
    "# Name:\n",
    "# Student number:\n",
    "\n",
    "# reverse_1() takes each letter of the string one by one and adds it \n",
    "# at the start of a new string.\n",
    "def reverse_1( sentence ):\n",
    "    newsentence = \"\"\n",
    "    for c in sentence:\n",
    "        newsentence = c + newsentence\n",
    "    return newsentence\n",
    "\n",
    "# reverse_2() processes the letters of the string by index from last \n",
    "# to first, and adds them to a new string.\n",
    "def reverse_2( sentence ):\n",
    "    newsentence = \"\"\n",
    "    for i in range( len( sentence )-1, -1, -1 ):\n",
    "        newsentence += sentence[i]\n",
    "    return newsentence\n",
    "\n",
    "# reverse_3() removes the last letter from the string and adds it to \n",
    "# a new string, continuing to do this until the original string is empty.\n",
    "def reverse_3( sentence ):\n",
    "    newsentence = \"\"\n",
    "    while len( sentence ) > 0:\n",
    "        newsentence += sentence[-1]\n",
    "        sentence = sentence[:-1]\n",
    "    return newsentence\n",
    "    \n",
    "# reverse_4() turns the string into a list, reverses the list, and then \n",
    "# joins the list to become a new string.\n",
    "def reverse_4( sentence ):\n",
    "    listsentence = list( sentence )\n",
    "    listsentence.reverse()\n",
    "    return \"\".join( listsentence )\n",
    "\n",
    "# reverse_5() recursively splits the string into the first letter and \n",
    "# the rest of the string, and then adds the first letter to the end of \n",
    "# what the recursive call returns.\n",
    "def reverse_5( sentence ):\n",
    "    if len( sentence ) <= 1:\n",
    "        return sentence\n",
    "    return reverse_5( sentence[1:] ) + sentence[0]\n",
    "    \n",
    "def main():\n",
    "    print( reverse_1( \"carbonhydroxide\" ) )\n",
    "    print( reverse_2( \"carbonhydroxide\" ) )\n",
    "    print( reverse_3( \"carbonhydroxide\" ) )\n",
    "    print( reverse_4( \"carbonhydroxide\" ) )\n",
    "    print( reverse_5( \"carbonhydroxide\" ) )\n",
    "    \n",
    "if __name__ == '__main__':\n",
    "    main()"
   ]
  },
  {
   "cell_type": "markdown",
   "metadata": {},
   "source": [
    "---"
   ]
  },
  {
   "cell_type": "markdown",
   "metadata": {},
   "source": [
    "End of Exam. Version 1.0."
   ]
  }
 ],
 "metadata": {
  "kernelspec": {
   "display_name": "Python 3",
   "language": "python",
   "name": "python3"
  },
  "language_info": {
   "codemirror_mode": {
    "name": "ipython",
    "version": 3
   },
   "file_extension": ".py",
   "mimetype": "text/x-python",
   "name": "python",
   "nbconvert_exporter": "python",
   "pygments_lexer": "ipython3",
   "version": "3.6.1"
  }
 },
 "nbformat": 4,
 "nbformat_minor": 1
}
