{
 "cells": [
  {
   "cell_type": "markdown",
   "metadata": {},
   "source": [
    "# Data Structures & Algorithms\n",
    "## Resit, January 19, 2022"
   ]
  },
  {
   "cell_type": "markdown",
   "metadata": {},
   "source": [
    "-------------------------------"
   ]
  },
  {
   "cell_type": "markdown",
   "metadata": {},
   "source": [
    "You may use this notebook to develop answers for the exam questions, but afterwards you <u>must</u> copy your code to the `.py` template files and submit those. We cannot grade notebooks."
   ]
  },
  {
   "cell_type": "markdown",
   "metadata": {},
   "source": [
    "---"
   ]
  },
  {
   "cell_type": "markdown",
   "metadata": {},
   "source": [
    "## Exercise 1: Armstrong numbers in range"
   ]
  },
  {
   "cell_type": "markdown",
   "metadata": {},
   "source": [
    "<b>One-line summary</b>\n",
    "\n",
    "In this exercise, you return all the Armstrong numbers between two integers.\n",
    "\n",
    "<b>Context</b>\n",
    "\n",
    "Armstrong numbers are numbers the digits of which, when cubed and summed, are equal to the number itself. For example, the number 153 has the digits 1, 5, and 3; 1<sup>3</sup> + 5<sup>3</sup> + 3<sup>3</sup> = 153, which means that 153 is an Armstrong number. Note: 0 and 1 are also Armstrong numbers.\n",
    "\n",
    "<b>Exercise description</b>\n",
    "\n",
    "Write a function `armstrong_range()` which takes two arguments, `start` and `finish`, which specify the lower and upper bound of a range of integers. Both `start` and `finish` are 0 or greater, and `finish` is greater than or equal to `start`. The function checks whether each number in the range, starting from start and ending with finish, is an Armstrong number.\n",
    "\n",
    "The function returns a list of all Armstrong numbers in the range provided.\n",
    "\n",
    "<b>Examples</b>\n",
    "\n",
    "`armstrong_range( 0, 1000 )` returns `[0, 1, 153, 370, 371, 407]`<br>\n",
    "`armstrong_range( 0, 100 )` returns `[0, 1]`<br>\n",
    "`armstrong_range( 100, 370 )` returns `[153, 370]`<br>\n",
    "`armstrong_range( 50, 100 )` returns `[]`<br>\n",
    "`armstrong_range( 407, 407 )` returns `[407]`<br>\n"
   ]
  },
  {
   "cell_type": "code",
   "execution_count": null,
   "metadata": {
    "collapsed": true
   },
   "outputs": [],
   "source": [
    "# Name:\n",
    "# Student number:\n",
    "\n",
    "def armstrong_range( start, finish ):\n",
    "    return []\n",
    "\n",
    "def main():\n",
    "    print( armstrong_range( 0, 1000 ) ) # [0, 1, 153, 370, 370, 371, 407]\n",
    "    print(armstrong_range( 0, 100 ) )   # [0, 1]\n",
    "    print( armstrong_range( 100, 370 ) )# [153, 370]\n",
    "    print( armstrong_range( 50, 100 ) ) # []\n",
    "    print( armstrong_range( 407, 407 ) )# [407]\n",
    "    print( armstrong_range( 0, 153 ) )  # [0, 1, 153]\n",
    "\n",
    "if __name__ == \"__main__\":\n",
    "    main()\n"
   ]
  },
  {
   "cell_type": "markdown",
   "metadata": {},
   "source": [
    "---"
   ]
  },
  {
   "cell_type": "markdown",
   "metadata": {},
   "source": [
    "## Exercise 2: Count substrings in file"
   ]
  },
  {
   "cell_type": "markdown",
   "metadata": {},
   "source": [
    "<b>One-line summary</b>\n",
    "\n",
    "In this exercise you search the contents of a file for substrings in unique words and return how many there are.\n",
    "\n",
    "<b>Exercise description</b>\n",
    "\n",
    "The function `find_substrings_in_file()` gets two parameters: a `file` name and a `target` substring. The function returns an integer that is the number of words in the file that contain the `target`, without counting duplicate words multiple times.\n",
    "\n",
    "For example, if the target is \"Blitz\" and there are three instances of the word \"Blitzkrieg\" and one instance of \"Blitzkreeg\" in the file, then the integer returned should be 2 (assuming that no other words in the file contain \"Blitz\").\n",
    "\n",
    "You may assume that words only consist of letters of the alphabet, and that all other characters in the file are punctuation. I.e., \"didn't\" is considered to be two words, \"didn\" and \"t\". Handle the words in the file case-sensitively.\n",
    "\n",
    "If the target is an empty string, since an empty string is a substring of any word, the function will return the total number of unique words in the file.\n",
    "\n",
    "If the file does not exist, return -1. You do not need to handle any other file errors.\n",
    "\n",
    "<b>Examples</b>\n",
    "\n",
    "For the file \"wikipedia.txt\":\n",
    "\n",
    "If the target is \"recipient\", the function returns 2. There are four words in the file which contain \"recipient\" as substring, namely twice the word \"recipient\" and twice the word \"recipients\". This means that there are two different words which contain \"recipient\" as substring, and thus the return value is 2.\n",
    "\n",
    "If the target is \"R\", the function returns 4, since in the file the words `Rockerfeller`, `Rockefeller`, `Russion`, and `Russian` all contain \"R\". The word `Russian` occurs twice, so you count it only once. \n"
   ]
  },
  {
   "cell_type": "code",
   "execution_count": null,
   "metadata": {
    "collapsed": true
   },
   "outputs": [],
   "source": [
    "# Name:\n",
    "# Student number:\n",
    "\n",
    "from os.path import isfile\n",
    "\n",
    "def find_substrings_in_file( file, target ):\n",
    "    return -1\n",
    "\n",
    "def main():\n",
    "    print( find_substrings_in_file( \"wikipedia.txt\", \"year\" ) )      # 4\n",
    "    print( find_substrings_in_file( \"wikipedia.txt\", \"Year\" ) )      # 0\n",
    "    print( find_substrings_in_file( \"wikipedia.txt\", \"ear\" ) )       # 35\n",
    "    print( find_substrings_in_file( \"wikipedia.txt\", \"r\" ) )         # 2056\n",
    "    print( find_substrings_in_file( \"wikipedia.txt\", \"R\" ) )         # 4\n",
    "    print( find_substrings_in_file( \"wikipedia.txt\", \"recipient\" ) ) # 2\n",
    "    print( find_substrings_in_file( \"jeeves7.txt\", \"zab\" ) )         # 1\n",
    "    print( find_substrings_in_file( \"jeeves7.txt\", \"favor\" ) )       # 0\n",
    "    print( find_substrings_in_file( \"jeeves7.txt\", \"our\" ) )         # 11\n",
    "    print( find_substrings_in_file( \"jeeves7.txt\", \"\" ) )            # 1251\n",
    "    print( find_substrings_in_file( \"doesnotexist.txt\", \"our\" ) )    # -1\n",
    "\n",
    "if __name__ == \"__main__\":\n",
    "    main()\n",
    "    "
   ]
  },
  {
   "cell_type": "markdown",
   "metadata": {},
   "source": [
    "---"
   ]
  },
  {
   "cell_type": "markdown",
   "metadata": {},
   "source": [
    "## Exercise 3: Keeping order in a queue                     "
   ]
  },
  {
   "cell_type": "markdown",
   "metadata": {},
   "source": [
    "<b>One-line summary</b>\n",
    "\n",
    "In this exercise you will be keeping track of the order in which people arrive to a queue.\n",
    "\n",
    "<b>Exercise description</b>\n",
    "    \n",
    "The code given for this exercise contains two classes: `SingleNode` and `Queue`. `Queue` is actually a `SingleLinkedList`, as introduced in the course. The code for this class (which is taken directly from the notebooks) contains methods `__init__()`, `add()`, `append()`, and `remove()`. `add()` adds a new `SingleNode` at the head of the `Queue`, `append()` appends a new `SingleNode` at the tail of the `Queue`, and `remove()` removes the `SingleNode` which is at the head of the `Queue` (if the `Queue` is not empty, otherwise it will generate an exception). \n",
    "\n",
    "The `Queue` will be used to keep track of a line of people. New arrivals will either go to the tail of the queue, or will be placed at the head of the queue (depending on whether `add()` or `append()` is used). Someone may get removed from the queue; if so, this is done with the `remove()` method, so they will be removed from the head of the queue.\n",
    "\n",
    "In this exercise you have to implement the method `orderOfArrival()` for the `Queue`, which returns a string that tells us the order in which people have arrived to join the queue (separating the names of the people with the word \"then\"), regardless of whether they were added to its head or its tail.\n",
    "\n",
    "When creating your solution, you are allowed to change the existing methods of the class `Queue` (in fact, that is pretty much necessary). You may also make changes to the `SingleNode` class if you want. You may assume that the `remove()` method is only used when there is at least one person in the queue.\n",
    "\n",
    "<b>Examples</b>\n",
    "    \n",
    "`queue1 = Queue()`<br>\n",
    "`queue1.append(\"Bobby\")`<br>\n",
    "`queue1.add(\"Xerxes\")`<br>\n",
    "`print( queue1.orderOfArrival() )`\n",
    "\n",
    "Should return: `Bobby then Xerxes`\n"
   ]
  },
  {
   "cell_type": "code",
   "execution_count": null,
   "metadata": {
    "collapsed": true
   },
   "outputs": [],
   "source": [
    "# Name:\n",
    "# Student number:\n",
    "\n",
    "class SingleNode:\n",
    "    def __init__( self, value, nextnode ):\n",
    "        self.value = value\n",
    "        self.nextnode = nextnode\n",
    "        \n",
    "class Queue:\n",
    "    def __init__( self ):\n",
    "        self.head = None\n",
    "        self.tail = None\n",
    "    def add( self, value ):\n",
    "        node = SingleNode( value, self.head )\n",
    "        self.head = node\n",
    "        if self.tail == None:\n",
    "            self.tail = self.head\n",
    "    def remove( self ):\n",
    "        if self.head == self.tail:\n",
    "            self.head = None\n",
    "            self.tail = None\n",
    "        else:\n",
    "            self.head = self.head.nextnode\n",
    "    def append( self, value ):\n",
    "        node = SingleNode( value, None )\n",
    "        if self.tail == None:\n",
    "            self.head = node\n",
    "            self.tail = node\n",
    "        else:\n",
    "            self.tail.nextnode = node\n",
    "            self.tail = node\n",
    "    def orderOfArrival( self ):\n",
    "        order = \"\"\n",
    "        return order\n",
    "\n",
    "queue1 = Queue()\n",
    "queue1.add(\"Bobby\")\n",
    "queue1.add(\"Xerxes\")\n",
    "queue1.add(\"Astrid\")\n",
    "queue1.add(\"Angela\")\n",
    "queue1.add(\"George\")\n",
    "\n",
    "queue2 = Queue()\n",
    "queue2.append(\"Bobby\")\n",
    "queue2.append(\"Xerxes\")\n",
    "queue2.append(\"Astrid\")\n",
    "queue2.append(\"Angela\")\n",
    "queue2.append(\"George\")\n",
    "\n",
    "queue3 = Queue()\n",
    "queue3.append(\"Bobby\")\n",
    "queue3.add(\"Xerxes\")\n",
    "queue3.add(\"Astrid\")\n",
    "queue3.append(\"Angela\")\n",
    "queue3.add(\"George\")\n",
    "\n",
    "queue4 = Queue()\n",
    "queue4.append(\"Bobby\")\n",
    "queue4.add(\"Xerxes\")\n",
    "queue4.add(\"Astrid\")\n",
    "queue4.append(\"Angela\")\n",
    "queue4.add(\"George\")\n",
    "queue4.remove()\n",
    "queue4.remove()\n",
    "\n",
    "print( queue1.orderOfArrival() ) # Bobby then Xerxes then Astrid then Angela then George\n",
    "print( queue2.orderOfArrival() ) # Bobby then Xerxes then Astrid then Angela then George\n",
    "print( queue3.orderOfArrival() ) # Bobby then Xerxes then Astrid then Angela then George\n",
    "print( queue4.orderOfArrival() ) # Bobby then Xerxes then Angela\n"
   ]
  },
  {
   "cell_type": "markdown",
   "metadata": {
    "collapsed": true
   },
   "source": [
    "---"
   ]
  },
  {
   "cell_type": "markdown",
   "metadata": {},
   "source": [
    "## Exercise 4: Umbrella"
   ]
  },
  {
   "cell_type": "markdown",
   "metadata": {},
   "source": [
    "<b>One-line summary</b>\n",
    "\n",
    "In this exercise, you will build umbrellas from parts, and evaluate their quality.\n",
    "\n",
    "<b>Context</b>\n",
    "\n",
    "Parts that fit together to build a new thing are not always optimal. They may be of the wrong material, or too heavy. In this exercise you will make sure that they are not.\n",
    "\n",
    "<b>Exercise description</b>\n",
    "\n",
    "The exercise file contains a class `Material`, which has a name, and a boolean which indicates whether the material is waterproof. From `Material` four classes are derived: `Plastic`, `Wood`, `Cloth`, and `Paper`. \n",
    "\n",
    "Two classes in the exercise file need implementation: `Part` and `Umbrella`.\n",
    "\n",
    "The class `Part` represents a part of an umbrella. For this exercise, the umbrella parts are the shaft, the canopy, and (optionally) the end top. A `Part` object has a `name`, a `size`, and a `material` from which it is constructed. These are given to the `__init__()` method of `Part`. You have to implement the `__init__()` method, and a suitable `__repr__()` method for `Part`.\n",
    "\n",
    "The class `Umbrella` represents a model umbrella. Via the `__init__()` method it is given a `name` and a list of `parts`. You have to implement the `__init__()` method, and a suitable `__repr__()` method for `Umbrella`.\n",
    "\n",
    "Finally, you have to implement a method `evaluation()` for `Umbrella`. This method evaluates whether the umbrella meets all the requirements that it should have. The requirements are: (1) the sum of the sizes of the parts of an umbrella should be 5 at most; and (2) all the parts of the umbrella should be waterproof. The method returns a string which is the evaluation of the model. There are four possible evaluations, namely:\n",
    "\n",
    "\"`<name>` meets the requirements\" (total size <= 5 and all parts are waterproof)<br>\n",
    "\"`<name>` is too big\" (total size > 5 and all parts are waterproof)<br>\n",
    "\"`<name>` is not waterproof\" (total size <= 5 and not all parts are waterproof)<br>\n",
    "\"`<name>` is too big and not waterproof\" (total size > 5 and not all parts are waterproof)<br>\n",
    "\n",
    "<b>Examples</b>\n",
    "\n",
    "`plastic = Plastic()`<br>\n",
    "`paper = Paper()`<br>\n",
    "`plastic_shaft = Part( \"plastic shaft\", 2, plastic )`<br>\n",
    "`paper_canopy = Part( \"paper canopy\", 2, paper )`<br>\n",
    "`umbrella_3 = Umbrella( \"Model 3\", [plastic_shaft, paper_canopy] )`<br>\n",
    "`umbrella_3.evaluation()` returns \"Model 3 is not waterproof\"\n"
   ]
  },
  {
   "cell_type": "code",
   "execution_count": null,
   "metadata": {
    "collapsed": true
   },
   "outputs": [],
   "source": [
    "# Name:\n",
    "# Student Number:\n",
    "\n",
    "MAXSIZE=5\n",
    "\n",
    "class Material:\n",
    "    def __init__( self, name=\"\", waterproof=False ):\n",
    "        self.name = name\n",
    "        self.waterproof = waterproof\n",
    "    def __repr__( self ):\n",
    "        return f\"Material({self.name},{self.waterproof})\"\n",
    "\n",
    "class Plastic( Material ):\n",
    "    def __init__( self ):\n",
    "        super().__init__( \"plastic\", True )\n",
    "\n",
    "class Wood( Material ):\n",
    "    def __init__( self ):\n",
    "        super().__init__( \"wood\", True )\n",
    "\n",
    "class Cloth( Material ):\n",
    "    def __init__( self ):\n",
    "        super().__init__( \"cloth\", True )\n",
    "\n",
    "class Paper( Material ):\n",
    "    def __init__( self ):\n",
    "        super().__init__( \"paper\" )\n",
    "\n",
    "class Part:\n",
    "    def __init__( self, name, size, material ):\n",
    "        pass\n",
    "    def __repr__( self ):\n",
    "        return \"\"\n",
    "\n",
    "class Umbrella:\n",
    "    def __init__( self, name, parts ):\n",
    "        pass\n",
    "    def evaluation( self ):\n",
    "        return \"\"\n",
    "    def __repr__( self ):\n",
    "        return \"\"\n",
    "\n",
    "\n",
    "def main():\n",
    "    plastic = Plastic()\n",
    "    wood = Wood()\n",
    "    paper = Paper()\n",
    "    cloth = Cloth()\n",
    "    \n",
    "    plastic_shaft = Part( \"plastic shaft\", 2, plastic )\n",
    "    wooden_shaft = Part( \"wooden shaft\", 3, wood )\n",
    "    paper_canopy = Part( \"paper canopy\", 2, paper )\n",
    "    cloth_canopy = Part( \"cloth canopy\", 3, cloth )\n",
    "    plastic_canopy = Part( \"plastic canopy\", 2, plastic )\n",
    "    end_top = Part( \"end top\", 1, wood )\n",
    "\n",
    "    umbrella_1 = Umbrella( \"Model 1\", [plastic_shaft, cloth_canopy] )\n",
    "    umbrella_2 = Umbrella( \"Model 2\", [wooden_shaft, cloth_canopy] )\n",
    "    umbrella_3 = Umbrella( \"Model 3\", [plastic_shaft, paper_canopy] )\n",
    "    umbrella_4 = Umbrella( \"Model 4\", [wooden_shaft, paper_canopy] )\n",
    "    umbrella_5 = Umbrella( \"Model 5\", [plastic_shaft, cloth_canopy, end_top] )\n",
    "    umbrella_6 = Umbrella( \"Model 6\", [plastic_shaft, plastic_canopy, end_top] )\n",
    "    \n",
    "    print( umbrella_1.evaluation() )\n",
    "    print( umbrella_2.evaluation() )\n",
    "    print( umbrella_3.evaluation() )\n",
    "    print( umbrella_4.evaluation() )\n",
    "    print( umbrella_5.evaluation() )\n",
    "    print( umbrella_6.evaluation() )\n",
    "\n",
    "if __name__ == \"__main__\":\n",
    "    main()\n"
   ]
  },
  {
   "cell_type": "markdown",
   "metadata": {},
   "source": [
    "---"
   ]
  },
  {
   "cell_type": "markdown",
   "metadata": {},
   "source": [
    "## Exercise 5: Smallest plus largest"
   ]
  },
  {
   "cell_type": "markdown",
   "metadata": {},
   "source": [
    "<b>One-line summary</b>\n",
    "\n",
    "In this exercise you have to determine the time complexity of five functions which determine the sum of the smallest and the largest number in a list of numbers.\n",
    "\n",
    "<b>Exercise description</b>\n",
    "\n",
    "Each of the functions, which are all named `smallest_plus_largest_`<i>x</i>`()` (<i>x</i> being a number), gets one parameter: `numlist` which is a list of numbers (the length of the list is at least 1). The function returns the sum of the smallest and the largest number on the list.\n",
    "\n",
    "For each of the functions, write as a comment in the file what the time complexity is (immediately below the function), and give a brief explanation on how you determined this. If you do not add an explanation, the answer is automatically considered to be wrong. In your big-O notation of the time complexity, you may use `n` to refer to the length of the list.\n",
    "\n",
    "<b>Background information</b>\n",
    "\n",
    "You may assume the following:\n",
    "\n",
    "•\tTaking a sublist from a list is `O(n)`, where `n` is the length of the sublist<br>\n",
    "•\tThe iterator `range()` is `O(1)`<br>\n",
    "•\tThe function `len()` is `O(1)`<br>\n",
    "•\tThe function `min()` is `O(n)`, where `n` is the number of items given to the function<br>\n",
    "•\tThe function `max()` is `O(n)`, where `n` is the number of items given to the function<br>\n",
    "•\tThe list method `sort()` is `O(n*log(n))`, where `n` is the length of the list<br>\n",
    "\n",
    "Here are descriptions of the algorithms:\n",
    "\n",
    "•\t`smallest_plus_largest_1()` uses `min()` and `max()` on the list.<br>\n",
    "•\t`smallest_plus_largest_2()` goes through the list, remembering the smallest and largest.<br>\n",
    "•\t`smallest_plus_largest_3()` does the same as the previous, but uses indices.<br>\n",
    "•\t`smallest_plus_largest_4()` sorts the list then takes the first and last number.<br>\n",
    "•\t`smallest_plus_largest_5()` uses a recursive implementation of functions that determine the smallest and largest number on a list; these functions split the list in two and compare the numbers returned by a recursive call on the sublists, to determine the smallest and largest respectively. \n"
   ]
  },
  {
   "cell_type": "code",
   "execution_count": null,
   "metadata": {
    "collapsed": true
   },
   "outputs": [],
   "source": [
    "# Name:\n",
    "# Student number:\n",
    "\n",
    "# Just take the minimum and maximum of numlist and return the sum.\n",
    "def smallest_plus_largest_1( numlist ):\n",
    "    return min( numlist ) + max( numlist )\n",
    "    \n",
    "# Go through numlist, remembering the values for the smallest and\n",
    "# largest, then return the sum.\n",
    "def smallest_plus_largest_2( numlist ):\n",
    "    smallest = numlist[0]\n",
    "    largest = numlist[0]\n",
    "    for i in numlist:\n",
    "        if i < smallest:\n",
    "            smallest = i\n",
    "        if i > largest:\n",
    "            largest = i\n",
    "    return smallest + largest\n",
    "    \n",
    "# Same as the previous one, except that the function now remembers \n",
    "# the indices of the smallest and largest.\n",
    "def smallest_plus_largest_3( numlist ):\n",
    "    smallest = 0\n",
    "    largest = 0\n",
    "    for i in range( 1, len( numlist ) ):\n",
    "        if numlist[i] < numlist[smallest]:\n",
    "            smallest = i\n",
    "        if numlist[i] > numlist[largest]:\n",
    "            largest = i\n",
    "    return numlist[smallest] + numlist[largest]\n",
    "    \n",
    "# Sort the list, then return the sum of the first and last number.\n",
    "def smallest_plus_largest_4( numlist ):\n",
    "    copylist = numlist[:]\n",
    "    copylist.sort()\n",
    "    return copylist[0] + copylist[-1]\n",
    "\n",
    "# This function uses a recursive implementation of functions that\n",
    "# find the smallest and largest numbers. The recursive implementations\n",
    "# split the list in two, find the smallest (or largest) on each of\n",
    "# the sublists, then return the smallest (or largest) of them.\n",
    "def smallest_plus_largest_5( numlist ):\n",
    "    def smallest( numlist ):\n",
    "        if len( numlist ) <= 1:\n",
    "            return numlist[0]\n",
    "        mid = len( numlist )//2\n",
    "        return min( smallest( numlist[:mid] ), smallest( numlist[mid:] ) )\n",
    "    def largest( numlist ):\n",
    "        if len( numlist ) <= 1:\n",
    "            return numlist[0]\n",
    "        mid = len( numlist )//2\n",
    "        return max( largest( numlist[:mid] ), largest( numlist[mid:] ) )\n",
    "    return smallest( numlist ) + largest( numlist )\n",
    "\n",
    "def main():\n",
    "    numlist = [8,19,3,22,7,-5,4,0,17,5,5,12]\n",
    "    print( smallest_plus_largest_1( numlist ) )\n",
    "    print( smallest_plus_largest_2( numlist ) )\n",
    "    print( smallest_plus_largest_3( numlist ) )\n",
    "    print( smallest_plus_largest_4( numlist ) )\n",
    "    print( smallest_plus_largest_5( numlist ) )\n",
    "    \n",
    "if __name__ == \"__main__\":\n",
    "    main()\n"
   ]
  },
  {
   "cell_type": "markdown",
   "metadata": {},
   "source": [
    "---"
   ]
  },
  {
   "cell_type": "markdown",
   "metadata": {},
   "source": [
    "End of Exam. Version 1.0."
   ]
  }
 ],
 "metadata": {
  "kernelspec": {
   "display_name": "Python 3",
   "language": "python",
   "name": "python3"
  },
  "language_info": {
   "codemirror_mode": {
    "name": "ipython",
    "version": 3
   },
   "file_extension": ".py",
   "mimetype": "text/x-python",
   "name": "python",
   "nbconvert_exporter": "python",
   "pygments_lexer": "ipython3",
   "version": "3.6.1"
  }
 },
 "nbformat": 4,
 "nbformat_minor": 1
}
