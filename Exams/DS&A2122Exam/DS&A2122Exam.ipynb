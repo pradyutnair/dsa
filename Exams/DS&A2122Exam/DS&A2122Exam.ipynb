{
 "cells": [
  {
   "cell_type": "markdown",
   "metadata": {},
   "source": [
    "# Data Structures & Algorithms\n",
    "## Exam, December 15, 2021"
   ]
  },
  {
   "cell_type": "markdown",
   "metadata": {},
   "source": [
    "-------------------------------"
   ]
  },
  {
   "cell_type": "markdown",
   "metadata": {},
   "source": [
    "You may use this notebook to develop answers for the exam questions, but afterwards you <u>must</u> copy your code to the `.py` template files and submit those. We cannot grade notebooks."
   ]
  },
  {
   "cell_type": "markdown",
   "metadata": {},
   "source": [
    "---"
   ]
  },
  {
   "cell_type": "markdown",
   "metadata": {},
   "source": [
    "## Exercise 1: Approximate <i>e</i>"
   ]
  },
  {
   "cell_type": "markdown",
   "metadata": {},
   "source": [
    "<b>One-line summary</b>\n",
    "\n",
    "In this exercise, you approximate the value of <i>e</i> by calculating a continued fraction.\n",
    "\n",
    "<b>Context</b>\n",
    "\n",
    "There are many different ways to express the number <i>e</i> (Euler’s constant), which is 2.718281828459... One way is the following formula, which has an infinite number of fractions:\n",
    "\n",
    "`e = 2 + 1/(1 + 1/(2 + 2/(3 + 3/(4 + 4/(5 + 5/…)))))`\n",
    "\n",
    "Recursively, you can express this as: `e = 2 + 1/cf(1)`\n",
    "\n",
    "where `cf` stands for \"continued fraction,\" which is defined as: `cf(n) = n + n/cf(n+1)`\n",
    "\n",
    "For large `n`, this can be approximated by: `cf(n) = n+1`\n",
    "\n",
    "<b>Exercise description</b>\n",
    "\n",
    "Write a function `approximate_e()` which calculates the value of <i>e</i> using the formula given above. The function gets one parameter, which is the depth of the calculation (an integer valued zero or higher), i.e., the number of fractions that you include in the calculation. At the given depth, you approximate `cf(n)` by `n+1`. The function returns a float, which is the approximation of <i>e</i>.\n",
    "\n",
    "At depth 0, you approximate `cf(1)` as `1+1`, thus <i>e</i> is approximated by `2 + 1/(1+1) = 2.5`\n",
    "\n",
    "At depth 1, you approximate `cf(2)` as `2+1`, and `cf(1)=1+1/cf(2)`, thus <i>e</i> is approximated by `2 + 1/(1+1/(2+1)) = 2.75`\n",
    "\n",
    "Etcetera. You may choose whether to implement this function recursively or iteratively. The depth will not be higher than 100, so a recursive implementation should work.\n",
    "\n",
    "<b>Examples</b>\n",
    "\n",
    "`approximate_e( 0 )` returns  `2.5`<br>\n",
    "`approximate_e( 1 )` returns  `2.75`<br>\n",
    "`approximate_e( 100 )` returns  `2.7182818284590455`"
   ]
  },
  {
   "cell_type": "code",
   "execution_count": null,
   "metadata": {},
   "outputs": [],
   "source": [
    "# Name:\n",
    "# Student number:\n",
    "\n",
    "def approximate_e( depth ):\n",
    "    return 0\n",
    "\n",
    "def main():\n",
    "    print( approximate_e( 0 ) )   # 2.5\n",
    "    print( approximate_e( 1 ) )   # 2.75\n",
    "    print( approximate_e( 5 ) )   # 2.7182866556836904\n",
    "    print( approximate_e( 10 ) )  # 2.7182818284466195\n",
    "    print( approximate_e( 100 ) ) # 2.7182818284590455\n",
    "\n",
    "if __name__ == \"__main__\":\n",
    "    main()\n"
   ]
  },
  {
   "cell_type": "markdown",
   "metadata": {},
   "source": [
    "---"
   ]
  },
  {
   "cell_type": "markdown",
   "metadata": {},
   "source": [
    "## Exercise 2: Substrings"
   ]
  },
  {
   "cell_type": "markdown",
   "metadata": {},
   "source": [
    "<b>One-line summary</b>\n",
    "\n",
    "In this exercise you find in a list the string which has the most substrings which are also in the list.\n",
    "\n",
    "<b>Exercise description</b>\n",
    "\n",
    "The function `find_superstring()` gets one parameter: a list which contains strings. These strings only contain letters of the alphabet, and are all lower-case. Some of the strings in the list are substrings of other strings in the list. Your goal is to find the \"superstring,\" which is the string which has most of the other strings in the list as substrings.\n",
    "\n",
    "The function should return the \"superstring.\" If there is more than one string which has the most substrings, then return the one earliest in the alphabet.\n",
    "\n",
    "You are allowed to change the list in the function.\n",
    "\n",
    "<b>Examples</b>\n",
    "\n",
    "If the list is:\n",
    "\n",
    "`[\"broth\",\"brother\",\"chemotherapy\",\"her\",\"moth\",\"mother\",\"other\",\"rot\",\"smother\",\"the\"]`, \n",
    "\n",
    "the superstring is: `brother`, which has five substrings (`broth`, `her`, `other`, `rot`, `the`). The strings `chemotherapy` and `smother` also have five substrings (`her`, `moth`, `mother`, `other`, `the`), but since `brother` is earlier in the alphabet than either of them, that is the string that should be returned.\n"
   ]
  },
  {
   "cell_type": "code",
   "execution_count": null,
   "metadata": {},
   "outputs": [],
   "source": [
    "# Name:\n",
    "# Student number:\n",
    "\n",
    "def find_superstring( slist ):\n",
    "    return \"\"\n",
    "    \n",
    "def main():\n",
    "    slist = [\"broth\",\"brother\",\"chemotherapy\",\"her\",\n",
    "        \"moth\",\"mother\",\"other\",\"rot\",\"smother\",\"the\"]\n",
    "    print( find_superstring( slist ) ) # brother\n",
    "    slist = [\"and\",\"ant\",\"boar\",\"board\",\"broth\",\"brother\",\n",
    "        \"brotherhood\",\"chemotherapy\",\n",
    "        \"grand\",\"grandmother\",\"her\",\"herb\",\n",
    "        \"hip\",\"his\",\"hood\",\"man\",\"moth\",\"mother\",\n",
    "        \"motherboard\",\"oar\",\"odd\",\"other\",\"random\",\n",
    "        \"rot\",\"ship\",\"sword\",\"swordsmanship\",\"the\",\n",
    "        \"therapy\",\"woman\",\"word\"]\n",
    "    print( find_superstring( slist ) ) # motherboard\n",
    "    \n",
    "if __name__ == \"__main__\":\n",
    "    main()\n",
    "    "
   ]
  },
  {
   "cell_type": "markdown",
   "metadata": {},
   "source": [
    "---"
   ]
  },
  {
   "cell_type": "markdown",
   "metadata": {},
   "source": [
    "## Exercise 3: Process Jobs"
   ]
  },
  {
   "cell_type": "markdown",
   "metadata": {},
   "source": [
    "<b>One-line summary</b>\n",
    "\n",
    "In this exercise you process commands to place jobs in a linked list and remove them again.\n",
    "\n",
    "<b>Exercise description</b>\n",
    "    \n",
    "The template for this exercise contains a class `SingleNode` and a class `JobList`. `JobList` is a `SingleLinkedList`, exactly as it appears in the notebooks, consisting of `SingleNode`s. The only extra method in `JobList`, which you have to create, is `process_request()`.\n",
    "\n",
    "`process_request()` gets three parameters (apart from `self`): `request` (string), `job` (string), and `priority` (string). There are three possible values for `request` (for which there are constants in the template file) namely \"add\", \"remove\", and \"list\". There are two possible values for `priority` (also represented by constants in the template file), namely \"low\" and \"high\".\n",
    "\n",
    "If the `request` is \"add\", you add the string contained in `job` to the linked list. If the `priority` is \"low\", you add the job to the end of the linked list. If the priority is \"high\", you add the job to the start of the linked list. The method returns a string \"added: \" plus the job (see the example below). Note that when a high-priority job is added to the list, you can just attach it to the head –- you do not have to insert it after all other high-priority jobs. Therefore you do not need to store the priority with a job.\n",
    "\n",
    "If the `request` is \"remove\", you remove one job from the list, namely the one at the start. The method returns a string \"removed: \" plus the job that was removed (see the example below). If there were no jobs in the list, the method only returns the string: \"removed: Nothing\".\n",
    "\n",
    "If the `request` is \"list\", the method returns the string: \"list: \" plus all the jobs in the linked list, starting at the start, separated by commas (see example below).\n",
    "\n",
    "<b>Examples</b>\n",
    "    \n",
    "`jl = JobList()`<br>\n",
    "`jl.process_request( ADD, \"banana\", LOW )` returns `\"added: banana (low priority)\"`<br>\n",
    "`jl.process_request( ADD, \"apple\", HIGH )` returns `\"added: apple (high priority)\"`<br>\n",
    "`jl.process_request( LIST )` returns `\"list: apple, banana\"`<br>\n",
    "`jl.process_request( REMOVE )` returns `\"removed: apple\"`<br>\n",
    "`jl.process_request( REMOVE )` returns `\"removed: banana\"`<br>\n",
    "`jl.process_request( REMOVE )` returns `\"removed: Nothing\"`<br>\n"
   ]
  },
  {
   "cell_type": "code",
   "execution_count": null,
   "metadata": {},
   "outputs": [],
   "source": [
    "# Name:\n",
    "# Student number:\n",
    "\n",
    "ADD = 'add'\n",
    "REMOVE = 'remove'\n",
    "LIST = 'list'\n",
    "LOW = 'low'\n",
    "HIGH = 'high'\n",
    "\n",
    "class SingleNode:\n",
    "    def __init__( self, value, nextnode ):\n",
    "        self.value = value\n",
    "        self.nextnode = nextnode\n",
    "        \n",
    "class JobList:\n",
    "    def __init__( self ):\n",
    "        self.head = None\n",
    "        self.tail = None\n",
    "    def add( self, value ):\n",
    "        node = SingleNode( value, self.head )\n",
    "        self.head = node\n",
    "        if self.tail == None:\n",
    "            self.tail = self.head\n",
    "    def remove( self ):\n",
    "        if self.head == self.tail:\n",
    "            self.head = None\n",
    "            self.tail = None\n",
    "        else:\n",
    "            self.head = self.head.nextnode\n",
    "    def append( self, value ):\n",
    "        node = SingleNode( value, None )\n",
    "        if self.tail == None:\n",
    "            self.head = node\n",
    "            self.tail = node\n",
    "        else:\n",
    "            self.tail.nextnode = node\n",
    "            self.tail = node\n",
    "    def process_request( self, request, job=\"\", priority=LOW ):\n",
    "        return \"Unknown command\"\n",
    "    \n",
    "def main():\n",
    "    joblist = JobList()\n",
    "    print( joblist.process_request( ADD, \"orange\" ) )       # added: orange (low priority)\n",
    "    print( joblist.process_request( ADD, \"pear\" ) )         # added: pear (low priority)\n",
    "    print( joblist.process_request( ADD, \"apple\", HIGH ) )  # added: apple (high priority) \n",
    "    print( joblist.process_request( ADD, \"banana\", HIGH ) ) # added: banana (high priority)\n",
    "    print( joblist.process_request( LIST ) )                # list: banana, apple, orange, pear \n",
    "    print( joblist.process_request( REMOVE ) )              # removed: banana\n",
    "    print( joblist.process_request( LIST ) )                # list: apple, orange, pear \n",
    "    print( joblist.process_request( REMOVE ) )              # removed: apple \n",
    "    print( joblist.process_request( REMOVE ) )              # removed: orange\n",
    "    print( joblist.process_request( REMOVE ) )              # removed: pear\n",
    "    print( joblist.process_request( REMOVE ) )              # removed: Nothing \n",
    "    \n",
    "if __name__ == \"__main__\":\n",
    "    main()\n"
   ]
  },
  {
   "cell_type": "markdown",
   "metadata": {
    "collapsed": true
   },
   "source": [
    "---"
   ]
  },
  {
   "cell_type": "markdown",
   "metadata": {},
   "source": [
    "## Exercise 4: Searching"
   ]
  },
  {
   "cell_type": "markdown",
   "metadata": {},
   "source": [
    "<b>One-line summary</b>\n",
    "\n",
    "In this exercise, you will parse a large and complex text file to be able to search for strings.\n",
    "\n",
    "<b>Context</b>\n",
    "\n",
    "Large text files that contain \"real world\" data are typically messy and time consuming to search. You  pre-process them to make searching faster. \n",
    "\n",
    "<b>Exercise description</b>\n",
    "\n",
    "The template for this exercise contains a class `Data`. When a `Data` object is created, you give it a `filename` (string). The class has two methods which you need to create: `parseFile()` and `search()`. You are allowed to make changes to the `__init__()` method, and to add extra methods.\n",
    "\n",
    "`parseFile()` is called once, and pre-processes the file. It gets no parameters. It returns `False` if the file does not exist, otherwise it returns `True` (you do not need to check for exceptions). The preprocessing should make sure that you can search the file contents for words, consisting of letters from the alphabet. The letters can be upper-case or lower-case, and the search should be case-sensitive (so distinguish between upper-case and lower-case). `The parseFile()` method should have a time complexity which is at worst `O(n*log(n))`, with `n` being the number of separate words that can be found in the file.\n",
    "\n",
    "After `parseFile()` has been called, you can search for words (which only consist of letters from the alphabet). You do this with the `search()` method. This method gets the `target` (string) that you are searching for as parameter. It returns `True` if the target can be found, and otherwise `False`. The search should be at worst `O(log(n))`, with `n` being the number of separate words that can be found in the file.\n",
    "\n",
    "Note: the `parseFile()` method already contains a statement to open the file. It gets a special parameter with key `encoding` which indicates the encoding method of the file, otherwise it may give problems on some systems.\n",
    "\n",
    "<b>Examples</b>\n",
    "\n",
    "`myData = Data( \"transcripts.txt\" )\n",
    "if myData.parseFile():\n",
    "    print ( myData.search( \"sdafa\" ) )      # False\n",
    "    print ( myData.search( \"illuminati\" ))  # True\n",
    "    print ( myData.search( \"Masters\" ))     # False\n",
    "    print ( myData.search( \"masters\" ))     # True`\n"
   ]
  },
  {
   "cell_type": "code",
   "execution_count": null,
   "metadata": {},
   "outputs": [],
   "source": [
    "# Name:\n",
    "# Student Number:\n",
    "\n",
    "from os.path import isfile\n",
    "\n",
    "class Data:\n",
    "    def __init__( self, filename ):\n",
    "        self.filename = filename\n",
    "\n",
    "    def parseFile( self ):\n",
    "        fp = open( self.filename, encoding=\"utf-16\" )\n",
    "        fp.close()\n",
    "        return False\n",
    "\n",
    "    def search( self, target ):\n",
    "        return False\n",
    "\n",
    "def main():\n",
    "    myData = Data( \"transcripts.txt\" )\n",
    "    if myData.parseFile():\n",
    "        print ( myData.search( \"sdafa\" ) )      # False\n",
    "        print ( myData.search( \"illuminati\" ) ) # True\n",
    "        print ( myData.search( \"Masters\" ) )    # False\n",
    "        print ( myData.search( \"masters\" ) )    # True\n",
    "        print ( myData.search( \"CIA\" ) )        # True\n",
    "        print ( myData.search( \"IAC\" ) )        # False\n",
    "\n",
    "if __name__ == \"__main__\":\n",
    "    main()"
   ]
  },
  {
   "cell_type": "markdown",
   "metadata": {},
   "source": [
    "---"
   ]
  },
  {
   "cell_type": "markdown",
   "metadata": {},
   "source": [
    "## Exercise 5: Determine Longest"
   ]
  },
  {
   "cell_type": "markdown",
   "metadata": {},
   "source": [
    "<b>One-line summary</b>\n",
    "\n",
    "In this exercise you have to determine the time complexity of five functions which determine the longest word in a list of words.\n",
    "\n",
    "<b>Exercise description</b>\n",
    "\n",
    "Each of the functions, which are all named `determine_longest_`<i>x</i>`()` (<i>x</i> being a number), gets one parameter: `slist` which is a list of strings. The function returns the longest string in the list (if there are multiple, it will return one of them).\n",
    "\n",
    "For each of the functions, write as a comment in the file what the time complexity is (immediately below the function), and give a brief explanation on how you determined this. If you do not add an explanation, the answer is automatically considered to be wrong. In your big-O notation of the time complexity, you may use `n` to refer to the length of the list.\n",
    "\n",
    "<b>Background information</b>\n",
    "\n",
    "You may assume the following:\n",
    "\n",
    "•\tTaking a sublist from a list is `O(n)`, where `n` is the length of the sublist<br>\n",
    "•\tThe list method sort() is `O(n*log(n))`, where `n` is the length of the list<br>\n",
    "•\tThe statement `del list[i]` is `O(n)`, where `n` is the length of the list<br>\n",
    "\n",
    "Here are descriptions of the algorithms:\n",
    "\n",
    "•\t`determine_longest_1()` processes each string in the list, keeping track of the longest.<br>\n",
    "•\t`determine_longest_2()` sorts the list by length, then returns the last element.<br>\n",
    "•\t`determine_longest_3()` compares the first two elements of the list and removes the shortest, until only one element remains.<br>\n",
    "•\t`determine_longest_4()` compares the first element of the list with the longest element of the rest of the list. The longest element of the rest of the list is determined by a recursive call to the function itself with the rest of the list as parameter.<br>\n",
    "•\t`determine_longest_5()` splits the list in two, and recursively calls itself with the two sublists. It determines the longest string that is returned from those two calls. If it gets called with a list with only one element, it returns that element.<br>\n"
   ]
  },
  {
   "cell_type": "code",
   "execution_count": null,
   "metadata": {},
   "outputs": [],
   "source": [
    "# Name:\n",
    "# Student number:\n",
    "\n",
    "# Processes each string in the list, keeping track of the longest.\n",
    "def determine_longest_1( slist ):\n",
    "    longest = \"\"\n",
    "    for s in slist:\n",
    "        if len( s ) > len( longest ):\n",
    "            longest = s\n",
    "    return longest\n",
    "\n",
    "# Sorts the list by length, then returns the last element.\n",
    "def determine_longest_2( slist ):\n",
    "    if len( slist ) < 1:\n",
    "        return \"\"\n",
    "    slist.sort( key=len )\n",
    "    return slist[-1]\n",
    "\n",
    "# Compares the first two elements of the list and removes the shortest, \n",
    "# until only one element remains.\n",
    "def determine_longest_3( slist ):\n",
    "    if len( slist ) < 1:\n",
    "        return \"\"\n",
    "    copylist = slist[:]\n",
    "    while len( copylist ) > 1:\n",
    "        if len( copylist[0] ) > len( copylist[1] ):\n",
    "            del copylist[1]\n",
    "        else:\n",
    "            del copylist[0]\n",
    "    return copylist[0]\n",
    "\n",
    "# Compares the first element of the list with the longest element of the \n",
    "# rest of the list. The longest element of the rest of the list is determined \n",
    "# by a recursive call to the function itself with the rest of the list \n",
    "# as parameter.\n",
    "def determine_longest_4( slist ):\n",
    "    if len( slist ) < 1:\n",
    "        return \"\"\n",
    "    s = determine_longest_4( slist[1:] )\n",
    "    if len( slist[0] ) > len( s ):\n",
    "        return slist[0]\n",
    "    return s\n",
    "\n",
    "# Splits the list in two, and recursively calls itself with the two sublists. \n",
    "# It determines the longest string that is returned from those two calls. \n",
    "# If it gets called with a list with only one element, it returns that element.\n",
    "def determine_longest_5( slist ):\n",
    "    if len( slist ) < 1:\n",
    "        return \"\"\n",
    "    elif len( slist ) == 1:\n",
    "        return slist[0]\n",
    "    i = len( slist )//2\n",
    "    s1 = determine_longest_5( slist[:i] )\n",
    "    s2 = determine_longest_5( slist[i:] )\n",
    "    if len( s1 ) > len( s2 ):\n",
    "        return s1\n",
    "    return s2\n",
    "\n",
    "def main():\n",
    "    namelist = [\"apple\", \"pear\", \"banana\", \"orange\", \"grapefruit\", \"kiwi\"]\n",
    "    print( determine_longest_1( namelist ) )\n",
    "    print( determine_longest_2( namelist ) )\n",
    "    print( determine_longest_3( namelist ) )\n",
    "    print( determine_longest_4( namelist ) )\n",
    "    print( determine_longest_5( namelist ) )\n",
    "\n",
    "if __name__ == \"__main__\":\n",
    "    main()\n",
    "    "
   ]
  },
  {
   "cell_type": "markdown",
   "metadata": {},
   "source": [
    "---"
   ]
  },
  {
   "cell_type": "markdown",
   "metadata": {},
   "source": [
    "End of Exam. Version 1.0."
   ]
  }
 ],
 "metadata": {
  "kernelspec": {
   "display_name": "Python 3",
   "language": "python",
   "name": "python3"
  },
  "language_info": {
   "codemirror_mode": {
    "name": "ipython",
    "version": 3
   },
   "file_extension": ".py",
   "mimetype": "text/x-python",
   "name": "python",
   "nbconvert_exporter": "python",
   "pygments_lexer": "ipython3",
   "version": "3.7.4"
  }
 },
 "nbformat": 4,
 "nbformat_minor": 1
}
