{
 "cells": [
  {
   "cell_type": "markdown",
   "metadata": {},
   "source": [
    "# Chapter 6 - Top-down Development"
   ]
  },
  {
   "cell_type": "markdown",
   "metadata": {},
   "source": [
    "-------------------------------"
   ]
  },
  {
   "cell_type": "markdown",
   "metadata": {},
   "source": [
    "In the previous chapter a problem was divided into tasks, which could be further split up into smaller tasks until all tasks were small enough to handle. This is an example of top-down programming. So at this point you probably already understand how to do top-down programming, but the topic can use some further discussion."
   ]
  },
  {
   "cell_type": "markdown",
   "metadata": {},
   "source": [
    "## Top-down Programming"
   ]
  },
  {
   "cell_type": "markdown",
   "metadata": {},
   "source": [
    "In top-down programming we start by creating a program which consists of certain high-level tasks, which, when taken together, would clearly solve the programming problem if they are implemented correctly. In general, a first flow diagram which you would make for such a programming task would represent this top-down view.\n",
    "\n",
    "For instance, suppose that we want to implement a program which plays the game Hi-Lo. In this game, one player memorizes a number between 1 and, let's say, 1000, and the other player has to guess the number. Every time the second player states a number, the first player will say whether the memorized number is higher than, lower than, or equal to the guessed number. The game ends when the number is guessed correctly, or the second player took too many guesses without arriving at the correct number, e.g., 10 guesses.\n",
    "\n",
    "Let's assume that the computer memorizes a number, and the human plays the game. Here is a flow diagram for this game:\n",
    "\n",
    "<img src=\"img/flowchart_hilo.png\" alt=\"flowchart for Hi-Lo game\" style=\"width:400px;\"><br>\n",
    "<div align=\"center\">Figure 6.1: Flow diagram for the Hi-Lo game.</div>\n",
    "\n",
    "If you do not understand why this flow diagram correctly represents the game, study it until you do. In (pseudo) code form, where the function `hi_lo()` plays the game, it looks like this:\n"
   ]
  },
  {
   "cell_type": "code",
   "execution_count": null,
   "metadata": {
    "collapsed": true
   },
   "outputs": [],
   "source": [
    "def hi_lo():\n",
    "    number = ...; # memorize a number\n",
    "    guesses = 0;\n",
    "    while guesses < 10:\n",
    "        guess = ...; # let human make a guess\n",
    "        if guess == number:\n",
    "            print( \"You win!\" );\n",
    "            return;\n",
    "        if guess < number:\n",
    "            print( \"Higher\" );\n",
    "        else:\n",
    "            print( \"Lower\" );\n",
    "        guesses += 1;\n",
    "    print( \"You lose!\" );\n",
    "\n",
    "hi_lo();"
   ]
  },
  {
   "cell_type": "markdown",
   "metadata": {},
   "source": [
    "When you examine the tasks distinguished in the flow diagram, you probably will say of some of them \"I can implement those easily,\" while for others you may say \"I have to think a bit about how to implement these tasks.\" In fact, in the pseudo code, I already implemented the reports of wins and losses, the reporting of \"higher\" and \"lower\", and the increase of the number of guesses, as they are such small and easy tasks.\n",
    "\n",
    "For the sake of argument, let's say that the two tasks that seem to be more of a challenge to implement are \"memorize a number\" and \"let the human make a guess.\""
   ]
  },
  {
   "cell_type": "markdown",
   "metadata": {},
   "source": [
    "## Postpone Tasks Via Functions"
   ]
  },
  {
   "cell_type": "markdown",
   "metadata": {},
   "source": [
    "When you must implement a relatively complex program, you do not want to postpone testing the program until you have implemented everything. Using top-down programming, you can postpone implementing certain functionalities by placing them in functions and letting these functions return something that is a legal return value but generated in a very simple and straightforward way -- usually such a function would just return a value and do nothing more. \n",
    "\n",
    "For each of these functions you must define what it needs (the input) and what it produces (the output).\n",
    "\n",
    "I have completed the pseudo code above, and turned it into runnable code, by adding functions for the two functionalities which were considered challenging. Neither of these functions seems to need an input, and produces a number as output. So both functions just return a number."
   ]
  },
  {
   "cell_type": "code",
   "execution_count": null,
   "metadata": {
    "collapsed": true
   },
   "outputs": [],
   "source": [
    "def memorize_a_number():\n",
    "    return 750\n",
    "\n",
    "def let_human_make_a_guess():\n",
    "    return 500\n",
    "\n",
    "def hi_lo():\n",
    "    number = memorize_a_number()\n",
    "    guesses = 0\n",
    "    while guesses < 10:\n",
    "        guess = let_human_make_a_guess()\n",
    "        if guess == number:\n",
    "            print( \"You win!\" )\n",
    "            return\n",
    "        if guess < number:\n",
    "            print( \"Higher\" )\n",
    "        else:\n",
    "            print( \"Lower\" )\n",
    "        guesses += 1\n",
    "    print( \"You lose!\" )\n",
    "\n",
    "hi_lo()"
   ]
  },
  {
   "cell_type": "markdown",
   "metadata": {},
   "source": [
    "You may notice that you can run this code, and it seems to work well -- except that it always uses 750 as the number to guess, and never allows the human to enter a guess.\n",
    "\n",
    "With the program in the current state, you can develop the challenging functions step by step.\n",
    "\n",
    "The first function is actually pretty simple. To memorize a number, a random integer between 1 and 1000 must be selected. This can be done with a call to the `randint()` function. I have added this call to the code below, including a display at the end what the selected number was."
   ]
  },
  {
   "cell_type": "code",
   "execution_count": null,
   "metadata": {
    "collapsed": true
   },
   "outputs": [],
   "source": [
    "from random import randint\n",
    "\n",
    "def memorize_a_number():\n",
    "    return randint( 1, 1000 )\n",
    "\n",
    "def let_human_make_a_guess():\n",
    "    return 500\n",
    "\n",
    "def hi_lo():\n",
    "    number = memorize_a_number()\n",
    "    guesses = 0\n",
    "    while guesses < 10:\n",
    "        guess = let_human_make_a_guess()\n",
    "        if guess == number:\n",
    "            print( \"You win!\" )\n",
    "            return\n",
    "        if guess < number:\n",
    "            print( \"Higher\" )\n",
    "        else:\n",
    "            print( \"Lower\" )\n",
    "        guesses += 1\n",
    "    print( \"You lose! The correct number was\", number )\n",
    "\n",
    "hi_lo()"
   ]
  },
  {
   "cell_type": "markdown",
   "metadata": {},
   "source": [
    "The second function is actually harder to develop, and may need further task decomposition."
   ]
  },
  {
   "cell_type": "markdown",
   "metadata": {},
   "source": [
    "## Developing a Number Input Function"
   ]
  },
  {
   "cell_type": "markdown",
   "metadata": {},
   "source": [
    "You may think at first that it is fairly simple to create a function that gets a number from the player. You simply make a call to the `input()` function, turn the resulting string into an integer, and return it. And indeed, you can build that implementation in the function given, and it will allow you to test the program as a whole. However, you may also find that there are several parts of the program not yet working well. In particular, if you think about it, your function should be expanded with one or more of the following:\n",
    "\n",
    "<ul>\n",
    "<li>the player must enter an integer between 1 and 1000</li>\n",
    "<li>if the player enters an integer outside the given range, an error message must be displayed and they must enter a new integer</li>\n",
    "<li>if the player enters something which is not a number, an error message must be displayed and they must enter a new integer</li>\n",
    "<li>as a hint to the player, they should be informed about how many guesses they already made</li>\n",
    "</ul>\n",
    "\n",
    "For the last addition, the function must know how many guesses the player already made. This information can be provided to the function with a parameter.\n",
    "\n",
    "As an exercise, you can make a flow diagram for just the `let_human_make_a_guess()` function. After that you can make your implementation. For completeness sake, I give my implementation here, but with a different flow diagram the implementation may turn out differently."
   ]
  },
  {
   "cell_type": "code",
   "execution_count": null,
   "metadata": {
    "collapsed": true
   },
   "outputs": [],
   "source": [
    "from random import randint\n",
    "\n",
    "def memorize_a_number():\n",
    "    return randint( 1, 1000 )\n",
    "\n",
    "def let_human_make_a_guess( guesses ):\n",
    "    print( \"Number of guesses until now:\", guesses )\n",
    "    while True:\n",
    "        strnum = input( \"Guess a number between 1 and 1000: \" )\n",
    "        if not strnum.isdigit():\n",
    "            print( \"This is not a positive integer\" )\n",
    "            continue\n",
    "        num = int( strnum )\n",
    "        if num < 1 or num > 1000:\n",
    "            print( \"This is not a number between 1 and 1000\" )\n",
    "            continue\n",
    "        break\n",
    "    return num\n",
    "\n",
    "def hi_lo():\n",
    "    number = memorize_a_number()\n",
    "    guesses = 0\n",
    "    while guesses < 10:\n",
    "        guess = let_human_make_a_guess( guesses )\n",
    "        if guess == number:\n",
    "            print( \"You win!\" )\n",
    "            return\n",
    "        if guess < number:\n",
    "            print( \"Higher\" )\n",
    "        else:\n",
    "            print( \"Lower\" )\n",
    "        guesses += 1\n",
    "    print( \"You lose! The correct number was\", number )\n",
    "\n",
    "hi_lo()"
   ]
  },
  {
   "cell_type": "markdown",
   "metadata": {},
   "source": [
    "## How to Implement a Program Top-down"
   ]
  },
  {
   "cell_type": "markdown",
   "metadata": {},
   "source": [
    "With top-down programming you go through the following steps:\n",
    "\n",
    "<ul>\n",
    "<li>You make a general, high-level outline of the program, consisting of tasks that you need to implement to make the program work.</li>\n",
    "<li>Very simple tasks you implement immediately. For more complex tasks you call functions which simply return a legal value.</li>\n",
    "<li>You now should have a program that can run and can be tested, albeit with very limited functionality.</li>\n",
    "<li>You now create an implementation of each of the functions that still need an implementation. You do this function by function, and if necessary apply further problem decomposition for each of the functions.</li>\n",
    "</ul>\n",
    "\n",
    "The big advantage of top-down programming is in the third step: very early in the development process you have a working program available that can be tested. Moreover, you generally do not have to develop the functions in the order that the program needs them: even if a function depends on the output of another function which would be called earlier, that other function already exists and gives a legal output, so a more detailed implementation of that function can be postponed if you want. "
   ]
  },
  {
   "cell_type": "markdown",
   "metadata": {},
   "source": [
    "---"
   ]
  },
  {
   "cell_type": "markdown",
   "metadata": {},
   "source": [
    "## Exercises"
   ]
  },
  {
   "cell_type": "markdown",
   "metadata": {},
   "source": [
    "### Exercise 6.1\n",
    "\n",
    "Suppose that in the Hi-Lo game you want to make the maximum number that can be guessed not 1000, but some other value. This value will be specified at the start of the program (e.g., by filling a variable `maxnum`). Identify in which places of the program this new maximum needs to be known. Adapt those places. If it is in a function, it must be given as a parameter to the function.\n",
    "\n",
    "### Exercise 6.2\n",
    "\n",
    "Suppose that in the Hi-Lo game the number of guesses that the player is allowed to make, should be determined by the player at the start of the program. This will be an extra task in the flow diagram. Extend the flow diagram, and add this functionality to the program.\n",
    "\n",
    "### Exercise 6.3*\n",
    "\n",
    "Turn the Hi-Lo program around: you as a human are going to memorize a number, and the computer must guess it. The flow diagram is going to be almost the same as given above, but it needs a very different implementation for the making of the guess, and the generation of the response \"higher,\" \"lower,\" or \"correct.\" Also, the computer must have the ability to challenge the human player if the responses that the human player gave are clearly in contradiction with each other. \n",
    "\n",
    "Design and implement this program using a top-down approach.\n",
    "\n",
    "### Exercise 6.4*\n",
    "\n",
    "Consider a program which keeps track of an inventory. The inventory consists of different goods, which have a name, and a quantity. When you start the program, there is no inventory. You can give the program three different commands. A command consists of a letter, potentially followed by a comma, a word, another comma, and an integer.\n",
    "\n",
    "The first command is A for \"add,\" which adds goods to the inventory. It is followed by a word which indicates the name of the good, and an integer which indicates the quantity of the good. These goods are added to the inventory. For instance, \"A,apples,100\" adds 100 apples to the inventory. If the good is already in the inventory, you have to add the quantity to what there already is for that good in the inventory.\n",
    "\n",
    "The second command is R for \"remove,\" which removes goods from the inventory. The word is the good, and the integer is how much of that good should be removed. For instance, \"R,apples,50\" removes 50 apples from the inventory. If there isn't enough of the good in the inventory, no change is made but an error message is given.\n",
    "\n",
    "The third command is L for \"list,\" which simply lists all the goods in the inventory with their quantities.\n",
    "\n",
    "Design this program using a top-down approach. You will probably need to distinguish four tasks which are more complex, for which you should use separate functions (namely getting and unraveling the command, and the three different commands). For the inventory you best use a dictionary.\n"
   ]
  },
  {
   "cell_type": "markdown",
   "metadata": {},
   "source": [
    "---"
   ]
  },
  {
   "cell_type": "markdown",
   "metadata": {},
   "source": [
    "End of Chapter 6. Version 1.0."
   ]
  }
 ],
 "metadata": {
  "kernelspec": {
   "display_name": "Python 3",
   "language": "python",
   "name": "python3"
  },
  "language_info": {
   "codemirror_mode": {
    "name": "ipython",
    "version": 3
   },
   "file_extension": ".py",
   "mimetype": "text/x-python",
   "name": "python",
   "nbconvert_exporter": "python",
   "pygments_lexer": "ipython3",
   "version": "3.6.1"
  }
 },
 "nbformat": 4,
 "nbformat_minor": 1
}
