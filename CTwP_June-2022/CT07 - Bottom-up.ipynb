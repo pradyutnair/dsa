{
 "cells": [
  {
   "cell_type": "markdown",
   "metadata": {},
   "source": [
    "# Chapter 7 - Bottom-up Development"
   ]
  },
  {
   "cell_type": "markdown",
   "metadata": {},
   "source": [
    "-------------------------------"
   ]
  },
  {
   "cell_type": "markdown",
   "metadata": {},
   "source": [
    "In the previous chapter I explained how you can use a top-down approach to quickly create a working program, which is not completed yet, and then fill in different functionalities as you further develop the program. Sometimes, however, a task is of such complexity that you cannot really distinguish different steps which you can implement separately. In such cases, a bottom-up approach might be more suited to solve the problem."
   ]
  },
  {
   "cell_type": "markdown",
   "metadata": {},
   "source": [
    "## Bottom-up Programming"
   ]
  },
  {
   "cell_type": "markdown",
   "metadata": {},
   "source": [
    "In bottom-up programming we recognize that a program consists of a simple task, embedded in a more complex task, which in its turn is embedded in an even more complex task, etc. While sometimes a top-down approach might still be used to tackle such a programming problem, it may make more sense to start implementing the simplest task first, and then \"work upward or outward.\"\n",
    "\n",
    "As this is a rather confusing explanation, an example may work to make clear what I mean by this. Suppose that you get the following programming problem: You roll six six-sided dice; you set all dice that show a six aside, and reroll the remaining dice; you continue doing this until all dice show a six. Estimate, using a simulation, how many rolls you need to make all dice show a six.\n",
    "\n",
    "It is actually not that hard to imagine how you do this as a human. You would take six dice, and begin rolling, setting aside all sixes until all dice show six. You write down how many rolls you needed. You then repeat the process a large number of times, each time writing down the number of rolls needed. When you think you have gathered enough rolls, you add them all up and divide by the number of trials. This is a boring task, but that is why we have a computer.\n",
    "\n",
    "When you think about this procedure, you may recognize that it consists of a number of nested loops. The outermost loop is the loop which controls the trials. In there you have a loop which controls the rerolls of the remaining dice. In there you have a loop which rolls each separate die, and keeps track of the dice that show a six. \n",
    "\n",
    "An experienced programmer may see no issues here and immediately code the whole procedure, but for an inexperienced programmer this is harder. A top-down approach would start at the outer loop, but it only makes sense to create that outer loop when you have code for the tasks that are in it. In this case, if you want to handle the problem step by step, you may want to start with the innermost task.\n",
    "\n",
    "Note: I am not saying that a top-down approach couldn't work here, but for inexperienced programmers it is helpful if you can immediately see that a task that you implemented is doing what it should do, and for a nested loop it is not easy to see that the outer loop is doing what it is supposed to do without having access to the inner loops."
   ]
  },
  {
   "cell_type": "markdown",
   "metadata": {},
   "source": [
    "## Rolling Dice"
   ]
  },
  {
   "cell_type": "markdown",
   "metadata": {},
   "source": [
    "When creating a solution for the die-rolling problem, we have to identify what the simplest task is that we need to solve. In the example, the simplest task is the rolling of a single die. There is no smaller task. We start by creating code for this task, which is a call to the `randint()` function."
   ]
  },
  {
   "cell_type": "code",
   "execution_count": null,
   "metadata": {
    "collapsed": true
   },
   "outputs": [],
   "source": [
    "from random import randint\n",
    "\n",
    "# Roll a single die\n",
    "die = randint( 1, 6 )\n",
    "\n",
    "print( die )"
   ]
  },
  {
   "cell_type": "markdown",
   "metadata": {},
   "source": [
    "Now rolling a single die works, you have to continue by rolling multiple dice. The problems says that you roll six dice. Rolling six dice you do in a loop."
   ]
  },
  {
   "cell_type": "code",
   "execution_count": null,
   "metadata": {
    "collapsed": true
   },
   "outputs": [],
   "source": [
    "from random import randint\n",
    "\n",
    "# Roll 6 dice\n",
    "for i in range( 6 ):\n",
    "    # Roll a single die\n",
    "    die = randint( 1, 6 )\n",
    "    print( die )"
   ]
  },
  {
   "cell_type": "markdown",
   "metadata": {},
   "source": [
    "The next step is that we run an actual trial: we need to set aside the sixes, and continue repeating the rolling of the remaining dice until we have six sixes. This is probably the hardest step, so we may want to split it up into different steps again. First, let's determine how many sixes we have rolled."
   ]
  },
  {
   "cell_type": "code",
   "execution_count": null,
   "metadata": {
    "collapsed": true
   },
   "outputs": [],
   "source": [
    "from random import randint\n",
    "\n",
    "number_of_sixes = 0\n",
    "# Roll 6 dice\n",
    "for i in range( 6 ):\n",
    "    # Roll a single die\n",
    "    die = randint( 1, 6 )\n",
    "    print( die )\n",
    "    # Count number of sixes\n",
    "    if die == 6:\n",
    "        number_of_sixes += 1\n",
    "        \n",
    "print( \"Number of sixes:\", number_of_sixes )"
   ]
  },
  {
   "cell_type": "markdown",
   "metadata": {},
   "source": [
    "The code above represent the rolling of six dice once. But we need to reroll the dice until they all show a 6. This means that we have to build a loop around this code. To build that loop, we need to realize two things: (1) the variable `number_of_sixes` is set to zero before we do the first roll, and we continue rolling dice until this variable is 6; and (2) we only reroll those dice which do not show 6, so we do not roll six dice every time, but `6 - number_of_sixes` dice. This leads to the following code:"
   ]
  },
  {
   "cell_type": "code",
   "execution_count": null,
   "metadata": {
    "collapsed": true
   },
   "outputs": [],
   "source": [
    "from random import randint\n",
    "\n",
    "number_of_sixes = 0\n",
    "while number_of_sixes < 6:\n",
    "    # Roll all dice which do not show 6 yet\n",
    "    for i in range( 6-number_of_sixes ):\n",
    "        # Roll a single die\n",
    "        die = randint( 1, 6 )\n",
    "        print( die )\n",
    "        # Count number of sixes\n",
    "        if die == 6:\n",
    "            number_of_sixes += 1\n",
    "    print( \"Number of sixes:\", number_of_sixes )"
   ]
  },
  {
   "cell_type": "markdown",
   "metadata": {},
   "source": [
    "What we have to count is how many rolls we needed to get to six sixes, so we have to count how often the `while`-loop is repeated. We do this by initializing a variable `rolls` to zero at the beginning, and increasing it every time we go through the outer loop."
   ]
  },
  {
   "cell_type": "code",
   "execution_count": null,
   "metadata": {
    "collapsed": true
   },
   "outputs": [],
   "source": [
    "from random import randint\n",
    "\n",
    "rolls = 0\n",
    "number_of_sixes = 0\n",
    "while number_of_sixes < 6:\n",
    "    # Roll all dice which do not show 6 yet\n",
    "    for i in range( 6-number_of_sixes ):\n",
    "        # Roll a single die\n",
    "        die = randint( 1, 6 )\n",
    "        print( die )\n",
    "        # Count number of sixes\n",
    "        if die == 6:\n",
    "            number_of_sixes += 1\n",
    "    # Count number of rolls\n",
    "    rolls += 1\n",
    "    print( \"Number of sixes:\", number_of_sixes )\n",
    "print( \"Number of rolls:\", rolls )"
   ]
  },
  {
   "cell_type": "markdown",
   "metadata": {},
   "source": [
    "You can test this code and see that it works. We have completed the code for running a single trial. We now need to repeat this a large number of times, and calculate the average of the number of rolls needed. I usually recommend starting with a small number of trials as you do not know yet how slow the code is. Also, before you add running more trials, you should remove the `print()` statements that were added for debugging purposes, otherwise the output will be unreadable.\n",
    "\n",
    "In the following code a variable `total_rolls` is added, which keeps track of the total number of rolls for all the trials. At the end of the program, this total is divided by the number of trials to determine the estimated number of rolls needed."
   ]
  },
  {
   "cell_type": "code",
   "execution_count": null,
   "metadata": {
    "collapsed": true
   },
   "outputs": [],
   "source": [
    "from random import randint\n",
    "\n",
    "total_rolls = 0\n",
    "for j in range( 1000 ):\n",
    "    rolls = 0\n",
    "    number_of_sixes = 0\n",
    "    while number_of_sixes < 6:\n",
    "        # Roll all dice which do not show 6 yet\n",
    "        for i in range( 6-number_of_sixes ):\n",
    "            # Roll a single die\n",
    "            die = randint( 1, 6 )\n",
    "            # Count number of sixes\n",
    "            if die == 6:\n",
    "                number_of_sixes += 1\n",
    "        # Count number of rolls\n",
    "        rolls += 1\n",
    "    # Count total number of rolls needed\n",
    "    total_rolls += rolls\n",
    "    \n",
    "print( total_rolls/1000 )"
   ]
  },
  {
   "cell_type": "markdown",
   "metadata": {},
   "source": [
    "## Improvements to the Dice Rolling Program"
   ]
  },
  {
   "cell_type": "markdown",
   "metadata": {},
   "source": [
    "While the dice rolling program that we developed works, I wish to point out several potential improvements.\n",
    "\n",
    "The first improvement has to do with so-called \"magic numbers.\" Sometimes a program contains numbers which have an arbitrary value that needs an explanation on what they mean. In the case of the developed program, there are three magic numbers: 6 which is the maximum value of a die, 6 which is the number of dice, and 1000 which is the number of trials. \n",
    "\n",
    "In general, it makes sense to replace such magic numbers with a constant: in Python a variable with a fixed value which is never changed in the program, and which for clarity is written in uppercase letters. There are three advantages of doing this: (1) the meaning of such a value is self-documented; (2) if two of these magic numbers are the same (e.g., 6 in this program) their uses are clearly distinguished in the program; and (3) if the value changes (e.g., you want to run more trials), you only need to change it in one place in the program. The code becomes:"
   ]
  },
  {
   "cell_type": "code",
   "execution_count": null,
   "metadata": {
    "collapsed": true
   },
   "outputs": [],
   "source": [
    "from random import randint\n",
    "\n",
    "TRIALS = 1000\n",
    "DIE_VALUE = 6\n",
    "NUM_DICE = 6\n",
    "\n",
    "total_rolls = 0\n",
    "for j in range( TRIALS ):\n",
    "    rolls = 0\n",
    "    number_of_die_value = 0\n",
    "    while number_of_die_value < NUM_DICE:\n",
    "        # Roll all dice which do not show DIE_VALUE yet\n",
    "        for i in range( NUM_DICE - number_of_die_value ):\n",
    "            # Roll a single die\n",
    "            die = randint( 1, DIE_VALUE )\n",
    "            # Count number of dice which show DIE_VALUE\n",
    "            if die == DIE_VALUE:\n",
    "                number_of_die_value += 1\n",
    "        # Count number of rolls\n",
    "        rolls += 1\n",
    "    # Count total number of rolls needed\n",
    "    total_rolls += rolls\n",
    "    \n",
    "print( total_rolls/TRIALS )"
   ]
  },
  {
   "cell_type": "markdown",
   "metadata": {},
   "source": [
    "The second improvement is to pack running a single trial in a function. While the present program is rather short and may not really need functions, for more complex programs which, for instance, need deeper nested loops, packing a task which can be distinguished naturally in a function may improve readability and may help debugging.\n",
    "\n",
    "If you do this, you have to consider what the function needs (the input) and what it produces (the output). In this case, the function does not need any input, but will produce the number of rolls needed, as that is the only thing that we need to know of a trial."
   ]
  },
  {
   "cell_type": "code",
   "execution_count": null,
   "metadata": {
    "collapsed": true
   },
   "outputs": [],
   "source": [
    "from random import randint\n",
    "\n",
    "TRIALS = 1000\n",
    "DIE_VALUE = 6\n",
    "NUM_DICE = 6\n",
    "\n",
    "# Runs a single trial, in which NUM_DICE dice are rolled, and all dice which do\n",
    "# not show DIE_VALUE are rerolled until they all show DIE_VALUE. It returns the\n",
    "# number of rolls needed.\n",
    "def trial():\n",
    "    rolls = 0\n",
    "    number_of_die_value = 0\n",
    "    while number_of_die_value < NUM_DICE:\n",
    "        # Roll all dice which do not show DIE_VALUE yet\n",
    "        for i in range( NUM_DICE - number_of_die_value ):\n",
    "            # Roll a single die\n",
    "            die = randint( 1, DIE_VALUE )\n",
    "            # Count number of dice which show DIE_VALUE\n",
    "            if die == DIE_VALUE:\n",
    "                number_of_die_value += 1\n",
    "        # Count number of rolls\n",
    "        rolls += 1\n",
    "    return rolls\n",
    "\n",
    "total_rolls = 0\n",
    "for j in range( TRIALS ):\n",
    "    rolls = trial()\n",
    "    total_rolls += rolls\n",
    "    \n",
    "print( total_rolls/TRIALS )"
   ]
  },
  {
   "cell_type": "markdown",
   "metadata": {},
   "source": [
    "With the introduction of such a function, we can make a further improvement. It is a bit ugly that a function uses constants which are defined outside the function. Constants belong to the main program. So these could simply be given to the function as input parameters. The big advantage is that the function `trial()` is now \"generalised\" for different numbers of dice, and different types of dice. "
   ]
  },
  {
   "cell_type": "code",
   "execution_count": null,
   "metadata": {
    "collapsed": true
   },
   "outputs": [],
   "source": [
    "from random import randint\n",
    "\n",
    "# Runs a single trial, in which num_dice dice are rolled, and all dice which do\n",
    "# not show die_value are rerolled until they all show die_value. It returns the\n",
    "# number of rolls needed.\n",
    "def trial( die_value, num_dice ):\n",
    "    rolls = 0\n",
    "    number_of_die_value = 0\n",
    "    while number_of_die_value < num_dice:\n",
    "        # Roll all dice which do not show die_value yet\n",
    "        for i in range( num_dice - number_of_die_value ):\n",
    "            # Roll a single die\n",
    "            die = randint( 1, die_value )\n",
    "            # Count number of dice which show die_value\n",
    "            if die == die_value:\n",
    "                number_of_die_value += 1\n",
    "        # Count number of rolls\n",
    "        rolls += 1\n",
    "    return rolls\n",
    "\n",
    "TRIALS = 1000\n",
    "DIE_VALUE = 6\n",
    "NUM_DICE = 6\n",
    "\n",
    "total_rolls = 0\n",
    "for j in range( TRIALS ):\n",
    "    rolls = trial( DIE_VALUE, NUM_DICE)\n",
    "    total_rolls += rolls\n",
    "    \n",
    "print( total_rolls/TRIALS )"
   ]
  },
  {
   "cell_type": "markdown",
   "metadata": {},
   "source": [
    "## How to Implement a Program Bottom-up"
   ]
  },
  {
   "cell_type": "markdown",
   "metadata": {},
   "source": [
    "With bottom-up programming you go through the following steps:\n",
    "\n",
    "<ul>\n",
    "<li>You identify the simplest tasks in the program, and implement those first and test them.</li>\n",
    "<li>You build more complex tasks around the simpler tasks that you already implemented, and test them.</li>\n",
    "<li>When you have implemented a naturally distinguishable task, you consider placing that task in a function. This is particularly helpful to avoid loops that are nested so deep that they become unreadable.</li>\n",
    "</ul>\n",
    "\n",
    "Bottom-up programming is most useful for tasks which are complex but which cannot easily be distinguished in sequential steps. "
   ]
  },
  {
   "cell_type": "markdown",
   "metadata": {},
   "source": [
    "---"
   ]
  },
  {
   "cell_type": "markdown",
   "metadata": {},
   "source": [
    "## Exercises"
   ]
  },
  {
   "cell_type": "markdown",
   "metadata": {},
   "source": [
    "### Exercise 7.1\n",
    "\n",
    "Design and write a program which estimates what the chance is that if you roll six regular six-sided dice, that the total value of the dice is 25 or higher. Use a bottom-up approach. Also make sure that it is easy to make the following three changes to the program: (1) you roll a different number of dice; (2) you roll a different kind of dice (e.g., 8-sided); and (3) you want the total value of the dice to be higher than something else than 25.\n",
    "\n",
    "### Exercise 7.2\n",
    "\n",
    "List all the 4-digit numbers for which the sum of the digits is equal to the product of the digits. Use a bottom-up approach.\n",
    "\n",
    "### Exercise 7.3\n",
    "\n",
    "List all numbers in a given range (so not just 4-digit numbers) for which the sum of the digits is equal to the product of the digits. If you wrote the code for the previous exercise in a generalised way, you have pretty much solved this. If you did not use a generalised way, you are probably going to have to add another loop somewhere.\n",
    "\n",
    "\n",
    "\n"
   ]
  },
  {
   "cell_type": "markdown",
   "metadata": {},
   "source": [
    "---"
   ]
  },
  {
   "cell_type": "markdown",
   "metadata": {},
   "source": [
    "End of Chapter 7. Version 1.0."
   ]
  }
 ],
 "metadata": {
  "kernelspec": {
   "display_name": "Python 3",
   "language": "python",
   "name": "python3"
  },
  "language_info": {
   "codemirror_mode": {
    "name": "ipython",
    "version": 3
   },
   "file_extension": ".py",
   "mimetype": "text/x-python",
   "name": "python",
   "nbconvert_exporter": "python",
   "pygments_lexer": "ipython3",
   "version": "3.6.1"
  }
 },
 "nbformat": 4,
 "nbformat_minor": 1
}
