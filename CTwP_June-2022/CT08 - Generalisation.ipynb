{
 "cells": [
  {
   "cell_type": "markdown",
   "metadata": {},
   "source": [
    "# Chapter 8 - Generalisation"
   ]
  },
  {
   "cell_type": "markdown",
   "metadata": {},
   "source": [
    "-------------------------------"
   ]
  },
  {
   "cell_type": "markdown",
   "metadata": {},
   "source": [
    "At the end of the previous chapter I showed how you can create a function that solves a task in a more general way than for the specific case that was required to solve the particular problem that you have at hand. A typical application of functions (and other programming concepts, but in this course the focus is on functions) is to generalise over multiple problems which need the same or very similar solutions. While seldom needed for smaller problems, it can be helpful to gain a \"feel\" for programming to think about how you can solve a problem in a more generalised way."
   ]
  },
  {
   "cell_type": "markdown",
   "metadata": {},
   "source": [
    "## Getting Input with Constraints"
   ]
  },
  {
   "cell_type": "markdown",
   "metadata": {},
   "source": [
    "In a previous chapter I introduced a function which asks the user for a number, which we used to ask for a number between 1 and 1000. The function looked something like this:"
   ]
  },
  {
   "cell_type": "code",
   "execution_count": null,
   "metadata": {
    "collapsed": true
   },
   "outputs": [],
   "source": [
    "def input_number_between_1_and_1000():\n",
    "    while True:\n",
    "        strnum = input( \"Give me a number between 1 and 1000: \" )\n",
    "        if not strnum.isdigit():\n",
    "            print( \"This is not an integer\" )\n",
    "            continue\n",
    "        num = int( strnum )\n",
    "        if num < 1 or num > 1000:\n",
    "            print( \"This is not a number between 1 and 1000\" )\n",
    "            continue\n",
    "        break\n",
    "    return num\n",
    "\n",
    "num = input_number_between_1_and_1000()\n",
    "print( \"The number is:\", num )"
   ]
  },
  {
   "cell_type": "markdown",
   "metadata": {},
   "source": [
    "Suppose that we need to write a program which asks the user for three numbers. One can be any number, as long as it is an integer, one has to be between 1 and 1000, and the last one has to be between 10 and 30. Potentially, you could write that program as follows:"
   ]
  },
  {
   "cell_type": "code",
   "execution_count": null,
   "metadata": {
    "collapsed": true
   },
   "outputs": [],
   "source": [
    "def input_number():\n",
    "    while True:\n",
    "        strnum = input( \"Give me a number: \" )\n",
    "        if not strnum.isdigit():\n",
    "            print( \"This is not an integer\" )\n",
    "            continue\n",
    "        num = int( strnum )\n",
    "        break\n",
    "    return num\n",
    "\n",
    "def input_number_between_1_and_1000():\n",
    "    while True:\n",
    "        strnum = input( \"Give me a number between 1 and 1000: \" )\n",
    "        if not strnum.isdigit():\n",
    "            print( \"This is not an integer\" )\n",
    "            continue\n",
    "        num = int( strnum )\n",
    "        if num < 1 or num > 1000:\n",
    "            print( \"This is not a number between 1 and 1000\" )\n",
    "            continue\n",
    "        break\n",
    "    return num\n",
    "\n",
    "def input_number_between_10_and_30():\n",
    "    while True:\n",
    "        strnum = input( \"Give me a number between 10 and 30: \" )\n",
    "        if not strnum.isdigit():\n",
    "            print( \"This is not an integer\" )\n",
    "            continue\n",
    "        num = int( strnum )\n",
    "        if num < 10 or num > 30:\n",
    "            print( \"This is not a number between 10 and 30\" )\n",
    "            continue\n",
    "        break\n",
    "    return num\n",
    "\n",
    "num1 = input_number()\n",
    "num2 = input_number_between_1_and_1000()\n",
    "num3 = input_number_between_10_and_30()\n",
    "print( f\"The numbers are {num1}, {num2}, and {num3}.\" )"
   ]
  },
  {
   "cell_type": "markdown",
   "metadata": {},
   "source": [
    "While this program works as it should, I assume that you see that this approach, whereby you have three functions which are pretty much the same apart from some details, is rather inferior. If you do not see it, please consider the following:\n",
    "\n",
    "<ul>\n",
    "<li>If you discover that you made a mistake in one of the functions, you probably have to fix it in three places rather than just one place.</li>\n",
    "<li>If you have to extend the program and let it ask for a number between 90 and 250, a number smaller than 120, and a number between -40 and 40, if you follow the same approach you have to make three more copies of one of the functions and adapt those.</li>\n",
    "</ul>"
   ]
  },
  {
   "cell_type": "markdown",
   "metadata": {},
   "source": [
    "## Generalising the Input Function"
   ]
  },
  {
   "cell_type": "markdown",
   "metadata": {},
   "source": [
    "To make the program more elegant, we want to make a generalised number-input function. This function should be useable in each of the cases that we need a number as input. To generalise a function, we need to identify what different cases the function needs to handle, and how we can let the function distinguish those cases based on input parameters.\n",
    "\n",
    "First, let's consider the situation in which the function has to ask a number in a certain range, like a number between 1 and 1000, and a number between 10 and 30. You can probably see that you can do this if you give the minimum and the maximum value of the range as parameters. We then get a function like this:"
   ]
  },
  {
   "cell_type": "code",
   "execution_count": null,
   "metadata": {
    "collapsed": true
   },
   "outputs": [],
   "source": [
    "def input_number_in_range( minvalue, maxvalue ):\n",
    "    while True:\n",
    "        strnum = input( f\"Give me a number between {minvalue} and {maxvalue}: \" )\n",
    "        if not strnum.isdigit():\n",
    "            print( \"This is not an integer\" )\n",
    "            continue\n",
    "        num = int( strnum )\n",
    "        if num < minvalue or num > maxvalue:\n",
    "            print( f\"This is not a number between {minvalue} and {maxvalue}\" )\n",
    "            continue\n",
    "        break\n",
    "    return num\n",
    "\n",
    "num1 = input_number_in_range( 1, 1000 )\n",
    "num2 = input_number_in_range( 10, 30 )\n",
    "print( f\"The numbers are {num1} and {num2}.\" )"
   ]
  },
  {
   "cell_type": "markdown",
   "metadata": {},
   "source": [
    "Note that the `minvalue` and `maxvalue` are used in three places in the function, namely in the prompt, in the comparison, and in one of the error messages.\n",
    "\n",
    "There is a bit of a problem in this function if the programmer calls the function with a `minvalue` that is higher than the `maxvalue`, because then the loop in the function becomes endless. To handle that, we can, for instance, let the function generate an exception (exception generation is a bit of an advanced topic, but it entails that the program will end with an error message if a certain condition occurs, in this case, when the function is called with `minvalue` greater than `maxvalue`). The function then looks as follows (if you run this program it will crash on the third call to the function):"
   ]
  },
  {
   "cell_type": "code",
   "execution_count": null,
   "metadata": {
    "collapsed": true
   },
   "outputs": [],
   "source": [
    "def input_number_in_range( minvalue, maxvalue ):\n",
    "    if minvalue > maxvalue:\n",
    "        raise Exception( f\"Error in call to input_number_in_range: {minvalue} is greater than {maxvalue}\" )\n",
    "    while True:\n",
    "        strnum = input( f\"Give me a number between {minvalue} and {maxvalue}: \" )\n",
    "        if not strnum.isdigit():\n",
    "            print( \"This is not an integer\" )\n",
    "            continue\n",
    "        num = int( strnum )\n",
    "        if num < minvalue or num > maxvalue:\n",
    "            print( f\"This is not a number between {minvalue} and {maxvalue}\" )\n",
    "            continue\n",
    "        break\n",
    "    return num\n",
    "\n",
    "num1 = input_number_in_range( 1, 1000 )\n",
    "num2 = input_number_in_range( 10, 30 )\n",
    "print( f\"The numbers are {num1} and {num2}.\" )\n",
    "num3 = input_number_in_range( 100, 0 )"
   ]
  },
  {
   "cell_type": "markdown",
   "metadata": {},
   "source": [
    "In the solution above we can use one function to ask for a number between 1 and 1000, and between 10 and 30. However, we also need to be able to ask for \"any number.\" How can we solve that?\n",
    "\n",
    "Different approaches are possible. If there is a certain absolute minimum and a certain absolute maximum, we can give those as arguments. However, Python does not have any limitation on the size of integers (most other programming languages do, and this is a common approach in such languages). We could also add a third paramater, which is a boolean which indicates whether \"any number is allowed\" or \"only numbers in a certain range are allowed.\" However, in that case we need to work with an extra parameter of which the functionality is confusing.\n",
    "\n",
    "You may also consider that a range is only legal if the `minvalue` is not higher than the `maxvalue`. We could therefore define that if you give a `minvalue` which is higher than the `maxvalue`, the function does not raise an exception, but simply allows any number. It would thus look like this:"
   ]
  },
  {
   "cell_type": "code",
   "execution_count": null,
   "metadata": {
    "collapsed": true
   },
   "outputs": [],
   "source": [
    "def input_number_in_range( minvalue, maxvalue ):\n",
    "    while True:\n",
    "        prompt = \"Give me a number: \"\n",
    "        if minvalue <= maxvalue:\n",
    "            prompt = f\"Give me a number between {minvalue} and {maxvalue}: \"\n",
    "        strnum = input( prompt )\n",
    "        if not strnum.isdigit():\n",
    "            print( \"This is not an integer\" )\n",
    "            continue\n",
    "        num = int( strnum )\n",
    "        if minvalue <= maxvalue:\n",
    "            if num < minvalue or num > maxvalue:\n",
    "                print( f\"This is not a number between {minvalue} and {maxvalue}\" )\n",
    "                continue\n",
    "        break\n",
    "    return num\n",
    "\n",
    "num1 = input_number_in_range( 100, 0 )\n",
    "num2 = input_number_in_range( 1, 1000 )\n",
    "num3 = input_number_in_range( 10, 30 )\n",
    "print( f\"The numbers are {num1}, {num2}, and {num3}.\" )"
   ]
  },
  {
   "cell_type": "markdown",
   "metadata": {},
   "source": [
    "The call to the function with `minvalue` greater than `maxvalue` still seems a bit \"tricky.\" It feels like we are \"misusing\" the parameters for something that they were not intended for. A possible solution is to hide this from the programmer who uses the function. We can give default values to `minvalue` and `maxvalue` such that when the function is called *without* these arguments, it will allow any number, while if a `minvalue` and `maxvalue` are specified, they are used to constrain the input.\n",
    "\n",
    "Since the function is now no longer limited to a range, we change the name to `input_number()`, which looks like this:"
   ]
  },
  {
   "cell_type": "code",
   "execution_count": null,
   "metadata": {
    "collapsed": true
   },
   "outputs": [],
   "source": [
    "def input_number( minvalue=0, maxvalue=-1 ):\n",
    "    while True:\n",
    "        prompt = \"Give me a number: \"\n",
    "        if minvalue <= maxvalue:\n",
    "            prompt = f\"Give me a number between {minvalue} and {maxvalue}: \"\n",
    "        strnum = input( prompt )\n",
    "        if not strnum.isdigit():\n",
    "            print( \"This is not an integer\" )\n",
    "            continue\n",
    "        num = int( strnum )\n",
    "        if minvalue <= maxvalue:\n",
    "            if num < minvalue or num > maxvalue:\n",
    "                print( f\"This is not a number between {minvalue} and {maxvalue}\" )\n",
    "                continue\n",
    "        break\n",
    "    return num\n",
    "\n",
    "num1 = input_number()\n",
    "num2 = input_number( 1, 1000 )\n",
    "num3 = input_number( 10, 30 )\n",
    "print( f\"The numbers are {num1}, {num2}, and {num3}.\" )"
   ]
  },
  {
   "cell_type": "markdown",
   "metadata": {},
   "source": [
    "## Abstraction"
   ]
  },
  {
   "cell_type": "markdown",
   "metadata": {},
   "source": [
    "Abstraction is a form of generalisation. I want to mention it here because it comes up sometimes, and for many it is unclear what the difference between abstraction and generalisation is. And frankly, the difference in computational terms is not entirely clear.\n",
    "\n",
    "We talk about abstraction when refering to the common attributes of a group of entities which we deal with in a program. For instance, when we have a program that deals with creating identification cards for the people who have an affiliation with a university, that program only needs to know of a person their administration number, their first name, and their last name, because it only needs to know these features to create a card. Of course, persons are much more than those three features, but for the program an abstraction of a person is an entity which only has these three features. As long as an entity is given to the program which has the features of this abstraction of a person, it can create a card for the entity.\n",
    "\n",
    "So it does not matter if the person is a student or a staff member, they can get a card from the program. Maybe in the past there was a separate program for creating cards for students and for creating cards for staff members, but since students and staff members have the features of the same, abstract person, one program is all that is necessary. You can say that the program has generalised over persons' roles.\n",
    "\n",
    "Abstraction is not of importance for the contents of this course, as it ignores object orientation, which is an advanced topic. Once you study object orientation, however, you may encounter the notion of \"abstract classes,\" which are entities in a program which are never instantiated by themselves, but which can be implemented by more specified classes. I will not say more about it here, as it will come up when you get to object orientation."
   ]
  },
  {
   "cell_type": "markdown",
   "metadata": {},
   "source": [
    "---"
   ]
  },
  {
   "cell_type": "markdown",
   "metadata": {},
   "source": [
    "## Exercises"
   ]
  },
  {
   "cell_type": "markdown",
   "metadata": {},
   "source": [
    "### Exercise 8.1\n",
    "\n",
    "Write a function which rolls a six-sided die. Call the function 1000 times, and calculate the average value of the roll of such a die (the answer should be close to 3.5).\n",
    "\n",
    "\n",
    "### Exercise 8.2\n",
    "\n",
    "While six-sided dice are the most common dice, there also exist 2-sided dice (basically, coins), 3-sided dice, 4-sided dice, 8-sided dice, 10-sided dice, 12-sided dice, and 20-sided dice. Adapt the function from the previous exercise in such a way that you can roll any of these dice based on a parameter that you give to the function.\n",
    "\n",
    "\n",
    "### Exercise 8.3\n",
    "\n",
    "In certain roleplaying games you can roll dice with \"advantage\" or \"disadvantage.\" This entails that you roll two of the dice, and with advantage you take the higher roll, and with disadvantage you take the lower roll. Generalise the function from the previous exercise in such a way that you can roll with advantage, with disadvantage, or normally.\n",
    "\n",
    "### Exercise 8.4*\n",
    "\n",
    "For some board games specialty dice are made. For instance, the game \"Dead End Drive\" uses six-sided dice with the values 2-3-3-4-4-5. \"Backgammon\" uses a six-sided die with the values 2-4-8-16-32-64. \"Betrayal at House on the Hill\" uses six-sided dice with the values 0-0-1-1-2-2. \"Calendar Dice\" are two six-sided dice, one with the values 0-1-2-3-4-5, and one with the values 0-1-2-6-7-8. \"Formula D\" has seven rather weird dice: a four-sided die with the values 1-1-2-2, a six-sided die with the values 2-3-3-4-4-4, an eight-sided die with the values 4-5-6-6-7-7-8-8, a twelve-sided die with the values 7 to 12 twice, a twenty-sided die with the values 11 to 20 twice, a thirty-sided die with the values 21 to 30 three times, and one regular twenty-sided die with the values 1 to 20. Generalise the function that you made in the previous exercise so that it also works with such irregular dice. Note that you need some way to communicate the kind of die to the function. You may assume that a die only has integers on its sides.\n",
    "\n",
    "### Exercise 8.5*\n",
    "\n",
    "Generalise the number-input function developed in this chapter so that it also accepts floating-point numbers. You should be able to indicate to the function whether it should be limited to integers or that it can accept both integers and floating-point numbers.\n",
    "\n",
    "\n",
    "\n",
    "\n"
   ]
  },
  {
   "cell_type": "markdown",
   "metadata": {},
   "source": [
    "---"
   ]
  },
  {
   "cell_type": "markdown",
   "metadata": {},
   "source": [
    "End of Chapter 8. Version 1.0."
   ]
  }
 ],
 "metadata": {
  "kernelspec": {
   "display_name": "Python 3",
   "language": "python",
   "name": "python3"
  },
  "language_info": {
   "codemirror_mode": {
    "name": "ipython",
    "version": 3
   },
   "file_extension": ".py",
   "mimetype": "text/x-python",
   "name": "python",
   "nbconvert_exporter": "python",
   "pygments_lexer": "ipython3",
   "version": "3.6.1"
  }
 },
 "nbformat": 4,
 "nbformat_minor": 1
}
