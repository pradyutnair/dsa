{
 "cells": [
  {
   "cell_type": "markdown",
   "metadata": {},
   "source": [
    "# Chapter 4 - Functions"
   ]
  },
  {
   "cell_type": "markdown",
   "metadata": {},
   "source": [
    "-------------------------------"
   ]
  },
  {
   "cell_type": "markdown",
   "metadata": {},
   "source": [
    "A function is a programming construct that may or may not receive some arguments, performs a task (in which it uses arguments that it received), and may or may not (but usually will) deliver one or more outcome values. In Python, a function is defined with the keyword `def`. Since this course assumes that you know the basics of Python, it assumes that you know about functions. However, you may not yet realize how and why you should use functions. \n",
    "\n",
    "If you are unsure about how to use functions in Python, please study Chapter 8 of *The Coder's Apprentice* (or Chapter 8 of the corresponding notebooks) first."
   ]
  },
  {
   "cell_type": "markdown",
   "metadata": {},
   "source": [
    "## A Simple Function"
   ]
  },
  {
   "cell_type": "markdown",
   "metadata": {},
   "source": [
    "Below I give a function which converts a temperature given in degrees Kelvin to degrees Celsius. The function, which is called `kelvin2celsius`, gets one parameter (or argument), namely `kelvin`, which is a temperature given in degrees Kelvin. It returns a floating-point value which is the corresponding temperature in degrees Celsius."
   ]
  },
  {
   "cell_type": "code",
   "execution_count": null,
   "metadata": {
    "collapsed": true
   },
   "outputs": [],
   "source": [
    "# kelvin2celsius converts a temperature in degrees Kelvin (given to the function as a numerical\n",
    "# argument \"kelvin\" which must be at least zero) to a temperature in degrees Celsius, which it\n",
    "# returns as a floating-point value.\n",
    "def kelvin2celsius( kelvin ):\n",
    "    return kelvin - 273.15\n",
    "\n",
    "temp = 100\n",
    "print( f\"{temp} degrees Kelvin is {kelvin2celsius( temp ):.2f} degrees Celsius\" )"
   ]
  },
  {
   "cell_type": "markdown",
   "metadata": {},
   "source": [
    "When you examine the function, you see that it is pretty simple: it merely subtracts 273.15 from the argument given to the function, and returns the resulting value. Maybe you knew how simple this conversion is. Maybe you did not. One of the big advantages of having functions is that you do not need to know how to do something, as long as you know how to use a function that does it for you.\n",
    "\n",
    "For the function `kelvin2celsius()` you need to know:\n",
    "<ul>\n",
    "    <li>that you can give it a temperature in degrees Kelvin as an integer or floating-point value</li>\n",
    "    <li>that it will calculate the corresponding temperature in degrees Celsius</li>\n",
    "    <li>that it will return the calculated temperature as a floating-point value</li>\n",
    "</ul>\n",
    "\n",
    "There are two more things that you should also know, or at least realize:\n",
    "\n",
    "First, the function will not have any side effects, i.e., by calling the function you will not influence anything else in the program. Caveat: The function may influence the argument or arguments given to it, if they are references (pointers). However, this then should be made clear in the function description. If you do not understand references, you can forget about them for this course, but they are an important advanced topic of a programming course.\n",
    "\n",
    "Second, the return value of the function is undefined if the argument given to it is not a legal value. For instance, if you call the function with -100 as argument, it will return -373.15; however, as zero degrees Kelvin is absolute zero, there are no lower temperatures, and thus the return value is not a legal temperature. Moreover, if you call the function with, for instance, a string, it will simply crash your program. The function could, of course, check whether the argument given is a legal value, and handle it in a graceful way (for instance, in the function above you could say that if an illegal temperature is given as argument, you will return -10000). But in principle it has no responsibility to do so, unless the function description says that it does.\n",
    "\n",
    "\n"
   ]
  },
  {
   "cell_type": "markdown",
   "metadata": {},
   "source": [
    "## Contract Programming"
   ]
  },
  {
   "cell_type": "markdown",
   "metadata": {},
   "source": [
    "\"Contract programming\" is a programming paradigm in which software designers write a precise definition of software components (such as functions) not only with respect to what they do, but specifically preconditions, postconditions, and invariants. Such a definition is called a \"contract.\" I will not go into the exact technical meaning of what contract programming is and requires, but I will use the contract metaphor to discuss how one should think about functions.\n",
    "\n",
    "A precondition is a description of the program's situation before a call to a function is made. In principle, a function can only know about this situation what is communicated to it by the arguments given to it. While it is true that in Python a function can also access global variables that exist outside the function, it is highly preferable that it does not do that. Because if it does not, when you call a function you know exactly what the function gets to work with: the arguments that you give to it, and nothing else. This makes the function independent from the program it resides in. \n",
    "\n",
    "From the perspective of the function, the precondition entails that it gets arguments that it can use. In the function description it must be specified what arguments the function needs, such as with respect to the data types and the value ranges. The contract only defines what the function will do if the arguments are \"legal.\" If you give the function anything else, what the function does is not specified.\n",
    "\n",
    "The postcondition of a function can be interpreted as its return value or values, and, if applicable, the changes it has made to the data structures which you have handed to it. For example, the `kelvin2celsius()` function above has as its postcondition that it presents you with the temperature in degrees Celsius which is equivalent to the temperature in degrees Kelvin given to the function. It does not make changes to a data structure. For an example of a function that changes a data structure: think about a function that you can give a list of numbers, which will then sort that list. Once the function has finished, the original list has been changed: it is now sorted.\n",
    "\n",
    "Finally, for functions the main invariant should be that no data within reach of the program is changed, with the exception of data that the function is given access to. \n",
    "\n",
    "In actuality, invariants are also meant to be about certain relations within the data. For instance, suppose that you are working with a program that is used to collect orders, such as you see on websites where you can buy stuff online. You have a list of items that you are going to order, and you also see the total cost of these items. Suppose now that there is a function that you can use to add an item to the list. An invariant would be that the sum of the prices of the items on the list is equal to the total cost shown, which entails that the function which adds the item also ensures that the total cost is updated when the function ends. When you write functions for a fairly complex programs which may influence relations between data items in the program, it makes sense to consider invariants about those relations as well."
   ]
  },
  {
   "cell_type": "markdown",
   "metadata": {},
   "source": [
    "## Using Functions"
   ]
  },
  {
   "cell_type": "markdown",
   "metadata": {},
   "source": [
    "There are two main ways in which you can use functions to make thinking about algorithms easier.\n",
    "\n",
    "The first is that when you think about an algorithm, you may realize that you need to do several things, each of which requires some non-trivial code. Taking all that code together might feel overwhelming. However, if you can split the whole algorithm in multiple function calls, it may become easier and more natural. Since this use of functions ties in with Problem Decomposition, I will leave it for the next chapter, which is all about that.\n",
    "\n",
    "The second is that you can use a function to encapsulate a functionality that you know you need to use, but can extract from the rest of your program in a way that you can solve it separately. This may sound a bit abstract, so let me make this clear with an example.\n",
    "\n",
    "When you do text processing, you often have to examine individual words in the text. For instance, you may wish to count how often a particular word occurs in the text. Now, to get access to the individual words, you need to split the text into those words. Usually a programming language has built-in functionalities for that; for instance, Python has the string method `split()`, which splits a string into individual words. However, suppose that I use that `split()` method on a particular string using the following code:\n",
    "\n"
   ]
  },
  {
   "cell_type": "code",
   "execution_count": null,
   "metadata": {
    "collapsed": true
   },
   "outputs": [],
   "source": [
    "drseuss = \"You know you’re in love when you can’t fall asleep because reality is finally better than your dreams.\"\n",
    "drseusslist = drseuss.split()\n",
    "print( drseusslist )\n",
    "print( f\"Number of times \\\"you\\\" occurs in this list: {drseusslist.count('you')}\" )"
   ]
  },
  {
   "cell_type": "markdown",
   "metadata": {},
   "source": [
    "How often does the word \"you\" occur in the given string? The answer is three times, but each of these times, it appears differently in the list of words produced by `split()`. You get one \"You\", one \"you're\", and one \"you\". You want the word \"you\" to be recognized in each of these cases. A simple solution is to turn the string into lowercase characters, and replace all characters in the string which are not letters with spaces, before you apply `split()`. You may say that you will \"clean\" the string before processing it.\n",
    "\n",
    "This \"cleaning\" of the string can be considered a separate activity that you need to undertake. You can imagine that you implement this activity in a function. That function would have as precondition that it receives a string, and as postcondition that it returns a \"cleaned\" version of the string. Naturally, the function should not affect the rest of the program.\n",
    "\n",
    "Maybe you need to do it only once, maybe you need it multiple times. If you need it multiple times, it definitely makes sense to place it in a function, so that you only need to have it once in your program. But even if you only need it once, turning a separate functionality into a function makes a program more readable and easier to understand and maintain.\n",
    "\n",
    "Here is an implementation of the `stringclean()` function:"
   ]
  },
  {
   "cell_type": "code",
   "execution_count": null,
   "metadata": {
    "collapsed": true
   },
   "outputs": [],
   "source": [
    "def stringclean( inputstring ):\n",
    "    outputstring = \"\"\n",
    "    for letter in inputstring.lower():\n",
    "        if letter >= 'a' and letter <= 'z':\n",
    "            outputstring += letter\n",
    "        else:\n",
    "            outputstring += \" \"\n",
    "    return outputstring\n",
    "\n",
    "drseuss = \"You know you’re in love when you can’t fall asleep because reality is finally better than your dreams.\"\n",
    "drseusslist = stringclean( drseuss ).split()\n",
    "print( drseusslist )\n",
    "print( f\"Number of times \\\"you\\\" occurs in this list: {drseusslist.count('you')}\" )"
   ]
  },
  {
   "cell_type": "markdown",
   "metadata": {},
   "source": [
    "## Advantage of Using Functions"
   ]
  },
  {
   "cell_type": "markdown",
   "metadata": {},
   "source": [
    "This is the big advantage of using functions that you should learn from the example above:\n",
    "\n",
    "Creating a function for a certain functionality allows you to concentrate on a small part of the problem that you have to solve with a program. As long as you know what input the functionality needs (in the \"cleaning\" example: a string -- *and nothing else*), and you know the output that the functionality needs to produce (in the \"cleaning\" example: a cleaned version of the input string), you can concentrate on developing the functionality disregarding all the other things that your program needs to do.\n",
    "\n",
    "Assuming that you have sufficient knowledge of the programming language that you need to use, usually writing a function is a relatively short and easy task. The main issue is that you need to recognize for what functionality it makes sense to put it in a function. In general, a function should implement a functionality that is relatively small, that can be extracted from the rest of the problem that you need to solve, and that is not doing \"too much.\""
   ]
  },
  {
   "cell_type": "markdown",
   "metadata": {},
   "source": [
    "## When Is a Function Doing Too Much?"
   ]
  },
  {
   "cell_type": "markdown",
   "metadata": {},
   "source": [
    "The remark that a function should not do \"too much\" needs further exploration. \n",
    "\n",
    "Let's go back to the \"cleaning\" example. Would it make sense to develop a function which counts how often the word \"you\" occurs in a string? Here is an implementation of such a function:"
   ]
  },
  {
   "cell_type": "code",
   "execution_count": null,
   "metadata": {
    "collapsed": true
   },
   "outputs": [],
   "source": [
    "def stringcountyou( inputstring ):\n",
    "    outputstring = \"\"\n",
    "    for letter in inputstring.lower():\n",
    "        if letter >= 'a' and letter <= 'z':\n",
    "            outputstring += letter\n",
    "        else:\n",
    "            outputstring += \" \"\n",
    "    return outputstring.split().count(\"you\")\n",
    "\n",
    "drseuss = \"You know you’re in love when you can’t fall asleep because reality is finally better than your dreams.\"\n",
    "print( f\"Number of times \\\"you\\\" occurs in this string: {stringcountyou(drseuss)}\" )"
   ]
  },
  {
   "cell_type": "markdown",
   "metadata": {},
   "source": [
    "Think about why this function `stringcountyou()` is doing \"too much.\"\n",
    "\n",
    "A main reason why it is doing too much, is that if you also want to count how often the word \"love\" occurs in the string, you would have to develop a separate function for that, which would be the same as the first function except that in the last statement of the function would use the word \"love\" instead of \"you\". Obviously that is not a good idea, as you would need a piece of code very similar to the function given for every different word you want to count. The function is too specific.\n",
    "\n",
    "Now, what if I would make the function a bit more general? Instead of letting it count \"you\", I will let it count any word, by giving the word that it needs to count as parameter. Like this:"
   ]
  },
  {
   "cell_type": "code",
   "execution_count": null,
   "metadata": {
    "collapsed": true
   },
   "outputs": [],
   "source": [
    "def stringcountword( inputstring, word ):\n",
    "    outputstring = \"\"\n",
    "    for letter in inputstring.lower():\n",
    "        if letter >= 'a' and letter <= 'z':\n",
    "            outputstring += letter\n",
    "        else:\n",
    "            outputstring += \" \"\n",
    "    return outputstring.split().count(word)\n",
    "\n",
    "drseuss = \"You know you’re in love when you can’t fall asleep because reality is finally better than your dreams.\"\n",
    "for word in ['you','love']:\n",
    "    print( f\"Number of times \\\"{word}\\\" occurs in this string: {stringcountword(drseuss,word)}\" )"
   ]
  },
  {
   "cell_type": "markdown",
   "metadata": {},
   "source": [
    "This definitely improves the function. However, is it still doing \"too much\"?\n",
    "\n",
    "There is at least one reason why you may think that this function is still doing too much, and that is that it will clean the original string every time that you want to count how often a particular word occurs in the string. In practice, you would only need to clean the string once, and use the cleaned string every time you want to count a word. In fact, the function is not only cleaning the string but also splitting it, and that splitting you are now doing for every word as well, while it would suffice to do it only once. \n",
    "\n",
    "A final reason why I would assess this function as doing too much, is that cleaning a string is a functionality that may have multiple uses. You can use it to count words, but you can, for instance, also use it to check how many words in the sentence occur in a dictionary. Or you can use it when you want to find out how long the longest word in a text is. If you combine the cleaning of the string with the use of the cleaned string (which is what the function `stringcountword()` does), then you make your functionality less generally useable. \n",
    "\n",
    "This reason might not hold for a program that *only* needs to count how often a word occurs. However, an experienced programmer would probably still consider that later the program may need changing and in that case it might be discovered that the cleaning code should have been isolated from the word counting code. "
   ]
  },
  {
   "cell_type": "markdown",
   "metadata": {},
   "source": [
    "## When Is a Function Doing Too Little?"
   ]
  },
  {
   "cell_type": "markdown",
   "metadata": {},
   "source": [
    "In principle, a function can never do \"too little.\"\n",
    "\n",
    "You may wonder whether it makes sense to develop a function which consists of only a single line of code. My answer would be: if one line of code is all it needs, why not?\n",
    "\n",
    "Take, for instance, the `kelvin2celsius()` function at the top of this chapter. It consists of one line of code, which subtracts 273.15 from the input value. If you need to do this conversion in a program, why not just do this subtraction in the main code rather than call a function for it? There are multiple reasons why you should have a function for this:\n",
    "\n",
    "<ul>\n",
    "<li>It makes the code self-documenting. If I see a call to a function `kelvin2celsius()`, I immediately understand what the code is doing. If instead I see 273.15 being subtracted from another number, I might not understand what it does. You can, of course, write a comment next to the subtraction, but I personally rather have code for which the comments are not necessary for understanding.</li>\n",
    "<li>It removes the necessity for me to understand how you convert Kelvin to Celsius. The function call turns this calculation into a \"black box.\" There are other temperature conversions which are more complex, such as converting Fahrenheit to Celsius. If I simply call functions for these conversions, the details of the conversion can be considered irrelevant for the understanding of the main program.</li>\n",
    "<li>It allows me to easily expand the functionality without affecting the main program. For instance, suppose that I have a Python program that needs to convert Kelvin to Celsius, and in the code I do that by simply subtracting 273.15 from the Kelvin value, as I assume that the value will always be legal. At some point it is discovered that illegal values are actually possible, and should be captured using exceptions (if you do not know what exceptions are, don't worry, you don't need to know that for this example). If I do the conversion in a function, I only need to adapt that function. If I do not have a function for the conversion, I have to search the whole program for places where 273.15 is subtracted from a value and capture exceptions there. </li>\n",
    "</ul>"
   ]
  },
  {
   "cell_type": "markdown",
   "metadata": {},
   "source": [
    "## What to Consider"
   ]
  },
  {
   "cell_type": "markdown",
   "metadata": {},
   "source": [
    "In summary, when you examine a problem and strike upon a functionality that you may want to lift out of the problem and develop a separate function for, consider the following:\n",
    "\n",
    "<ul>\n",
    "<li>Is the functionality clearly defined? What exactly does it need to do?</li>\n",
    "<li>Precondition: what does the functionality need as input? Make sure that you can give it everything it needs.</li>\n",
    "<li>What should happen if the requirements of the precondition are not met? It is okay if the functionality then produces nonsense or crashes the program, but you should at least consider whether you can handle erroneous inputs gracefully.</li>\n",
    "<li>Postcondition: what does the functionality produce? This will define the return values.</li>\n",
    "<li>Will the functionality have side effects with respect to the program it is part of? In general, it should not, but if it does this should be documented.</li>\n",
    "<li>Is the functionality doing \"too much\"? If you can recognize multiple steps in the functionality, some of which would have a general purpose beyond the functionality, you may have situation wherein it makes sense to split the functionality up further.</li>\n",
    "</ul>"
   ]
  },
  {
   "cell_type": "markdown",
   "metadata": {},
   "source": [
    "---"
   ]
  },
  {
   "cell_type": "markdown",
   "metadata": {},
   "source": [
    "## Exercises"
   ]
  },
  {
   "cell_type": "markdown",
   "metadata": {},
   "source": [
    "### Exercise 4.1\n",
    "\n",
    "Create a function `celsius2kelvin()` which converts a temperature given in degrees Celsius (a floating-point number) into degrees Kelvin.\n",
    "\n",
    "### Exercise 4.2\n",
    "\n",
    "If $F$ is a temperature in degrees Fahrenheit, and $C$ is a temperature in degrees Celsius, then $C=(5*(F-32)/9)$. Develop a function `fahrenheit2celsius()` which converts a temperature in degrees Fahrenheit to degrees Celsius, and a function `celsius2fahrenheit()` which does it the other way around.\n",
    "\n",
    "### Exercise 4.3\n",
    "\n",
    "Develop functions `kelvin2fahrenheit()` and `fahrenheit2kelvin()` which convert between degrees Fahrenheit and degrees Kelvin. Rather than developing these functions from the ground up, use calls to (some of) the functions from the previous exercises.\n",
    "\n",
    "### Exercise 4.4*\n",
    "\n",
    "You have to develop a program that gets a temperature as input, and shows what this temperature is in Kelvin, Celsius, and Fahrenheit. The input temperature is given as a number and a letter. The number (which you may assume is an integer) is the temperature value, and the letter is a 'C', 'F', or 'K', which indicates that the number represents a temperature in Celsius, Fahrenheit, or Kelvin respectively. For instance, if the input is \"100C\" that represents 100 degrees Celsius. The number can be negative.\n",
    "\n",
    "You may use the functions developed in previous exercises. Which other function or functions would be useful to have? Develop the program.\n"
   ]
  },
  {
   "cell_type": "markdown",
   "metadata": {},
   "source": [
    "---"
   ]
  },
  {
   "cell_type": "markdown",
   "metadata": {},
   "source": [
    "End of Chapter 4. Version 1.0."
   ]
  }
 ],
 "metadata": {
  "kernelspec": {
   "display_name": "Python 3",
   "language": "python",
   "name": "python3"
  },
  "language_info": {
   "codemirror_mode": {
    "name": "ipython",
    "version": 3
   },
   "file_extension": ".py",
   "mimetype": "text/x-python",
   "name": "python",
   "nbconvert_exporter": "python",
   "pygments_lexer": "ipython3",
   "version": "3.6.1"
  }
 },
 "nbformat": 4,
 "nbformat_minor": 1
}
