{
 "cells": [
  {
   "cell_type": "markdown",
   "metadata": {},
   "source": [
    "# Chapter 2 - Everyday Computational Thinking"
   ]
  },
  {
   "cell_type": "markdown",
   "metadata": {},
   "source": [
    "-------------------------------"
   ]
  },
  {
   "cell_type": "markdown",
   "metadata": {},
   "source": [
    "We do a lot of planning in our daily lives. To plan well, one has to use some form of computational thinking. Most people do this naturally. In this chapter I will show some examples of this, to demonstrate that, regardless how easy or how hard you think programming is, computational thinking is already a natural part of how you analyse problems."
   ]
  },
  {
   "cell_type": "markdown",
   "metadata": {},
   "source": [
    "## Handling a Shopping List"
   ]
  },
  {
   "cell_type": "markdown",
   "metadata": {},
   "source": [
    "Suppose that you have to make dinner in the evening, and you have to go shopping for ingredients. You check out the recipe that you want to make, and write down a list of ingredients that you need to purchase. Your goal is to have all those ingredients in your home when you are done shopping. Consider the following approaches:\n",
    "\n",
    "__Approach 1__\n",
    "\n",
    "You stay home and play videogames all day. When evening comes, the ingredients have mystically appeared in your fridge.\n",
    "\n",
    "__Approach 2__\n",
    "\n",
    "You leave your house and wander about in a random way. If by chance you encounter one of the ingredients on the list, you take it. When dusk sets in your return home.\n",
    "\n",
    "__Approach 3__\n",
    "\n",
    "You take your list of ingredients into town. There you ask everyone you see whether they can help you acquire one of the items on the list. If they can, you do what they tell you to do. When the shops close, you return home.\n",
    "\n",
    "Using your computational thinking skills, analysing these approaches, you will probably conclude that none of them is likely to result in your desired goal. The first one most certainly will not, and the second and third will only succeed if you are really, really lucky. They definitely do not guarantee success. In practice, you will not follow any of these approaches -- you will have rejected them out of hand.\n",
    "\n",
    "Here are some approaches that are likely to achieve your goal.\n",
    "\n",
    "__Approach 4__\n",
    "\n",
    "You look at the top item on the list. You then check whether you already have this item in your home. If you do not, you go into town, go to the store that sells the item, purchase the item, and go home again. You then cross off the item. You repeat this procedure until you have no more items on the list.\n",
    "\n",
    "__Approach 5__\n",
    "\n",
    "First, you go through all the items on the list, and cross off those that you have already in your home, and then go into town. Second, you look at the top item on the list, go to the store that sells the item, purchase the item, and cross it off. You repeat this second step until you have no more items on the list. Third, you go home.\n",
    "\n",
    "__Approach 6__\n",
    "\n",
    "First, you go through all the items on the list, and cross off those that you have already in your home, and then go into town. Second, you look at the top item on the list, go to the store that sells the item. At that store you go through all the items on the list, and if the store has them, purchase them and cross them off. You repeat this second step until you have no more items on the list. Third, you go home.\n",
    "\n",
    "__Approach 7__\n",
    "\n",
    "This approach is the same as the third approach, except that in the first step you will check whether you have crossed off all the items on the list. If you find that you did, then you are finished at that point.\n",
    "\n",
    "Each of these approaches should in the end reach the desired goal. If you are only interested in reaching the goal, computationally speaking you have no preference for any of them. From a perspective of efficiency, however, you may have a preference. \n",
    "\n"
   ]
  },
  {
   "cell_type": "markdown",
   "metadata": {},
   "source": [
    "## Algorithms"
   ]
  },
  {
   "cell_type": "markdown",
   "metadata": {},
   "source": [
    "An algorithm is a sequence of well-defined instructions which can be followed to reach a certain goal. A computer program is an implementation of an algorithm.\n",
    "\n",
    "What exactly is meant with \"well-defined\" depends on who or what is supposed to follow the instructions of the algorithm. If, for instance, there is an algorithm for handling a shopping list with one of the approaches mentioned above, and you are the person who executes the algorithm, an instruction such as \"purchase a liter of low-fat milk\" might be sufficiently well-defined. An instruction such as \"go into town\" might not be, however, as you might wonder which town is meant, if there are certain time limits, and what vehicle you should use.\n",
    "\n",
    "For the purpose of the discussions in this chapter, however, I will not bother too much about making instructions well-defined. Later on, when discussing algorithms that have to be turned into computer programs, we have to worry about that, but not right now.\n",
    "\n",
    "There are different ways of expressing algorithms. A very specific one is writing computer code using a programming language. A slightly more high-level one is using so-called \"pseudo-code,\" which is a language which looks a bit like a programming language, but is more general so that it can be translated to different programming languages. A very high-level one is using so-called \"flow diagrams.\""
   ]
  },
  {
   "cell_type": "markdown",
   "metadata": {},
   "source": [
    "## Flow Diagrams"
   ]
  },
  {
   "cell_type": "markdown",
   "metadata": {},
   "source": [
    "A flow diagram or \"flowchart\" consists of boxes connected by lines. Boxes with different shapes have a different role. The boxes contain instructions. The lines which connect the boxes together indicate the order in which the instructions must be executed. A beginning and an end to the flow diagram are specified.\n",
    "\n",
    "Traditionally, flow diagrams were used by computer programmers to define their programs before they implemented them. As creating flow diagrams tends to be a very time-intensive process which is unwieldy for anything but really small programs, almost no one uses them nowadays, except for educational purposes. For the purpose of this course it makes sense to explain them here.\n",
    "\n",
    "We will only use the most basic flow diagram elements, as shown in the image below.\n",
    "\n",
    "<img src=\"img/flowchart_elements.png\" alt=\"flowchart elements\" style=\"width:500px;\"><br>\n",
    "<div align=\"center\">Figure 2.1: Elements of a flow diagram.</div>\n",
    "\n",
    "The start/end point element will bear the label \"start\" or \"end.\" In general, in a flow diagram there is only one \"start\" point, which is where the algorithm starts. There may be multiple \"end\" points; the algorithm will end as soon as one of those is reached.\n",
    "\n",
    "By following the flow direction arrows, you follow the steps of the algorithm. You move in the arrow's direction. Sometimes, when the direction is unambiguous, the arrow tip is left off (as you cannot \"flow backwards\" in the diagram.\n",
    "\n",
    "A \"process step\" node indicates an instruction that must be followed.\n",
    "\n",
    "A \"decision\" node has multiple direction lines coming out of it. In the node is a question, and each line is marked by a possible answer to that question. You follow the direction line which bears the correct answer to the question. Very often the questions have only two answers: \"yes\" or \"no,\" or \"true\" or \"false.\" There is nothing against having decision nodes with more than two possible answers, though, except that the flow diagram may become unreadable if there are too many direction lines coming out of one decision node.\n",
    "\n",
    "I will now use flow diagrams to schematically represent some of the approaches to handling a shopping list discussed above."
   ]
  },
  {
   "cell_type": "markdown",
   "metadata": {},
   "source": [
    "## Shopping List Flow Diagram"
   ]
  },
  {
   "cell_type": "markdown",
   "metadata": {},
   "source": [
    "Here is a flow diagram which represents Approach 4 as given above:\n",
    "    \n",
    "<img src=\"img/flowchart_shopping4.png\" alt=\"flowchart shopping list approach 4\" style=\"width:360px;\"><br>\n",
    "<div align=\"center\">Figure 2.2: Flow diagram of Approach 4.</div>\n",
    "\n",
    "To make abundantly clear how a flow chart is processed, suppose that you have a shooping list that contains the following items:\n",
    "\n",
    "<ul>\n",
    "<li>spaghetti (sold at supermarket)</li>\n",
    "<li>pasta sauce (sold at supermarket)</li>\n",
    "<li>minced meat (sold at butcher)</li>\n",
    "<li>cheese (sold at supermarket)</li>\n",
    "</ul>\n",
    "\n",
    "If you follow the flow diagram with this shopping list, where you already have pasta sauce in the home, you take the following steps (if you have troubles following this, then please go over the steps one by one until you understand):\n",
    "\n",
    "<ul>\n",
    "<li>Start</li>\n",
    "<li>all items on shopping list crossed off?: <b>No</b></li>\n",
    "<li>look at top item on list: <b>spaghetti</b></li>\n",
    "<li><b>spaghetti</b> already in home?: <b>No</b></li>\n",
    "<li>go into town</li>\n",
    "<li>go to store which sells top <b>spaghetti</b>: <b>supermarket</b></li>\n",
    "<li>purchase <b>spaghetti</b></li>\n",
    "<li>go home</li>\n",
    "<li>cross off <b>spaghetti</b> on list</li>\n",
    "<li>all items on shopping list crossed off?: <b>No</b></li>\n",
    "<li>look at top item on list: <b>pasta sauce</b></li>\n",
    "<li><b>pasta sauce</b> already in home?: <b>Yes</b></li>\n",
    "<li>cross off <b>pasta sauce</b> on list</li>\n",
    "<li>all items on shopping list crossed off?: <b>No</b></li>\n",
    "<li>look at top item on list: <b>minced meat</b></li>\n",
    "<li><b>minced meat</b> already in home?: <b>No</b></li>\n",
    "<li>go into town</li>\n",
    "<li>go to store which sells <b>minced meat</b>: <b>butcher</b></li>\n",
    "<li>purchase <b>minced meat</b></li>\n",
    "<li>go home</li>\n",
    "<li>cross off <b>minced meat</b> on list</li>\n",
    "<li>all items on shopping list crossed off?: <b>No</b></li>\n",
    "<li>look at top item on list: <b>cheese</b></li>\n",
    "<li><b>cheese</b> already in home?: <b>No</b></li>\n",
    "<li>go into town</li>\n",
    "<li>go to store which sells <b>cheese</b>: <b>supermarket</b></li>\n",
    "<li>purchase <b>cheese</b></li>\n",
    "<li>go home</li>\n",
    "<li>cross off <b>cheese</b> on list</li>\n",
    "<li>all items on shopping list crossed off?: <b>Yes</b></li>\n",
    "<li>End</li>\n",
    "</ul>\n",
    "\n",
    "A few remarks on things you may have noticed when examining this run-through of the flow diagram:\n",
    "\n",
    "<ul>\n",
    "<li>While the first step described in Approach 4 is \"look at the top item of the list,\" the first step in the flow diagram is the question whether all items on the shopping list are crossed off, while only the second step is \"look at top item on list.\" The reason I have chosen to draw the flow diagram as I did, is that if by chance all items of the list are, by chance, already crossed off when you use the flow diagram, there is no top item to look at, and \"look at top item on list\" would result in an error. This change to Approach 4 is an example of what you may need to do when turning a procedure into an algorithm. An algorithm is supposed to \"work\" under any circumstance, in this case, even if the shopping list is empty.</li>\n",
    "<li>I filled in \"top item\" and \"store\" with specific values. For \"top item\" I substituted \"spaghetti,\" \"pasta sauce,\" \"minced meat,\" and \"cheese,\" and for store I substituted \"supermarket\" and \"butcher.\" This is an example of using \"variables\" in a flow diagram. The instructions in the diagram may refer to certain elements which may take on different values at different moments.</li>\n",
    "<li>While the flow diagram contains \"loops\" (arrows pointing back at earlier points of the diagram) and \"conditions\" (decision points where the diagram splits based on a question), when the flow diagram gets executed it turns into a sequence of instructions.</li>\n",
    "<li>When you examine the list of instructions that the flow diagram turns into, it is very clear that this list is inefficient, as you travel to town and back home no less than three times.</li>\n",
    "</ul>"
   ]
  },
  {
   "cell_type": "markdown",
   "metadata": {},
   "source": [
    "## A Second Shopping List Flow Diagram"
   ]
  },
  {
   "cell_type": "markdown",
   "metadata": {},
   "source": [
    "Here is a flow diagram which represents Approach 5 as given above:\n",
    "    \n",
    "<img src=\"img/flowchart_shopping5.png\" alt=\"flowchart shopping list approach 4\" style=\"width:300px;\"><br>\n",
    "<div align=\"center\">Figure 2.3: Flow diagram of Approach 5.</div>\n",
    "\n",
    "You may notice that this flow diagram consists of two parts. In the first part, the list is checked and items which you already have in the home are crossed off. In the second part, you go into town, purchase everything that you need to purchase, and go home again. This approach seems to be more efficient than Approach 4, and indeed, if you write out the sequence of steps for the shopping list used to check the previous flow diagram, you will notice that you go into town only once, rather than three times.\n",
    "\n",
    "You may also notice that Approach 5 is still not as efficient as it could be. You visit the supermarket twice in this approach, and in between the visits you go to the butcher. Even if you would reorder the shopping list to put the minced meat at the top or bottom, the instruction \"go to store which sells top item\" would be encountered twice for the supermarket. Approach 6 attempts to solve this issue.\n",
    "\n",
    "Moreover, Approach 7 introduces yet another optimisation which was not demonstrated with the example shopping list used. Namely, if you have all items on the list already in your home, then there is no need to go into town altogether, so Approach 7 makes sure that exceptional situation is handled as well. "
   ]
  },
  {
   "cell_type": "markdown",
   "metadata": {},
   "source": [
    "## Shopping in Real Life"
   ]
  },
  {
   "cell_type": "markdown",
   "metadata": {},
   "source": [
    "There is no doubt in my mind that if you go shopping for ingredients of a recipe in real life, you will use a pretty optimised series of steps that bring the ingredients into your home. You will not play videogames the whole day expecting that the ingredients just appear, nor will you use a random process in the hopes that it will lead to the desired result. You will not go shopping if you already have all the ingredients in your home. You will not travel into town multiple times if you can avoid it, and you will try to do all your shopping in one store before you go to the next.\n",
    "\n",
    "This means that in real life, you are quite capable of designing an algorithm for the activity of \"going shopping,\" even if you have not written out the algorithm in a flow diagram. \n",
    "\n",
    "You can argue that you do this automatically -- you never spend any time on \"designing a shopping algorithm,\" you just go shopping and it turns out that you do it in a relatively efficient way. This may be true, but you are still using an algorithm. Moreover, you are able to recognize inefficencies in your algoithms and correct them. You adapt to new situations. If you drive your car into town and you find that the road you always use is inaccessible, you find a way around it.\n"
   ]
  },
  {
   "cell_type": "markdown",
   "metadata": {},
   "source": [
    "---"
   ]
  },
  {
   "cell_type": "markdown",
   "metadata": {},
   "source": [
    "## Exercises"
   ]
  },
  {
   "cell_type": "markdown",
   "metadata": {},
   "source": [
    "### Exercise 2.1\n",
    "\n",
    "Create a flow diagram for Approach 6 and/or 7 which are listed at the top of this chapter.\n",
    "\n",
    "### Exercise 2.2\n",
    "\n",
    "Run through the flow diagram you created in Exercise 2.1 with the example shopping list given in the chapter, with a shopping list with only items you have in the home, and with a shopping list that is empty.\n",
    "\n",
    "### Exercise 2.3\n",
    "\n",
    "Design an algorithm for doing the dishes. You may keep it fairly high level. Include in the algorithm both the possibility that you have a dish washer and that you have to do the dishes by hand. Create a flow diagram.\n",
    "\n"
   ]
  },
  {
   "cell_type": "markdown",
   "metadata": {},
   "source": [
    "---"
   ]
  },
  {
   "cell_type": "markdown",
   "metadata": {},
   "source": [
    "End of Chapter 2. Version 1.0."
   ]
  }
 ],
 "metadata": {
  "kernelspec": {
   "display_name": "Python 3",
   "language": "python",
   "name": "python3"
  },
  "language_info": {
   "codemirror_mode": {
    "name": "ipython",
    "version": 3
   },
   "file_extension": ".py",
   "mimetype": "text/x-python",
   "name": "python",
   "nbconvert_exporter": "python",
   "pygments_lexer": "ipython3",
   "version": "3.6.1"
  }
 },
 "nbformat": 4,
 "nbformat_minor": 1
}
