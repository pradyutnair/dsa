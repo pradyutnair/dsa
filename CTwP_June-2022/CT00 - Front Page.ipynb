{
 "cells": [
  {
   "cell_type": "markdown",
   "metadata": {},
   "source": [
    "# Computational Thinking with Python"
   ]
  },
  {
   "cell_type": "markdown",
   "metadata": {},
   "source": [
    "Version 1.0, March 2022"
   ]
  },
  {
   "cell_type": "markdown",
   "metadata": {},
   "source": [
    "---"
   ]
  },
  {
   "cell_type": "markdown",
   "metadata": {},
   "source": [
    "__Pieter Spronck__\n",
    "\n",
    "<a href=\"mailto:p.spronck@gmail.com\">p.spronck@gmail.com</a>"
   ]
  },
  {
   "cell_type": "markdown",
   "metadata": {},
   "source": [
    "---"
   ]
  },
  {
   "cell_type": "markdown",
   "metadata": {},
   "source": [
    "This course program is implemented on the iPython platform, using Python 3. It is a companion course to *Data Processing with Python*, which is also laid out (for the most part) in the book *The Coder's Apprentice* by Pieter Spronck."
   ]
  },
  {
   "cell_type": "markdown",
   "metadata": {},
   "source": [
    "The course is designed to teach computational thinking skills to students who manage to learn the elements of programming languages, but have troubles designing algorithms. It aims to provide students with the ability to think about problems in such a way that they can design a program to solve them. \n",
    "\n",
    "The course assumes that the student knows the basics of a programming language. The course uses Python 3, but other programming languages should work as well."
   ]
  },
  {
   "cell_type": "markdown",
   "metadata": {},
   "source": [
    "You are welcome to use this course and adapt it to your own needs, but please give credit where credit is due.\n",
    "\n",
    "Feedback on the course is appreciated, to fix errors and inconsistencies, to add extra information and exercises, and to improve the learning experience of the students. Please send your feedback to the author's email address. "
   ]
  },
  {
   "cell_type": "markdown",
   "metadata": {},
   "source": [
    "## How to use this course"
   ]
  },
  {
   "cell_type": "markdown",
   "metadata": {},
   "source": [
    "The course consists of a small number of reasonably short chapters, most of which lay out one concept in computational thinking which directly translates to solving programming problems. The goal is for students to study the concepts, and then, when they encounter programming problems, consider which concepts apply. In time, these concepts should become second nature. The course is mainly meant for students who are still struggling with *how* to approach new programming problems.\n",
    "\n",
    "There are exercises in the chapters, but these are not sufficient to train. Rather, *any* programming problem can be used to train with computational thinking. So the training should happen automatically when a student is programming."
   ]
  },
  {
   "cell_type": "markdown",
   "metadata": {},
   "source": [
    "---"
   ]
  },
  {
   "cell_type": "markdown",
   "metadata": {},
   "source": [
    "End of Front Page. Version 1.0."
   ]
  }
 ],
 "metadata": {
  "kernelspec": {
   "display_name": "Python 3",
   "language": "python",
   "name": "python3"
  },
  "language_info": {
   "codemirror_mode": {
    "name": "ipython",
    "version": 3
   },
   "file_extension": ".py",
   "mimetype": "text/x-python",
   "name": "python",
   "nbconvert_exporter": "python",
   "pygments_lexer": "ipython3",
   "version": "3.6.1"
  }
 },
 "nbformat": 4,
 "nbformat_minor": 1
}
