{
 "cells": [
  {
   "cell_type": "markdown",
   "metadata": {},
   "source": [
    "# Chapter 10 - Recursion"
   ]
  },
  {
   "cell_type": "markdown",
   "metadata": {},
   "source": [
    "-------------------------------"
   ]
  },
  {
   "cell_type": "markdown",
   "metadata": {},
   "source": [
    "Recursion entails that functions can call themselves to make certain problems easier to solve. While it is an advanced topic, I thought that I would still spend a chapter on it, to try to explain it in a way that makes intuitively clear what recursion is about and why it works."
   ]
  },
  {
   "cell_type": "markdown",
   "metadata": {},
   "source": [
    "## Recursion in Real Life"
   ]
  },
  {
   "cell_type": "markdown",
   "metadata": {},
   "source": [
    "In an earlier chapter I discussed sorting. An example I used was sorting books on bookshelves. I explained that a typical way that people do this is first distribute the books over piles, for instance based on letters of the alphabet. Let's look at this example in a bit more detail.\n",
    "\n",
    "You have a large number of books, and you know that you can easily sort a pile of 10 books or less. You want the books on the shelves by the author's last name. So you begin by splitting the books over 26 piles, based on the first letter of the author's last name. Once you have done this, some of these piles will be 10 books or less; e.g., there may be no books at all on the pile marked by X, and just a few on the pile marked by U. However, many of the piles will be more than 10 books.\n",
    "\n",
    "Now you repeat the procedure for all the piles with more than 10 books, now using the second letter of the author's last name. For instance, the pile marked by S may have more than 10 books, so you now make piles Sa, Sb, Sc, ..., Sz. Many of these piles will remain empty, some of them may hold 10 books or less, and maybe some of them will still have more than 10 books.\n",
    "\n",
    "So you repeat the procedure with those piles which have more than 10 books, but now based on the third letter of the author's last name. For instance, the pile marked St will be divided over piles Sta, Stb, Stc, ..., etc.\n",
    "\n",
    "When does the procedure end? The easy answer is that it will end when all piles have 10 books or less. There is a small problem with this answer, as it may be the case that there is a pile with more than 10 books which all have the same last name. If we assume that in that case we do not want to further split up the pile as we no longer need to further sort it (which may not actually be the case, as there may be multiple authors with the same last name and we might still want to split it up further, but I will leave that possibility out), the answer is that it will end when all piles have either 10 books or less, or consist of only books with one and the same last name for the author. \n",
    "\n",
    "You can imagine code for this as follows:"
   ]
  },
  {
   "cell_type": "code",
   "execution_count": null,
   "metadata": {
    "collapsed": true
   },
   "outputs": [],
   "source": [
    "function sort_books( books ):\n",
    "    divide books over piles based on first letter of last name\n",
    "    for each of the piles do the following:\n",
    "        if pile contains more than 10 books and pile contains multiple author last names:\n",
    "            divide books over piles based on second letter of last name\n",
    "            for each of the piles do the following:\n",
    "                if pile contains more than 10 books and pile contains multiple author last names:\n",
    "                    divide books over piles based on third letter of last name\n",
    "                    ...etc.\n",
    "    place the books on the shelves in the order of the piles\n",
    "                    "
   ]
  },
  {
   "cell_type": "markdown",
   "metadata": {},
   "source": [
    "A big problem with this code is that we do not know how many loops we need to nest for this. If the maximum length of an author's last name is 20, then 20 nestings would suffice. However, notice that we are doing almost the same thing in each loop implementation, namely:\n",
    "\n",
    "<ul>\n",
    "<li>We check whether we need to further split up a pile, and</li>\n",
    "<li>If we need to further split up a pile, we do so on the next letter of the last name</li>\n",
    "</ul>\n",
    "\n",
    "So, you can imagine that you have a function that gets a pile of books, and a number of a letter of the last name, and splits up the pile."
   ]
  },
  {
   "cell_type": "code",
   "execution_count": null,
   "metadata": {
    "collapsed": true
   },
   "outputs": [],
   "source": [
    "function split_pile( books, nr_of_letter ):\n",
    "    split books into piles based on nr_of_letter of last name\n",
    "    for each pile:\n",
    "        if pile contains more than 10 books and pile contains multiple author last names:\n",
    "            split_pile( pile, nr_of_letter + 1 )\n",
    "    "
   ]
  },
  {
   "cell_type": "markdown",
   "metadata": {},
   "source": [
    "As you can see, this is a recursive call, as the function `split_pile()` calls itself.\n",
    "\n",
    "This is how recursion works. You have a problem which you solve by turning it into one or more easier problems (a big pile of books is turned into a series of smaller piles of books). The easier problems need the same solution approach as the harder problem. If an easier problem is still too hard, you turn it into one or more easier probems again, which again need the same solution approach. You continue doing this until the problems have become so easy that they basically have solved themselves.\n",
    "\n",
    "What is important is that this procedure is guaranteed to end at some point. In our case, the procedure will stop as soon as all piles are 10 books or less, or contain only books with the same last name. Because a pile can always be split up further if there are multiple last names in a pile, this procedure is guaranteed to end."
   ]
  },
  {
   "cell_type": "markdown",
   "metadata": {},
   "source": [
    "## Guessing a Number"
   ]
  },
  {
   "cell_type": "markdown",
   "metadata": {},
   "source": [
    "In the chapter on top-down programming, one of the exercises asks you to develop a program which lets the computer guess a number, that you memorize. You have to tell the computer \"higher,\" \"lower,\" or \"correct.\" \n",
    "\n",
    "If you make this a smart program, it will try to exclude half the possible numbers with each guess. For instance, if the number is between 1 and 1000, the computer can first guess 500. If the actual number is lower, the range is 1-499 (499 numbers), and if it is higher, then the range is 501-1000 (500 numbers). Suppose that the number is higher, then the computer's next guess would be the middle of the remaining range, so 750. If the actual number is lower, then the range is 501-749. Next, the computer asks the middle of that range, so 625. Etc. This approach guarantees that the computer needs no more than the square root of the maximum number as guesses (10 guesses for the range 1-1000).\n",
    "\n",
    "You can implement this in an iterative way. I.e., you keep track of the lower end and higher end of the range. The computer guesses the middle of the range. If the actual number is lower, the higher end of the range is moved to the middle (minus 1). If the actual number is higher, the lower end of the range is moved to the middle (plus 1). You continue doing this until the number is guessed or the range spans a single number.\n",
    "\n",
    "Code for this could be the following:"
   ]
  },
  {
   "cell_type": "code",
   "execution_count": null,
   "metadata": {
    "collapsed": true
   },
   "outputs": [],
   "source": [
    "def get_answer():\n",
    "    while True:\n",
    "        answer = input( \"(H)igher, (L)ower of (C)orrect: \" ).upper()\n",
    "        if answer not in \"HLC\":\n",
    "            continue\n",
    "        return answer\n",
    "\n",
    "print( \"Memorize a number between 1 and 100 \" )\n",
    "\n",
    "lo = 1\n",
    "hi = 100\n",
    "while True:\n",
    "    if lo > hi:\n",
    "        raise Exception( \"You are trying to cheat.\" )\n",
    "    mid = (lo + hi) // 2\n",
    "    if lo == hi:\n",
    "        break\n",
    "    print( \"I guess the number is\", mid )\n",
    "    answer = get_answer()\n",
    "    if answer == 'C':\n",
    "        break\n",
    "    elif answer == \"H\":\n",
    "        lo = mid + 1\n",
    "    else:\n",
    "        hi = mid - 1\n",
    "\n",
    "print( \"The number is\", mid )"
   ]
  },
  {
   "cell_type": "markdown",
   "metadata": {},
   "source": [
    "You can also think of implementing this recursively.\n",
    "\n",
    "A \"guess the number\" function gets a range of possible numbers. It will guess the middle of the range. If that is correct, the function is finished and returns the guessed number. If it is not correct, if the actual number is lower, it will play \"guess the number\" (i.e., a recursive call) with the smaller range which is lower than the guessed number. If the actual number is higher, it will play \"guess the number\" (i.e., a recursive call) with the smaller range which is higher than the guessed number. In both cases where the number is not correct, it will return the return value of the recursive call.\n",
    "\n",
    "This procedure is guaranteed to end, as upon every recursive call the length of the range is halved, and if the range has a length of 1 the number is guessed (it may be possible that the range gets length zero at some point, if the human gave incorrect answers to the guesses).\n",
    "\n",
    "In the following recursive implementation of the guess-the-number game, I use a list to store the numbers, and the list is halved on every recursive call. This is not an efficient way of coding as these lists take a lot of memory, but it seemed to me the clearest way to explain the example."
   ]
  },
  {
   "cell_type": "code",
   "execution_count": null,
   "metadata": {
    "collapsed": true
   },
   "outputs": [],
   "source": [
    "def get_answer():\n",
    "    while True:\n",
    "        answer = input( \"(H)igher, (L)ower of (C)orrect: \" ).upper()\n",
    "        if answer not in \"HLC\":\n",
    "            continue\n",
    "        return answer\n",
    "\n",
    "def guess_number( numbers ):\n",
    "    if len( numbers ) < 1:\n",
    "        raise Exception( \"You are trying to cheat.\" )\n",
    "    if len( numbers ) == 1:\n",
    "        return( numbers[0] )\n",
    "    mid = len( numbers ) // 2\n",
    "    print( \"I guess the number is\", numbers[mid] )\n",
    "    answer = get_answer()\n",
    "    if answer == 'C':\n",
    "        return numbers[mid]\n",
    "    elif answer == \"H\":\n",
    "        return guess_number( numbers[mid+1:] )\n",
    "    else:\n",
    "        return guess_number( numbers[:mid] )\n",
    "    \n",
    "print( \"Memorize a number between 1 and 100 \" )\n",
    "print( \"The number is\", guess_number( list( range( 1, 101 ) ) ) )"
   ]
  },
  {
   "cell_type": "markdown",
   "metadata": {},
   "source": [
    "---"
   ]
  },
  {
   "cell_type": "markdown",
   "metadata": {},
   "source": [
    "## Exercises"
   ]
  },
  {
   "cell_type": "markdown",
   "metadata": {},
   "source": [
    "### Exercise 10.1*\n",
    "\n",
    "In the \"guess the number\" game, can you keep track of the number of guesses made without using a global variable? Hint: let the function return two values, namely the correct number and the number of guesses, instead of only one.\n",
    "\n",
    "### Exercise 10.2*\n",
    "\n",
    "A list is sorted if the first half of the list is sorted, and the second half of the list is sorted, and the last element of the first half is lower than the first element of the second half. And, of course, a list of only one element is sorted. This is a recursive definition. Write a recursive function that checks if a list is sorted.\n"
   ]
  },
  {
   "cell_type": "markdown",
   "metadata": {},
   "source": [
    "---"
   ]
  },
  {
   "cell_type": "markdown",
   "metadata": {},
   "source": [
    "End of Chapter 10. Version 1.0."
   ]
  }
 ],
 "metadata": {
  "kernelspec": {
   "display_name": "Python 3",
   "language": "python",
   "name": "python3"
  },
  "language_info": {
   "codemirror_mode": {
    "name": "ipython",
    "version": 3
   },
   "file_extension": ".py",
   "mimetype": "text/x-python",
   "name": "python",
   "nbconvert_exporter": "python",
   "pygments_lexer": "ipython3",
   "version": "3.6.1"
  }
 },
 "nbformat": 4,
 "nbformat_minor": 1
}
