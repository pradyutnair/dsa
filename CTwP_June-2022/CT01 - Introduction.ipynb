{
 "cells": [
  {
   "cell_type": "markdown",
   "metadata": {},
   "source": [
    "# Chapter 1 - Introduction"
   ]
  },
  {
   "cell_type": "markdown",
   "metadata": {},
   "source": [
    "-------------------------------"
   ]
  },
  {
   "cell_type": "markdown",
   "metadata": {},
   "source": [
    "During my years of teaching programming to university students, I have found that while most students have no problems learning the language elements of programming languages, a considerable number of them have troubles designing algorithms. \n",
    "\n",
    "A programming language is like a toolkit. It offers the programmer ways to specify commands, conditions, loops, and other constructs. It is the programmer's job to combine these constructs in different ways so that the resulting program solves a particular problem. \n",
    "\n",
    "Programming courses that teach students a programming language usually are limited to teaching the different language elements. They introduce topics such as: what is a loop, what different ways does the language offer to write a loop, and how exactly does a loop work? The students then get to practice with these language elements to solve simple, straightforward problems. Such courses do not teach students how to solve more complex problem for which it is not immediately clear which language elements need to be used, and how and when they need to be used.\n",
    "\n",
    "Designing an approach to solve a problem with a computer program requires, maybe surprisingly, no programming skills. It requires computational thinking skills. \n",
    "\n",
    "What is computational thinking? I have found many definitions of the term, all different and all focusing on different aspects. In general, computational thinking encompasses the skills one needs to analyse a problem in such a way that one can design a computational solution for the problem, i.e., a solution which consists of a series of specific steps which, when executed exactly as specified, lead to a desired outcome. Once such a solution is designed, it can be turned into a program, which is when programming skills come in.\n",
    "\n",
    "What kind of skills are we talking about? Obviously, the ability to think logically and analytically helps. The ability to see patterns and to use abstractions is highly beneficial. The ability to distinguish relevant details from irrelevant ones is crucial. Occasionally, creativity plays a role in designing computational solutions. These skills are not only necessary for creating programs which solve complex problems, but are also highly desirable when dealing with real-life problems and when working in science.  \n",
    "\n",
    "One would hope that such skills would be taught in secondary schools, but usually the opposite is true. Most secondary schools teach pupils to solve a limited set of problems in very particular ways, leading to students who are used to following predefined steps to solve problems, rather than coming up with solution approaches on their own. A few topics in secondary schools, such as math, train pupils in computational thinking skills -- however, even for these topics pupils can get a passing grade if they just blindly follow the teacher's instructions. The consequence is that many students enter university with only limited computational thinking skills.\n",
    "\n",
    "However, my experience is that most students can pick up these skills when practicing with solving programming problems. They struggle at first, but over time, with enough practice, they get better at creating solutions. Many students have told me that there came a moment that they \"saw the light,\" after which creating programs became much easier and more fun. I have met only very few students who never reached the stage where they had acquired the necessary computational thinking skills.\n",
    "\n",
    "For me the question is how I teach computational thinking skills to students who still need to develop them further. Until recently, my only approach was telling students to practice: building solutions for problems with increasing complexity, asking for help when getting stuck, and studying other people's solutions after having designed a solution on one's own. I show students how I approach problems step by step, hoping that they pick up the skills that I am using by observing me. \n",
    "\n",
    "This approach works reasonably well. Most students who have trouble creating programming solutions *do* possess plenty of computational thinking skills, but sometimes they lie dormant because there was little reason to use them in the past. With practice, when using these skills, over time using them becomes natural.\n",
    "\n",
    "Regardless, I believe that the training of computational thinking skills can be more effective if it does not just rely on practicing with creating solutions. There are common concepts to computational thinking which can be made explicit and can be taught to students, to give them assistance in computational thought processes.\n",
    "\n",
    "This course teaches those common concepts."
   ]
  },
  {
   "cell_type": "markdown",
   "metadata": {},
   "source": [
    "## Prequisites and assumptions"
   ]
  },
  {
   "cell_type": "markdown",
   "metadata": {},
   "source": [
    "This course assumes that the students have basic programming skills. The programming language used in the course to create solutions is Python 3, but other programming languages will work as well. I picked Python because it is taught at many universities, and is easy to use, while still being extremely powerful. It is also really easy to read, so that those who know a different programming language but not Python, usually are still able to read and understand Python programs.\n",
    "\n",
    "The course is meant for self study. If a student is already able to use computational thinking skills, it is of little value. The course is really aimed at students who know programming language elements but have problems coming up with solutions to programming exercises."
   ]
  },
  {
   "cell_type": "markdown",
   "metadata": {},
   "source": [
    "## Outline"
   ]
  },
  {
   "cell_type": "markdown",
   "metadata": {},
   "source": [
    "Each chapter briefly discusses a topic on the practical use of computational thinking, usually guided by an example. Solutions will be developed step by step, to demonstrate how the particular use of computational thinking which is discussed, is applied. Usually the solution is also developed as a Python program (Python 3.5 or higher required). \n",
    "\n",
    "The chapters are not long. I deliberately wanted a short course. If I would hand someone a 200-page book they would probably not get into it at all. I wanted each chapter to quickly explain a simple concept which can be applied in many ways. Students should learn these concepts, and when they encounter a new problem, think which concepts apply to that problem. This may help creating solutions.\n",
    "\n",
    "Each chapter ends with several exercises. Note that these exercises are not sufficient to practice with the topics under discussion. However, computational thinking is required for almost any exercise that you do during a programming course. So you can practice with the approaches which are explained by doing any exercise at all.\n",
    "\n",
    "I wish to note that this course may not be complete. There may be many more topics that I could discuss. So I am interested in suggestions for further topics, for which I can then create new chapters."
   ]
  },
  {
   "cell_type": "markdown",
   "metadata": {},
   "source": [
    "---"
   ]
  },
  {
   "cell_type": "markdown",
   "metadata": {},
   "source": [
    "End of Chapter 1. Version 1.0."
   ]
  }
 ],
 "metadata": {
  "kernelspec": {
   "display_name": "Python 3",
   "language": "python",
   "name": "python3"
  },
  "language_info": {
   "codemirror_mode": {
    "name": "ipython",
    "version": 3
   },
   "file_extension": ".py",
   "mimetype": "text/x-python",
   "name": "python",
   "nbconvert_exporter": "python",
   "pygments_lexer": "ipython3",
   "version": "3.6.1"
  }
 },
 "nbformat": 4,
 "nbformat_minor": 1
}
