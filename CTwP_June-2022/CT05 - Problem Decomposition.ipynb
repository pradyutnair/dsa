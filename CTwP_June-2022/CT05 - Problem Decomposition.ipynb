{
 "cells": [
  {
   "cell_type": "markdown",
   "metadata": {},
   "source": [
    "# Chapter 5 - Problem Decomposition"
   ]
  },
  {
   "cell_type": "markdown",
   "metadata": {},
   "source": [
    "-------------------------------"
   ]
  },
  {
   "cell_type": "markdown",
   "metadata": {},
   "source": [
    "The core skill that you must acquire to succesfully design and implement algorithms is \"problem decomposition.\" This entails that you are able to divide a problem into a collection of smaller, manageable problems, each of which you can solve separately, which together solve the problem as a whole."
   ]
  },
  {
   "cell_type": "markdown",
   "metadata": {},
   "source": [
    "## Problem: Which Word Occurs the Most?"
   ]
  },
  {
   "cell_type": "markdown",
   "metadata": {},
   "source": [
    "Consider the following task: you have a text file, and you have to determine which word in the text file occurs the most. How will you accomplish this task?\n",
    "\n",
    "This is a very straightforward problem which you may see on an exam. On the exam, you usually get some code which you have to complete, which could look as follows: "
   ]
  },
  {
   "cell_type": "code",
   "execution_count": null,
   "metadata": {
    "collapsed": true
   },
   "outputs": [],
   "source": [
    "# Function get_word_with_highest_count() gets the name of a text file as input, and \n",
    "# should return the word that occurs most often in this file.\n",
    "def get_word_with_highest_count( filename ):\n",
    "    # Write your code here.\n",
    "    return \"<word with highest count>\"\n",
    "\n",
    "print( get_word_with_highest_count( \"pc_woodchuck.txt\" ) )"
   ]
  },
  {
   "cell_type": "markdown",
   "metadata": {},
   "source": [
    "An experienced programmer will hardly think about this problem, but will code a solution in a few minutes. The skills which such a programmer uses come with years and years of writing programs, and are not natural to most people who start out designing and implementing more complex programs. An inexperienced programmer will have to approach the problem systematically.\n",
    "\n",
    "If you get such a task as an inexperienced programmer, what you should definitely *not* do is start typing code. What you should do is *think* about the problem and devise a general solution. Because the problem as a whole might seem too daunting a task, what you should do is decompose the problem into smaller problems."
   ]
  },
  {
   "cell_type": "markdown",
   "metadata": {},
   "source": [
    "## Problem Decomposition: Flow Diagram"
   ]
  },
  {
   "cell_type": "markdown",
   "metadata": {},
   "source": [
    "Which smaller problems do you have to solve to accomplish the task? Obviously, you will have to read the contents of the file. You will have to count how often each word in the file occurs. And then you have to select the word that occurs the most.\n",
    "\n",
    "Let's turn this into a flow diagram.\n",
    "\n",
    "<img src=\"img/flowchart_wordcount1.png\" alt=\"flowchart count word occurrences\" style=\"width:200px;\"><br>\n",
    "<div align=\"center\">Figure 5.1: Flow diagram of finding the word that occurs the most.</div>\n",
    "\n",
    "We may consider each of the steps in this flow diagram a function. A function has a precondition/input (what goes into the function) and a postcondition/output (what does the function produce). Usually, the product of one step is what goes into the next step. So what are the inputs and outputs of each of these steps?\n",
    "\n",
    "For the first step, \"Read contents of file,\" the input is the name of the file. In the code supplied for the problem, the file name is indeed given, so it is available. What the step should produce is \"the contents of the file.\" The step is not explicit about how these contents are represented, but you probably know that if you read the contents of a file, you either get a string or a list of strings.\n",
    "\n",
    "Regardless how you represent the contents of the file, they are the input for the next step, \"Count how often each word occurs.\" What this step should produce is some data structure which contains all the words that are in the contents of the file, with for each word how often it occurs.\n",
    "\n",
    "Again, it isn't clear yet how you represent the words with their counts, but they are the input for the last step, \"Select the word with the highest count.\" The output of this step is a single word, namely the word which occurs the most, which you indeed can select if you know all the words in the file contents with their counts. \n"
   ]
  },
  {
   "cell_type": "markdown",
   "metadata": {},
   "source": [
    "## Selecting Data Structures"
   ]
  },
  {
   "cell_type": "markdown",
   "metadata": {},
   "source": [
    "As indicated, you need two data structures for the steps which are given in flow diagram 2.1. One data structure needs to represent the contents of the file, and a second data structure needs to represent all the words with their counts.\n",
    "\n",
    "You know that when you read a file, you can either get a string or a list of strings. Which of these two would be most appropriate for the present problem? A list of strings is mainly useful if you need to do something with the separate lines in the file, but the lines are not important for the current problem. So a string suffices. So, let's decide to represent the contents of the file as a string.\n",
    "\n",
    "How to represent words with their counts? Since we have to store multiple words -- we do not know yet how many --, we probably need a data structure which has some repetition in it. The three basic data structures in Python which have this are the list, the dictionary, and the set. Since we have to store a count with each word, we have the following main possibilities:\n",
    "\n",
    "<ul>\n",
    "<li>a list of tuples (word,count)</li>\n",
    "<li>a dictionary with the word as key and the count as value</li>\n",
    "<li>a set of tuples (word,count)</li>\n",
    "</ul>\n",
    "\n",
    "With some experience you may realize that the dictionary is probably the best choice, as you will have to go over all the words in the file contents, and update the count for a word every time you encounter it. Searching for a word in a list is slow (if you do not know why, check out a lecture on time complexity), while for a dictionary it is fast. \n",
    "\n",
    "A set of tuples won't work, but you have to know a bit about sets to realize why not. Suppose that I have in my set stored that the word \"you\" occurs twice; that would entail that according to my description, (\"you\",2) is an element of the set. I find the word \"you\" once more in the file contents, so I have to *remove* the item (\"you\",2) from the set, and *add* the item (\"you\",3). But I do not actually *know* that (\"you\",2) is in the set. So I have to search the whole set to see if somewhere there is an item in the set which has \"you\" as the first element of the item -- if I find it, I can read the second element, remove the item, and add a new item with 1 added to the second element; otherwise I add (\"you\",1) to the set. Really, if I am going to jump through such hoops, I better just use a list.\n",
    "\n",
    "For now, let's decide that we will use a dictionary to store the words with their counts."
   ]
  },
  {
   "cell_type": "markdown",
   "metadata": {},
   "source": [
    "## Using Functions for Steps"
   ]
  },
  {
   "cell_type": "markdown",
   "metadata": {},
   "source": [
    " We can now write with comments in the given code which steps we need to take:"
   ]
  },
  {
   "cell_type": "code",
   "execution_count": null,
   "metadata": {
    "collapsed": true
   },
   "outputs": [],
   "source": [
    "# Function get_word_with_highest_count() gets the name of a text file as input, and \n",
    "# should return the word that occurs most often in this file.\n",
    "def get_word_with_highest_count( filename ):\n",
    "    # Step 1: Read the contents of filename, and put them in string \"contents\".\n",
    "    # Step 2: Build a dictionary \"wordcounts\" which contains all the different words in \"contents\" with their counts.\n",
    "    # Step 3: Select the word with the highest count from \"wordcounts\".\n",
    "    return \"<word with highest count>\"\n",
    "\n",
    "print( get_word_with_highest_count( \"pc_woodchuck.txt\" ) )"
   ]
  },
  {
   "cell_type": "markdown",
   "metadata": {},
   "source": [
    "While usually you will not write extra functions for small functionalities, you can actually do that. Since it makes sense to think of these steps as functions, I will make such functions here explicitly."
   ]
  },
  {
   "cell_type": "code",
   "execution_count": null,
   "metadata": {
    "collapsed": true
   },
   "outputs": [],
   "source": [
    "# Reads the contents of filename and returns those as a string.\n",
    "def read_contents( filename ):\n",
    "    return \"\"\n",
    "\n",
    "# Builds a dictionary of all the words in the string contents, with their counts.\n",
    "def build_dictionary( contents ):\n",
    "    wordcounts = {}\n",
    "    return wordcounts\n",
    "\n",
    "# Selects the word with the highest count from dictionary wordcounts.\n",
    "def select_highest_count( wordcounts ):\n",
    "    return \"\"\n",
    "\n",
    "# Function get_word_with_highest_count() gets the name of a text file as input, and \n",
    "# should return the word that occurs most often in this file.\n",
    "def get_word_with_highest_count( filename ):\n",
    "    contents = read_contents( filename )  # Step 1: Read the contents of filename into string \"contents\".\n",
    "    wordcounts = build_dictionary( contents ) # Step 2: Build a dictionary \"wordcounts\".\n",
    "    return select_highest_count( wordcounts ) # Step 3: Select the word with the highest count.\n",
    "\n",
    "print( get_word_with_highest_count( \"pc_woodchuck.txt\" ) )"
   ]
  },
  {
   "cell_type": "markdown",
   "metadata": {},
   "source": [
    "We can now develop each of these functions separately, so that we can concentrate on just a small functionality. For instance, you probably have seen code that reads the contents of a file many times. If you have such code available, you can just copy and paste it (maybe with small adaptations, which you can make if you understand what you are copying/pasting). Here is the code again, now with the `read_contents()` function completed, and an extra test to see if that function works."
   ]
  },
  {
   "cell_type": "code",
   "execution_count": null,
   "metadata": {
    "collapsed": true
   },
   "outputs": [],
   "source": [
    "# Reads the contents of filename and returns those as a string.\n",
    "def read_contents( filename ):\n",
    "    with open( filename ) as fp:\n",
    "        return fp.read()\n",
    "\n",
    "# Builds a dictionary of all the words in the string contents, with their counts.\n",
    "def build_dictionary( contents ):\n",
    "    wordcounts = {}\n",
    "    return wordcounts\n",
    "\n",
    "# Selects the word with the highest count from dictionary wordcounts.\n",
    "def select_highest_count( wordcounts ):\n",
    "    return \"\"\n",
    "\n",
    "# Function get_word_with_highest_count() gets the name of a text file as input, and \n",
    "# should return the word that occurs most often in this file.\n",
    "def get_word_with_highest_count( filename ):\n",
    "    contents = read_contents( filename )  # Step 1: Read the contents of filename into string \"contents\".\n",
    "    wordcounts = build_dictionary( contents ) # Step 2: Build a dictionary \"wordcounts\".\n",
    "    return select_highest_count( wordcounts ) # Step 3: Select the word with the highest count.\n",
    "\n",
    "print( read_contents( \"pc_woodchuck.txt\" ) ) # Test of function read_contents().\n",
    "print( get_word_with_highest_count( \"pc_woodchuck.txt\" ) )"
   ]
  },
  {
   "cell_type": "markdown",
   "metadata": {},
   "source": [
    "We could probably also implement `select_highest_count()` fairly quickly if we had a test dictionary available. However, the second step, building a dictionary might still seem rather daunting. We need to further decompose the problem."
   ]
  },
  {
   "cell_type": "markdown",
   "metadata": {},
   "source": [
    "## Further Decomposition"
   ]
  },
  {
   "cell_type": "markdown",
   "metadata": {},
   "source": [
    "Even if we feel that the problem decomposition we have made seems a good approach to creating a solution, we still may find that certain steps in the solution are hard to get grips on. That usually entails that such steps try to do too many things and need further decomposition. \n",
    "\n",
    "In the example given, going from a string to a dictionary which contains all the words that are in the string with their counts, is such a daunting step. What will we need to do to solve this? \n",
    "\n",
    "First, we will need to split the string into individual words. We have to do that, because we have to handle individual words. Then we have to process each of those words, keeping track in a dictionary of how often we have encountered the word.\n",
    "\n",
    "We can expand the flow diagram to include this further decomposition.\n",
    "\n",
    "<img src=\"img/flowchart_wordcount2.png\" alt=\"flowchart count word occurrences expanded\" style=\"width:360px;\"><br>\n",
    "<div align=\"center\">Figure 5.2: Expanded flow diagram of finding the word that occurs the most.</div>\n",
    "\n",
    "Since we now have extra steps in the flow diagram, we have to decide what the input and output of each of these steps is.\n",
    "\n",
    "The step \"Split contents into individual words\" gets as input the contents of the file, represented as a string. As output it produces the individual words. A natural way to represent these words is as a list.\n",
    "\n",
    "The list produced in the previous step is then processed in a loop, which is visualized in the flow diagram. Every word is examined, and the count of that word is updated in the dictionary. The input for the step \"Update count of word in dictionary\" is the word that is being processed and *also* the dictionary. Without the dictionary, there is nothing to update! Once the loop is finished, we have a dictionary with word counts, which indeed is what needs to be produced.\n",
    "\n",
    "We can add these extra steps to the code that we are writing:\n"
   ]
  },
  {
   "cell_type": "code",
   "execution_count": null,
   "metadata": {
    "collapsed": true
   },
   "outputs": [],
   "source": [
    "# Reads the contents of filename and returns those as a string.\n",
    "def read_contents( filename ):\n",
    "    with open( filename ) as fp:\n",
    "        return fp.read()\n",
    "\n",
    "# Splits the string contents into a list of individual words.\n",
    "def split_contents( contents ):\n",
    "    wordlist = []\n",
    "    return wordlist\n",
    "    \n",
    "# Updates the count of word in the dictionary wordcounts.\n",
    "def update_wordcounts( wordcounts, word ):\n",
    "    pass\n",
    "    \n",
    "# Builds a dictionary of all the words in the string contents, with their counts.\n",
    "def build_dictionary( contents ):\n",
    "    wordcounts = {}\n",
    "    wordlist = split_contents( contents )\n",
    "    for word in wordlist:\n",
    "        update_wordcounts( wordcounts, word )\n",
    "    return wordcounts\n",
    "\n",
    "# Selects the word with the highest count from dictionary wordcounts.\n",
    "def select_highest_count( wordcounts ):\n",
    "    return \"\"\n",
    "\n",
    "# Function get_word_with_highest_count() gets the name of a text file as input, and \n",
    "# should return the word that occurs most often in this file.\n",
    "def get_word_with_highest_count( filename ):\n",
    "    contents = read_contents( filename )  # Step 1: Read the contents of filename into string \"contents\".\n",
    "    wordcounts = build_dictionary( contents ) # Step 2: Build a dictionary \"wordcounts\".\n",
    "    return select_highest_count( wordcounts ) # Step 3: Select the word with the highest count.\n",
    "\n",
    "print( get_word_with_highest_count( \"pc_woodchuck.txt\" ) )"
   ]
  },
  {
   "cell_type": "markdown",
   "metadata": {},
   "source": [
    "If it is not immediately clear to you how this code represents flow diagram 5.2, study it until you understand.\n",
    "\n",
    "Note that the function `update_word_counts()` does not return anything. The reason is that it updates a dictionary `wordcounts`; the effect that the function has is changing a dictionary, and not producing a return value. This is possible since dictionaries are \"passed by reference.\" "
   ]
  },
  {
   "cell_type": "markdown",
   "metadata": {},
   "source": [
    "## Implementing Steps"
   ]
  },
  {
   "cell_type": "markdown",
   "metadata": {},
   "source": [
    "Let's now consider what is needed to implement the steps that we have distinguished.\n",
    "\n",
    "`read_contents()` is already implemented.\n",
    "\n",
    "`split_contents()` needs to split a string into invidual words, and should produce a list of those words. If you do not know how to do that immediately, you may wish to further decompose this function. However, if you think back to the previous chapter, you may remember that in that chapter we already implemented this functionality. So with some copying and pasting, and a little bit of adaptation, you can easily fill this in. Note that this copying and pasting also introduces a new function in the code, namely the function `stringclean()`, which we developed earlier.\n",
    "\n",
    "When we add this functionality to the code that we are developing, we can test it before we continue with implementing the rest of the code. Here is the code with an extra test built in (the extra test is in the function `build_dictionary()`):"
   ]
  },
  {
   "cell_type": "code",
   "execution_count": null,
   "metadata": {
    "collapsed": true
   },
   "outputs": [],
   "source": [
    "# Reads the contents of filename and returns those as a string.\n",
    "def read_contents( filename ):\n",
    "    with open( filename ) as fp:\n",
    "        return fp.read()\n",
    "\n",
    "# Replaces all non-letters in a string with spaces and makes the string lowercase.\n",
    "def stringclean( inputstring ):\n",
    "    outputstring = \"\"\n",
    "    for letter in inputstring.lower():\n",
    "        if letter >= 'a' and letter <= 'z':\n",
    "            outputstring += letter\n",
    "        else:\n",
    "            outputstring += \" \"\n",
    "    return outputstring\n",
    "\n",
    "# Splits the string contents into a list of individual words.\n",
    "def split_contents( contents ):\n",
    "    return stringclean( contents ).split()\n",
    "\n",
    "# Updates the count of word in the dictionary wordcounts.\n",
    "def update_wordcounts( wordcounts, word ):\n",
    "    pass\n",
    "    \n",
    "# Builds a dictionary of all the words in the string contents, with their counts.\n",
    "def build_dictionary( contents ):\n",
    "    wordcounts = {}\n",
    "    wordlist = split_contents( contents )\n",
    "    print( wordlist ) # EXTRA TEST\n",
    "    for word in wordlist:\n",
    "        update_wordcounts( wordcounts, word )\n",
    "    return wordcounts\n",
    "\n",
    "# Selects the word with the highest count from dictionary wordcounts.\n",
    "def select_highest_count( wordcounts ):\n",
    "    return \"\"\n",
    "\n",
    "# Function get_word_with_highest_count() gets the name of a text file as input, and \n",
    "# should return the word that occurs most often in this file.\n",
    "def get_word_with_highest_count( filename ):\n",
    "    contents = read_contents( filename )  # Step 1: Read the contents of filename into string \"contents\".\n",
    "    wordcounts = build_dictionary( contents ) # Step 2: Build a dictionary \"wordcounts\".\n",
    "    return select_highest_count( wordcounts ) # Step 3: Select the word with the highest count.\n",
    "\n",
    "print( get_word_with_highest_count( \"pc_woodchuck.txt\" ) )"
   ]
  },
  {
   "cell_type": "markdown",
   "metadata": {},
   "source": [
    "The next function we need to consider is `update_wordcounts()`. In this function we need to look up a word in a dictionary, if it isn't in the dictionary we have to add it with value 1, and if it is already in the dictionary we need to add 1 to the value. This is pretty standard code which you probably have at your fingertips, or quickly look up in the study material. It is only one line of code.\n",
    "\n",
    "Finally, we need to implement the last step, where we have the select the word with the highest count. There are many different implementations that we can make for this functionality. One simple implementation is that we process each key of the dictionary and keep track of which has the highest value. Another approach is to turn the dictionary into a list of tuples of (key,value)-pairs, then sort that list according to the values. You can probably come up with other approaches as well. I don't think this step needs further decomposition, but you can make such a further decomposition if you need it.\n",
    "\n",
    "Here is the completed code:"
   ]
  },
  {
   "cell_type": "code",
   "execution_count": null,
   "metadata": {
    "collapsed": true
   },
   "outputs": [],
   "source": [
    "# Reads the contents of filename and returns those as a string.\n",
    "def read_contents( filename ):\n",
    "    with open( filename ) as fp:\n",
    "        return fp.read()\n",
    "\n",
    "# Replaces all non-letters in a string with spaces and makes the string lowercase.\n",
    "def stringclean( inputstring ):\n",
    "    outputstring = \"\"\n",
    "    for letter in inputstring.lower():\n",
    "        if letter >= 'a' and letter <= 'z':\n",
    "            outputstring += letter\n",
    "        else:\n",
    "            outputstring += \" \"\n",
    "    return outputstring\n",
    "\n",
    "# Splits the string contents into a list of individual words.\n",
    "def split_contents( contents ):\n",
    "    return stringclean( contents ).split()\n",
    "\n",
    "# Updates the count of word in the dictionary wordcounts.\n",
    "def update_wordcounts( wordcounts, word ):\n",
    "    wordcounts[word] = wordcounts.get( word, 0 )+1\n",
    "    \n",
    "# Builds a dictionary of all the words in the string contents, with their counts.\n",
    "def build_dictionary( contents ):\n",
    "    wordcounts = {}\n",
    "    wordlist = split_contents( contents )\n",
    "    for word in wordlist:\n",
    "        update_wordcounts( wordcounts, word )\n",
    "    return wordcounts\n",
    "\n",
    "# Selects the word with the highest count from dictionary wordcounts.\n",
    "def select_highest_count( wordcounts ):\n",
    "    highestcount = 0\n",
    "    highestword = \"\"\n",
    "    for word in wordcounts:\n",
    "        if wordcounts[word] > highestcount:\n",
    "            highestword = word\n",
    "            highestcount = wordcounts[word]\n",
    "    return highestword\n",
    "\n",
    "# Function get_word_with_highest_count() gets the name of a text file as input, and \n",
    "# should return the word that occurs most often in this file.\n",
    "def get_word_with_highest_count( filename ):\n",
    "    contents = read_contents( filename )  # Step 1: Read the contents of filename into string \"contents\".\n",
    "    wordcounts = build_dictionary( contents ) # Step 2: Build a dictionary \"wordcounts\".\n",
    "    return select_highest_count( wordcounts ) # Step 3: Select the word with the highest count.\n",
    "\n",
    "print( get_word_with_highest_count( \"pc_woodchuck.txt\" ) )"
   ]
  },
  {
   "cell_type": "markdown",
   "metadata": {},
   "source": [
    "## Isn't This Code Too Convoluted?"
   ]
  },
  {
   "cell_type": "markdown",
   "metadata": {},
   "source": [
    "You may wonder whether the code we produced for the problem is too convoluted. Besides the basic function `get_word_with_highest_count()` that we needed to implement, we implemented six other functions. Two of these only have one line of code, and one has two lines of code. All the functions are very simple and straightforward.\n",
    "\n",
    "My answer is that, yes, I think the code is a bit too convoluted the way it is written now. Having so many small functions does not make the code more readable. However, as an illustration of problem decomposition I think this works well: you can actually *see* that solving a bigger, fairly hard problem can be accomplished by solving six small, easy problems.\n",
    "\n",
    "In general, however, for this problem I would probably keep the function `stringclean()` as a separate function (as it was copied from somewhere else), but leave the rest of the code in the function `get_word_with_highest_count()`, perhaps with some comments in between the different steps of the flow diagram. The code would then look like this:"
   ]
  },
  {
   "cell_type": "code",
   "execution_count": null,
   "metadata": {
    "collapsed": true
   },
   "outputs": [],
   "source": [
    "# Replaces all non-letters in a string with spaces and makes the string lowercase.\n",
    "def stringclean( inputstring ):\n",
    "    outputstring = \"\"\n",
    "    for letter in inputstring.lower():\n",
    "        if letter >= 'a' and letter <= 'z':\n",
    "            outputstring += letter\n",
    "        else:\n",
    "            outputstring += \" \"\n",
    "    return outputstring\n",
    "\n",
    "# Function get_word_with_highest_count() gets the name of a text file as input, and \n",
    "# should return the word that occurs most often in this file.\n",
    "def get_word_with_highest_count( filename ):\n",
    "    \n",
    "    # Read the contents of filename\n",
    "    with open( filename ) as fp:\n",
    "        contents = fp.read()\n",
    "\n",
    "    # Build a dictionary of all the words in the string contents, with their counts.\n",
    "    wordcounts = {}\n",
    "    wordlist = stringclean( contents ).split() # Splits the string contents into a list of individual words.\n",
    "    for word in wordlist:\n",
    "        wordcounts[word] = wordcounts.get( word, 0 )+1 # Updates the count of word in the dictionary wordcounts.\n",
    "        \n",
    "    # Select the word with the highest count from dictionary wordcounts.\n",
    "    highestcount = 0\n",
    "    highestword = \"\"\n",
    "    for word in wordcounts:\n",
    "        if wordcounts[word] > highestcount:\n",
    "            highestword = word\n",
    "            highestcount = wordcounts[word]\n",
    "    return highestword\n",
    "\n",
    "print( get_word_with_highest_count( \"pc_woodchuck.txt\" ) )"
   ]
  },
  {
   "cell_type": "markdown",
   "metadata": {},
   "source": [
    "## How to Decompose a Problem"
   ]
  },
  {
   "cell_type": "markdown",
   "metadata": {},
   "source": [
    "Problem decomposition goes through the following steps:\n",
    "\n",
    "<ul>\n",
    "<li>If a problem seems to be too big to solve in one go, try to determine the different steps you need to take to solve the problem. You may be inspired by how you would solve the problem manually to determine the steps. It may help initially to draw a flow diagram or write pseudo code for the problem.</li>\n",
    "<li>For each step, determine what you need to execute the step, and what the step produces. Determine whether you indeed have what you need to take the step.</li>\n",
    "<li>If a step still seems to big to solve it in one go, further decompose it into smaller steps.</li>\n",
    "<li>Once all the steps are so simple that you can write code for them without much further thinking, implement and test the steps one by one.</li>\n",
    "</ul>"
   ]
  },
  {
   "cell_type": "markdown",
   "metadata": {},
   "source": [
    "---"
   ]
  },
  {
   "cell_type": "markdown",
   "metadata": {},
   "source": [
    "## Exercises"
   ]
  },
  {
   "cell_type": "markdown",
   "metadata": {},
   "source": [
    "### Exercise 5.1\n",
    "\n",
    "Several issues were not dealt with in the program developed in this chapter. One issue is what you will do when the file cannot be found. In that case, the program should return the word \"Error\". Another is that there may be more than one word which occurs the most. In that case, the program should return of those possible answers the word that is earliest in the alphabet. Identify in which steps you will have to take care of these issues, and adapt the program accordingly. Note that one of the advantages of a good decomposition is that it isn't hard to find where an adaptation must be made.\n",
    "\n",
    "### Exercise 5.2\n",
    "\n",
    "When you count how often words occur in a file, you will find that some words occur only once, some words occur twice, some words occur three times, etc. Design and implement a function which returns how many words in a file occur only once. You probably realize that you can reuse most of the code which is given in the chapter; you only need to adapt the last step a bit.\n",
    "\n",
    "### Exercise 5.3*\n",
    "\n",
    "In continuation of the previous exercise, design and implement a function which returns which wordcount occurs least often for a file. For instance, supposed that 5 words occur once, 3 words occur twice, 6 words occur three times, and 2 words occur four times, then the function returns 4, as the wordcount that occurs the least is 4 (namely it occurs for only 2 words). If you base this function on the code that was developed in this chapter, you will have to redesign the final step of the code. Do this with a flow diagram before implementing it. You may want to build a new data structure from the dictionary `wordcounts` in your solution.\n",
    "\n",
    "### Exercise 5.4*\n",
    "\n",
    "Take a number. If the number is even, divide it by 2, otherwise multiply it by 3 and add 1. Repeat the procedure with the new number. Continue repeating the procedure until you reach 1. E.g., if you start with 10, you divide by 2 to get 5. You multiply by 3 and add 1, which gives 16. 16 gets divided by 2 which gives 8. 8 gets divided by 2 which gives 4. 4 gets divided by 2 which gives 2. 2 gets divided by 2 which gives 1. The procedure was executes 6 times, namely 5 times dividing by 2, and once multiplying by 3 and adding 1.\n",
    "\n",
    "The Gollatz Conjecture says that this procedure will inevitably lead to 1. While the Conjecture is not proven yet, it has been checked up to numbers of 19 digits.\n",
    "\n",
    "Design and implement a function which gets a number as input and returns how often the procedure was executed before 1 was reached. Start by making a flow diagram which represents a task decomposition. If you can implement such tasks immediately, do so. Otherwise, make a further decomposition before you start implementing.\n",
    "\n",
    "### Exercise 5.5**\n",
    "\n",
    "In the Hangman game, you have to guess a word. You do this by guessing letters. The word is displayed as dashes for each letter, where a dash is replaced by the correct letter when you have guessed it. For instance, the word `PROGRAMMING` would be displayed as `-----------` as long as you have not guessed any letters, but when you have guessed R, it is displayed as `-R--R------`, and if you then guess M, it is displayed as `-R--R-MM---`. When guessing letters, a \"fail\" means that you guess a letter which is not in the word. You have a limited number of fails available before you lose the game. You win if you guess the word.\n",
    "\n",
    "Consider a Hangman program in which the computer controls the game. The computer selects a word, and lets the human player make guesses. The game ends with a win for the human when the word is completed, or with a loss for the human when there are 10 fails.\n",
    "\n",
    "Design and implement a Hangman program. Start with a high-level flow diagram. Each of the steps in the flow diagram is a task, and the flow diagram represents the problem decomposition. If for a task you can easily implement an algorithm, program it. If not, make a further decomposition of the task.\n",
    "\n",
    "Once you have an initial version of the program working, you will probably see further improvements that you can make. For instance, if your implementation lets the computer select a word from a small list, you can let the computer select the word from a dictionary which is stored in a text file. If you allowed the human to repeat letters as guesses, you can build in a check for that. If you did not tell the human what the actual word was when the game ends in a loss, you should probably add that. You can let the human specify the length of the word before a word is selected. Etcetera. This probably means that some of the tasks you defined become more complex, and you may have to make a further decomposition of the task. However, you should note that if you made a good problem decomposition in the first place, you usually only need to make changes to a single task to add the new functionality."
   ]
  },
  {
   "cell_type": "markdown",
   "metadata": {},
   "source": [
    "---"
   ]
  },
  {
   "cell_type": "markdown",
   "metadata": {},
   "source": [
    "End of Chapter 5. Version 1.0."
   ]
  }
 ],
 "metadata": {
  "kernelspec": {
   "display_name": "Python 3",
   "language": "python",
   "name": "python3"
  },
  "language_info": {
   "codemirror_mode": {
    "name": "ipython",
    "version": 3
   },
   "file_extension": ".py",
   "mimetype": "text/x-python",
   "name": "python",
   "nbconvert_exporter": "python",
   "pygments_lexer": "ipython3",
   "version": "3.6.1"
  }
 },
 "nbformat": 4,
 "nbformat_minor": 1
}
