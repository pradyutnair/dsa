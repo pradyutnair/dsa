{
 "cells": [
  {
   "cell_type": "markdown",
   "metadata": {},
   "source": [
    "# Chapter 3 - Thinking about Sorting"
   ]
  },
  {
   "cell_type": "markdown",
   "metadata": {},
   "source": [
    "-------------------------------"
   ]
  },
  {
   "cell_type": "markdown",
   "metadata": {},
   "source": [
    "The point I wanted to make in the previous chapter is that you are able to think computationally, to design algorithms, because you do it all the time. However, as a human you have the ability to adapt your algorithms on the fly if they are faulty. That is called \"improvisation,\" which, by the way, is also a form of computational thinking. Because of your ability to improvise, there is no need for you to really think carefully about the algorithms you use in your daily life. This is different for computers.\n",
    "\n",
    "An algorithm for a computer must be precise. It must be complete. It must be able to deal with any unforeseen circumstance, otherwise the algorithm will not reach its legitimate end and thus will not produce the desired result.\n",
    "\n",
    "Programming languages have been created to allow you to specify algorithms in a way that a computer can understand them. It is up to you, the programmer, to ensure that the algorithms that you present the computer with are indeed able to achieve the result that you want them to reach. \n",
    "\n",
    "In this chapter I will discuss the everyday task of sorting things, which is something that you occasionally need to do and for which you usually think a bit on how to do it most efficiently. This kind of thinking is also needed when writing computer programs. I will start, however, with a discussion of pseudo code, which can be an intermediate step between thinking about an algorithm and implementing it into code."
   ]
  },
  {
   "cell_type": "markdown",
   "metadata": {},
   "source": [
    "## Pseudo Code"
   ]
  },
  {
   "cell_type": "markdown",
   "metadata": {},
   "source": [
    "This course assumes that you can code in Python (even if you are not strong at designing algorithms with Python). So you can write program code. Writing pseudo code is a lot like writing program code, except that in pseudo code you can take \"shortcuts.\" Your code does not need to be able to run. It just must give a good, preferably unambiguous insight in what a program should look like. A programmer should be able to turn the pseudo code into a program in any computer language that would be suitable for implementing the algorithm.\n",
    "\n",
    "Often, in pseudo code you will be explicit about certain code elements which you would not need to be explicit about in your chosen programming language. For instance, in Python, if I want to create a variable, I just introduce the variable name and assign an initial value to it, e.g., `num = 0` creates a variable `num` which is a numerical variable, as a numerical value was assigned to it. In other programming languages variables have to be declared with a specific type before you can assign them a value. Therefore, someone who knows C++ but not Python might protest when they see a statement in pseudo code that just says `num = 0`, because in the eyes of this person the algorithm does not know that `num` is supposed to be an integer. Therefore, in pseudo code you would probably write `int num = 0`, to make explicit that num is a variable of the integer type, which can be used from the moment it has been declared.\n",
    "\n",
    "Another thing that you will often see in pseudo code is that code \"blocks\" are started with a curly starting bracket and closed with a curly closing bracket. The indentation of a code block would still be like it is in Python (as that is the most readable), but the curly brackets are there to make explicit that the statements within belong to a code block, as most programming languages are not as picky as Python about indentation.\n",
    "\n",
    "Finally, in pseudo code statements are often ended with a semi-colon, as that is common in most programming languages.\n",
    "\n",
    "The advantage of writing pseudo code is that you are allowed to be fairly \"loose\" in what you write. For instance, if in a statement you want to sort a list of persons with the name `personlist` by last name, followed by first name, you can just write `sort personlist by lastname, firstname` without being more specific on how you actually implement that.\n",
    "\n",
    "While the shopping list examples of the previous chapter are probably not suitable for pseudo code, considering that you will not implement them in actually program code, I could write a program in pseudo code for the flow diagrams that I gave. For instance, for the first flow diagram (Figure 2.1), the pseudo code is:\n"
   ]
  },
  {
   "cell_type": "code",
   "execution_count": null,
   "metadata": {
    "collapsed": true
   },
   "outputs": [],
   "source": [
    "while not 'all items on the list are crossed off'\n",
    "{\n",
    "    item topitem = 'top item on the list';\n",
    "    if not topitem 'is in the home'\n",
    "    {\n",
    "        'go into town';\n",
    "        'go to store which sells topitem';\n",
    "        'purchase topitem';\n",
    "        'go home';\n",
    "    }\n",
    "    'cross off' topitem 'on the list';\n",
    "}"
   ]
  },
  {
   "cell_type": "markdown",
   "metadata": {},
   "source": [
    "If it is not clear to you that this pseudo code is equivalent to flow diagram 2.1, please study it until it is clear."
   ]
  },
  {
   "cell_type": "markdown",
   "metadata": {},
   "source": [
    "## Real Life Sorting"
   ]
  },
  {
   "cell_type": "markdown",
   "metadata": {},
   "source": [
    "I will now give an example of a real-life task for which you will actually design an algorithm when you encounter it. Suppose that you have several boxes of books, and an empty bookcase. You are going to place the books on the shelves of the bookcase, and want to have them on the shelves in a particular order, for instance alphabetically. A situation like this may occur when you are moving houses. Ordering books on shelves is not something that you do every day, so you may not have an algorithm for it ready that you apply without thinking. So, how will you do this?\n",
    "\n",
    "Suppose that you want to order the books on the shelves by the last name of the author. A straightforward approach is that you begin by placing the first book on the top-left position of the top shelf, and every next book that you take you insert in its correct spot between the books that you have already placed. While this works, you will be constantly shifting books on shelves, as shelves fill up and you have to make room for new books.\n",
    "\n",
    "A slightly more complex approach is that you assign each shelf a range of letters, which are the first letters of the author names. For instance, the top shelf A-D (\"Aafjes\"-\"Dyson\"), the second shelf E-H, the third shelf I-L, etc. You then do the same as in the first approach, except that you place the books on the shelf where the author belongs. This will result in a lot less shifting of books. The disadvantage of the approach is that you probably are going to end up with some shelves that do not fill completely, while other shelves get overly full and you will have to reassign letters during the process.\n",
    "\n",
    "A third approach, if you have the space, is that you first sort the books in piles by the first letter of the author's last name. Thus you end up with about 26 piles of books on the floor. You then handle each pile separately, starting with the pile of authors whose name starts with an A. If a pile seems to be too big to handle in one go, you may repeat the process for that pile, for instance by splitting it into two or more smaller piles based on the second letter of the author's last name."
   ]
  },
  {
   "cell_type": "markdown",
   "metadata": {},
   "source": [
    "## Sorting a Deck of Cards"
   ]
  },
  {
   "cell_type": "markdown",
   "metadata": {},
   "source": [
    "Take a deck of cards, and shuffle it (yes, this is an exercise, so please do it). Now sort the deck as follows: on top of the deck will be all the Diamonds cards, ordered from 2 (lowest) to Ace (highest). Below that will be the Clubs, again ordered from 2 to Ace. Below that the Hearts, and at the bottom the Spades, again, both ordered from 2 to Ace. If there are any Jokers, put them on the bottom. Once you have finished doing it, think about which algorithm you used.\n",
    "\n",
    "It is more than likely that you first made four stacks of cards, each for one of the suits, and then sorted each of the stacks in your hand, as you can probably hold 13 cards in one hand. Alternatively, to sort a stack you may just have spread it out on the table, picked out the Ace and put it aside, then picked out the King and put it on top of the Ace, then picked up the Queen, etc. \n",
    "\n",
    "The point is that you probably would not have tried to sort all the cards at once, holding 52 (or more, with Jokers) in your hands while trying to move cards around until they are in the right order. You wouldn't have done it like that because you intuitively know that it makes for an unwieldy and inefficient process."
   ]
  },
  {
   "cell_type": "markdown",
   "metadata": {},
   "source": [
    "## Efficiency of Sorting a Deck of Cards in a Naive Way"
   ]
  },
  {
   "cell_type": "markdown",
   "metadata": {},
   "source": [
    "To estimate how efficient a particular method of sorting a deck of cards is, we can count how often you have to look at a particular card. Note: determining the efficiency of an algorithm means that you determine its \"time complexity\" (if it is about the speed of the algorithm). I will not discuss the formal approach to determine time complexity here, but will simply use the loose definition of \"counting looks at cards,\" which suffices for the purposes of this chapter.\n",
    "\n",
    "One way of sorting the deck would be to simply search the whole deck from to to bottom to find the first card, which would be the 2 of Diamonds. Once you have found the card, you put it aside, and search the deck for the next card, which would be the 3 of Diamonds. Once you have found it, you put it on top (or bottom, depending on how you are working) of the 2 of Diamonds. Then you search for the 4 of Diamonds, then the 5 of Diamonds, etc. You do this until you have sorted the deck.\n",
    "\n",
    "Assuming that the deck contains 52 cards (no Jokers), how many cards do you need to look at before you have sorted the deck using this algorithm? That depends on how the deck is shuffled. If, after shuffling, the deck was already sorted, you only need to look at 52 cards, because every time you search for a card, it will be the first one you look at. This is the \"best-case\" scenario.\n",
    "\n",
    "What is the \"worst-case\" scenario? That is that the deck is sorted in reverse order. Using the given procedure, you will have to look at 52 cards to find the 2 of Diamonds, at 51 cards to find the 3 of Diamonds, at 50 cards to find the 4 of Diamonds, etc. In total you will look at 1378 cards. \n",
    "\n",
    "In practice, you probably will look at less cards, because you will have found the card that you are looking for earlier than that. On average, the card you search for will be halfway through the remaining deck, so you can probably make do with about half the number of looks than in the worst-case scenario, so around 689 looks.\n",
    "\n",
    "In computer science, the approach to sorting a deck of cards as described here is called \"selection sort.\" It is known as a sorting algorithm that isn't as efficient as sorting can be, though it works fine if the number of items that need to be sorted is relatively small. \n",
    "\n",
    "Note that in selection sort you will always be looking for the \"lowest\" item in the remainder of the set of items you are sorting, without knowing what that lowest item actually is. For sorting the deck of cards, we knew which was the next card that we were looking for, and thus could stop searching when we found that card. However, if some cards would be missing from the deck, a sorting algorithm which would search for a specific card would not give the desired result. So it may be preferable to search for the \"lowest\" of the remaining cards rather than a specific card, but that would mean that for each pass through the deck, you would have to look at every card, and this would need the worst-case number of looks.\n",
    "\n",
    "A pseudo code description of selection sort is:\n"
   ]
  },
  {
   "cell_type": "code",
   "execution_count": null,
   "metadata": {
    "collapsed": true
   },
   "outputs": [],
   "source": [
    "# selection sort algorithm which sorts a list of items called \"items\"\n",
    "list sorteditems = 'empty set';\n",
    "while not items 'is empty'\n",
    "{\n",
    "    item lowestitem = 'the lowest item in list' items;\n",
    "    items.remove(lowestitem);\n",
    "    sorteditems.append(lowestitem);\n",
    "}"
   ]
  },
  {
   "cell_type": "markdown",
   "metadata": {},
   "source": [
    "If you want to turn this pseudo code into actual Python code, you should be able to go through it step by step and replace each line with legitimate Python. If you think a line cannot be implemented by a single line of Python, you can replace it with a function call, and implement that function later (more on this in the next chapter). However, the pseudo code above can be turned line by line into actual Python code. Try it, before you examine the solution below."
   ]
  },
  {
   "cell_type": "code",
   "execution_count": null,
   "metadata": {
    "collapsed": true
   },
   "outputs": [],
   "source": [
    "items = [4,7,17,12,0,-3,2,17,5,6,4,1,0,-6,8,23,11,10]\n",
    "\n",
    "# Here follows a translation to Python of the pseudo code given above.\n",
    "sorteditems = []\n",
    "while len( items ) > 0:\n",
    "    lowestitem = min( items )\n",
    "    items.remove( lowestitem )\n",
    "    sorteditems.append( lowestitem )\n",
    "    \n",
    "print( sorteditems )"
   ]
  },
  {
   "cell_type": "markdown",
   "metadata": {},
   "source": [
    "## Efficiency of Sorting a Deck of Cards in a Less Naive Way"
   ]
  },
  {
   "cell_type": "markdown",
   "metadata": {},
   "source": [
    "Let's now look at the sorting of a deck of cards in the way I described above, where you first split the deck into four piles, each of one suit, and then sort those piles before putting them together.\n",
    "\n",
    "To create the piles with the suits, you have to look at each card once, which is 52 looks. \n",
    "\n",
    "Now you have to find an approach to sort each of the piles. Let's use the same naive approach described above, which feels a lot less unwieldy for 13 cards than if you use it for the whole deck. In the worst-case scenario, you find the first card with 13 looks, the second card with 12 looks, the third card with 11 looks, etc. In total, in the worst-case scenario, you need 91 looks to sort a suit. On average it will be about 45.5 looks. For 4 suits, that will be a total of 182 looks.\n",
    "\n",
    "This means that, using the less naive approach, you need `52 + 182 = 234` looks. This is a considerable improvement over the 689 looks that we need for the naive approach. This means that, if you indeed used an approach in which you first sorted out the suits and then sorted the cards for each suit, you designed an algorithm that is considerably more efficient than if you naively went through the deck separately for each card.\n",
    "\n",
    "In computer science, this approach is called \"bucket sort\" for the creation of the four piles, followed by \"selection sort\" for each of the piles."
   ]
  },
  {
   "cell_type": "markdown",
   "metadata": {},
   "source": [
    "## More Efficient Sorting"
   ]
  },
  {
   "cell_type": "markdown",
   "metadata": {},
   "source": [
    "There are sorting methods which are more efficient than the two described above. Yet in practice you will not use them when you have to sort a deck of cards. The reason is that the more efficient algorithms split the deck of cards in more complex ways; to give an example: an algorithm could, for instance, instruct you to split the deck into three piles, with pile 1 containing all Diamonds cards and the Clubs up to the 8 of Clubs, pile 2 contains the remaining Clubs cards and the Hearts cards up to the Jack of Hearts, and pile 3 all the remaining cards. For a human, making such a split needs more concentration than just splitting the deck into piles which contain different suits. \n",
    "\n",
    "For a computer such distinctions need not matter. So when you design an algorithm that a computer should execute, you sometimes can make the algorithm \"better\" than an algorithm that you would have to execute manually, by taking into account that many things which are hard or non-intuitive for a human are actually easy for a computer.\n"
   ]
  },
  {
   "cell_type": "markdown",
   "metadata": {},
   "source": [
    "## Designing Algorithms for a Computer"
   ]
  },
  {
   "cell_type": "markdown",
   "metadata": {},
   "source": [
    "While I argued above that a computer may run algorithms which would be hard to use for a human, usually when you need to design an algorithm for a computer it makes sense to consider the question: \"how would I solve this problem if I had to do it manually?\" While pondering this question, you should not reject approaches because they would be too boring or too time-intensive. Since the algorithm you come up with would be used by a computer, it does not matter if it is boring or time-intensive, because we have computers to do the boring and time-intensive things for us. As long as the steps of the algorithm you design lead to the desired outcome, in principle you have found something that is worth your while to try out in code.\n",
    "\n",
    "My experience is that for many students the hint \"think about how you would do this task if you had to do it manually\" is insufficient to get them to design an algorithm. Therefore, in the next chapters I will describe approaches that you can use to come up with simple algorithms. My goal is to give you some handholds which you can use when you need to write code for a problem that you see for the first time."
   ]
  },
  {
   "cell_type": "markdown",
   "metadata": {},
   "source": [
    "---"
   ]
  },
  {
   "cell_type": "markdown",
   "metadata": {},
   "source": [
    "## Exercises"
   ]
  },
  {
   "cell_type": "markdown",
   "metadata": {},
   "source": [
    "### Exercise 3.1\n",
    "\n",
    "In the previous chapter you created a flow diagram for doing the dishes (Exercise 2.3). Turn this flow diagram into pseudo code.\n",
    "\n",
    "### Exercise 3.2\n",
    "\n",
    "Take two decks of cards with different-colored card backs (or, if you do not have those ready, imagine that you do). Shuffle the decks together. Now sort them again, as described in the chapter (Diamonds, Clubs, Hearts, Spades, and within each suit ordered from 2 to Ace), with each of the two card backs in their own pile. What algorithm do you use?\n",
    "\n",
    "### Exercise 3.3 \n",
    "\n",
    "In the previous exercise you probably first distributed the cards over two piles, by card back. Can you think of an algorithm of about similar efficiency that uses a different approach?\n",
    "\n",
    "### Exercise 3.4*\n",
    "\n",
    "Can you think of a different approach to sorting a deck of cards than the naive and slightly less naive ways discussed in the chapter? Can you estimate the efficiency of this approach?\n",
    "\n",
    "### Exercise 3.5**\n",
    "\n",
    "Design an algorithm to play tic-tac-toe. You do not have to play it attempting to win, you just have to play legal moves. This is easiest if you use a tic-tact-toe diagram with 9 numbered fields to play on. At least describe the algorithm in English, but if you can, turn it into a flow diagram or pseudo code. Or, for an extra challenge, real Python code.\n",
    "\n",
    "### Exercise 3.6**\n",
    "\n",
    "Consider the following approach to sort a deck of cards. You start by taking a random card from the deck, for instance, the first one. Then you go through the deck, putting all cards that need to be higher in the deck than the card you selected on top of the selected card, and putting all the other cards on the bottom of it. You can put the selected card sideways, so that you can see where it is. Once you have done this, the selected card is in the right spot in the deck, though all the other cards may not yet be. Now you repeat the procedure for the pile on top of the selected card, and the pile on the bottom of the selected card. You continue repeating the procedure for smaller and smaller piles until the deck is sorted. In computer science, this is called \"quicksort.\" The card that you select to split each of the piles is called the \"pivot\" for this algorithm.\n",
    "\n",
    "<ol>\n",
    "<li>If you do not understand how the described algorithm works, then try it out for a single suit of 13 cards. Things will soon fall into place.</li>\n",
    "<li>Assuming that the pivot always splits a pile of cards in two piles of about equal size, can you make an estimate of the efficiency of this approach to sorting a deck of cards?</li>\n",
    "<li>If you compare the efficiency of this approach with the slightly less naive approach discussed in the chapter, you will probably find that it seems to be a bit less efficient than that approach. However, suppose that a deck of cards consists of 4 suits of 25 cards each. Would the \"quicksort\" approach still be less efficient?</li>\n",
    "<li>Why would or wouldn't you use the quicksort approach in real life?</li>\n",
    "</ol>\n",
    "\n",
    "\n"
   ]
  },
  {
   "cell_type": "markdown",
   "metadata": {},
   "source": [
    "---"
   ]
  },
  {
   "cell_type": "markdown",
   "metadata": {},
   "source": [
    "End of Chapter 3. Version 1.0."
   ]
  }
 ],
 "metadata": {
  "kernelspec": {
   "display_name": "Python 3",
   "language": "python",
   "name": "python3"
  },
  "language_info": {
   "codemirror_mode": {
    "name": "ipython",
    "version": 3
   },
   "file_extension": ".py",
   "mimetype": "text/x-python",
   "name": "python",
   "nbconvert_exporter": "python",
   "pygments_lexer": "ipython3",
   "version": "3.6.1"
  }
 },
 "nbformat": 4,
 "nbformat_minor": 1
}
