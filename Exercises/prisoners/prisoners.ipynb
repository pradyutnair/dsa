{
 "cells": [
  {
   "cell_type": "code",
   "execution_count": 4,
   "metadata": {},
   "outputs": [],
   "source": [
    "import random\n",
    "\n",
    "def dict_creator():\n",
    "    \"\"\"\n",
    "    Creates a dictionary with keys from 1-100 and its values that are 1-100 and assigned randomly without repetition.\n",
    "    This denotes the box number as keys and the number within the box as the value\n",
    "\n",
    "    :return: dictionary of box number as its contained value\n",
    "    \"\"\"\n",
    "    dict1 = {}\n",
    "    values = list(range(1,101))\n",
    "    random.shuffle(values)\n",
    "    for i in range(1,101):\n",
    "        dict1[i] = values[i-1]\n",
    "        \n",
    "    return dict1\n",
    "\n",
    "\n",
    "def open_prisoner_boxes(input_file):\n",
    "    \"\"\"\n",
    "    Open text file and read the contents as a dictionary.\n",
    "    \"\"\"\n",
    "    with open(input_file, 'r') as f:\n",
    "        boxes = f.read()\n",
    "        boxes = boxes.splitlines()\n",
    "        keys = [int(i.split(',')[0]) for i in boxes]\n",
    "        values = [int(i.split(',')[1]) for i in boxes]\n",
    "    \n",
    "    # Adjoin two lists to form a dictionary using zip\n",
    "    p_dict = dict(zip(keys, values))\n",
    "    return p_dict\n",
    "\n",
    "\n",
    "def follow_sequence(input_dict: dict, prisoner_number: int, show_trace:bool = False) -> int:\n",
    "    \"\"\"\n",
    "    Follows the sequence until a loop occurs \n",
    "    \"\"\"\n",
    "    # Open the first box\n",
    "    v = input_dict[prisoner_number]\n",
    "    # Initialise sequence length\n",
    "    sequence = 1\n",
    "    # Initialise new variable\n",
    "    v1 = 0\n",
    "    # Store the first box number\n",
    "    first_box = [v]\n",
    "    # Loop until sequence is 50 or a loop occurs\n",
    "    if v != prisoner_number:\n",
    "        while sequence < 50:\n",
    "            v1 = input_dict[v]\n",
    "            if v1 == prisoner_number:\n",
    "                first_box.append(v1)\n",
    "                break\n",
    "            else:\n",
    "                v = v1\n",
    "                first_box.append(v)\n",
    "            sequence += 1\n",
    "    if show_trace:\n",
    "        print(first_box)\n",
    "    return sequence\n",
    "\n",
    "def calculate_success_rate(seq_list: list):\n",
    "    \"\"\"\n",
    "    \"\"\"\n",
    "    # Return the sum of items less than 50 in the list\n",
    "    return sum([1 for i in seq_list if i < 50])\n"
   ]
  },
  {
   "cell_type": "markdown",
   "metadata": {},
   "source": [
    "Pseduocode\n",
    "\n",
    "for all prisoners from 1....100:\n",
    "   each prisoner opens their own box\n",
    "   therefore, get the value of dict[i] -> v [i = prisoner #]\n",
    "   initialise sequence as seq <- 1\n",
    "   while sequence < 50:\n",
    "     using v, go to dict[v] -> v_1\n",
    "     if v_1 = i: break\n",
    "     else:\n",
    "     v = v_1\n",
    "     sequence+= 1\n",
    "   stop\n",
    "\n"
   ]
  },
  {
   "cell_type": "code",
   "execution_count": 5,
   "metadata": {},
   "outputs": [],
   "source": [
    "random_assigned_boxes = dict_creator()\n",
    "prisoner_boxes = open_prisoner_boxes('prisoners_40.txt')"
   ]
  },
  {
   "cell_type": "code",
   "execution_count": 6,
   "metadata": {},
   "outputs": [
    {
     "name": "stdout",
     "output_type": "stream",
     "text": [
      "45\n",
      "Oops, only 45 successful attempts\n"
     ]
    }
   ],
   "source": [
    "sequences = [follow_sequence(input_dict=random_assigned_boxes, prisoner_number=prison) for prison in range(1, 101)]\n",
    "# Caclulate success rate\n",
    "successful_attempts = calculate_success_rate(sequences)\n",
    "# Print it\n",
    "print(successful_attempts)\n",
    "# If all prisoners succeed, they are free. Otherwise boom shiva\n",
    "condition = successful_attempts == 100\n",
    "if condition:\n",
    "    statement = 'The prisoners survived!'\n",
    "else:\n",
    "    statement = f'Oops, only {successful_attempts} successful attempts'\n",
    "print(statement)"
   ]
  },
  {
   "cell_type": "code",
   "execution_count": 7,
   "metadata": {},
   "outputs": [
    {
     "name": "stdout",
     "output_type": "stream",
     "text": [
      "prisoners_40.txt\n",
      "45\n",
      "Oops, only 45 successful attempts\n",
      " \n",
      "prisoners_43.txt\n",
      "45\n",
      "Oops, only 45 successful attempts\n",
      " \n",
      "prisoners_46.txt\n",
      "45\n",
      "Oops, only 45 successful attempts\n",
      " \n",
      "prisoners_54.txt\n",
      "45\n",
      "Oops, only 45 successful attempts\n",
      " \n",
      "prisoners_74.txt\n",
      "45\n",
      "Oops, only 45 successful attempts\n",
      " \n",
      "prisoners_91.txt\n",
      "45\n",
      "Oops, only 45 successful attempts\n",
      " \n",
      "prisoners_99.txt\n",
      "45\n",
      "Oops, only 45 successful attempts\n",
      " \n",
      "prisoners_100.txt\n",
      "45\n",
      "Oops, only 45 successful attempts\n",
      " \n"
     ]
    }
   ],
   "source": [
    "box_list_suffixes = [40,43,46,54,74,91,99,100]\n",
    "text_files = ['prisoners_' + str(b) + '.txt' for b in box_list_suffixes]\n",
    "for file in text_files:\n",
    "    prisoner_boxes = open_prisoner_boxes(input_file=file)\n",
    "    sequences = [follow_sequence(input_dict=random_assigned_boxes, prisoner_number=prison) for prison in range(1, 101)]\n",
    "    # Caclulate success rate\n",
    "    successful_attempts = calculate_success_rate(sequences)\n",
    "    print(file)\n",
    "    # Print it\n",
    "    print(successful_attempts)\n",
    "    # If all prisoners succeed, they are free. Otherwise boom shiva\n",
    "    condition = successful_attempts == 100\n",
    "    if condition:\n",
    "        statement = 'The prisoners survived!'\n",
    "    else:\n",
    "        statement = f'Oops, only {successful_attempts} successful attempts'\n",
    "    print(statement, end=\"\\n\")\n",
    "    print(\" \")"
   ]
  },
  {
   "cell_type": "code",
   "execution_count": 15,
   "metadata": {},
   "outputs": [
    {
     "name": "stdout",
     "output_type": "stream",
     "text": [
      "Probability of all prisoners succeeding: 0.3030\n"
     ]
    },
    {
     "data": {
      "image/png": "[encoded data removed]",
      "text/plain": [
       "<Figure size 640x480 with 1 Axes>"
      ]
     },
     "metadata": {},
     "output_type": "display_data"
    }
   ],
   "source": [
    "import random\n",
    "import matplotlib.pyplot as plt\n",
    "import numpy as np\n",
    "\n",
    "# Set the seed\n",
    "np.random.seed(42)\n",
    "\n",
    "# Number of simulations\n",
    "num_simulations = 1000\n",
    "\n",
    "# Initialize a list to store the results of each simulation\n",
    "results = []\n",
    "\n",
    "# Run the Monte Carlo simulation\n",
    "for _ in range(num_simulations):\n",
    "    random_assigned_boxes = dict_creator()\n",
    "    sequences = [follow_sequence(input_dict=random_assigned_boxes, prisoner_number=prison) for prison in range(1, 101)]\n",
    "    successful_attempts = calculate_success_rate(sequences)\n",
    "    results.append(successful_attempts)\n",
    "\n",
    "# Calculate the success rate (probability of all prisoners succeeding)\n",
    "success_probability = sum(1 for attempts in results if attempts == 100) / num_simulations\n",
    "\n",
    "# Print the success probability\n",
    "print(f\"Probability of all prisoners succeeding: {success_probability:.4f}\")\n",
    "\n",
    "# Plot a histogram of the distribution of successful attempts\n",
    "plt.hist(results, bins=range(0, 101, 5), edgecolor='black', alpha=0.7)\n",
    "plt.xlabel('Successful Attempts')\n",
    "plt.ylabel('Frequency')\n",
    "plt.title('Distribution of Successful Attempts in Monte Carlo Simulation')\n",
    "plt.show()"
   ]
  }
 ],
 "metadata": {
  "kernelspec": {
   "display_name": "base",
   "language": "python",
   "name": "python3"
  },
  "language_info": {
   "codemirror_mode": {
    "name": "ipython",
    "version": 3
   },
   "file_extension": ".py",
   "mimetype": "text/x-python",
   "name": "python",
   "nbconvert_exporter": "python",
   "pygments_lexer": "ipython3",
   "version": "3.10.9"
  },
  "orig_nbformat": 4
 },
 "nbformat": 4,
 "nbformat_minor": 2
}
